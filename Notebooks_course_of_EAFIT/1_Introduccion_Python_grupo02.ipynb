{
 "cells": [
  {
   "cell_type": "markdown",
   "id": "eb3d33f3",
   "metadata": {
    "ExecuteTime": {
     "end_time": "2021-08-14T13:19:03.554126Z",
     "start_time": "2021-08-14T13:19:00.748625Z"
    }
   },
   "source": [
    "# Introducción a la programación con Python y Estructuras basicas"
   ]
  },
  {
   "cell_type": "markdown",
   "id": "df4ed649",
   "metadata": {},
   "source": [
    "Python es un lenguaje de programación de alto nivel (sintaxis simple), interpretado, interactivo y orientado a objetos:\n",
    "\n",
    "* **Interpretado**: Python es procesado al momento de la ejecución por el interpretador. No se necesita de un proceso previo de compilación para la posterior ejecución del programa.\n",
    "\n",
    "* **Interactivo**: Podemos interactuar con el intérprete directamente para escribir los programas.\n",
    "\n",
    "* **Orientado a objetos**: Python es un lenguaje orientado a objetos, una técnica de programación que encapsula el código dentro de objetos.\n",
    "\n",
    "**Ejecutando código de Python**\n",
    "\n",
    "Existen diferentes maneras de ejecutar código de Python, ya sea en Visual Studio Code, siendo este uno de los editores de código mas populares y de uso libre, pero en la ciencia de datos resulta siendo más útili utilizar los Notebooks, nosotros usaremos un enfoque interactivo proporcionado por los *Notebooks de Jupyter*. "
   ]
  },
  {
   "cell_type": "markdown",
   "id": "8379e7cb",
   "metadata": {},
   "source": [
    "## Tipos datos de datos básicos"
   ]
  },
  {
   "cell_type": "code",
   "execution_count": 1,
   "id": "457c804b",
   "metadata": {
    "ExecuteTime": {
     "end_time": "2021-08-14T17:00:48.718909Z",
     "start_time": "2021-08-14T17:00:48.696928Z"
    }
   },
   "outputs": [
    {
     "ename": "SyntaxError",
     "evalue": "invalid syntax (Temp/ipykernel_1472/3360332986.py, line 2)",
     "output_type": "error",
     "traceback": [
      "\u001b[1;36m  File \u001b[1;32m\"C:\\Users\\DAVID~1.PIE\\AppData\\Local\\Temp/ipykernel_1472/3360332986.py\"\u001b[1;36m, line \u001b[1;32m2\u001b[0m\n\u001b[1;33m    int numero;\u001b[0m\n\u001b[1;37m        ^\u001b[0m\n\u001b[1;31mSyntaxError\u001b[0m\u001b[1;31m:\u001b[0m invalid syntax\n"
     ]
    }
   ],
   "source": [
    "## codigo en C#\n",
    "int numero;\n",
    "numero = 6;\n",
    "\n",
    "## Codigo C++\n",
    "int numero;\n",
    "numero = 6;"
   ]
  },
  {
   "cell_type": "code",
   "execution_count": null,
   "id": "283d11cf",
   "metadata": {},
   "outputs": [],
   "source": [
    "## Sintaxis de python\n",
    "numero = 6"
   ]
  },
  {
   "cell_type": "code",
   "execution_count": null,
   "id": "22be9ab3",
   "metadata": {},
   "outputs": [],
   "source": [
    "#numero enteros\n",
    "numero_entero = 8  #---> tipo int\n",
    "\n",
    "#numeros decimales float\n",
    "numero_decimal = 7.232 # ---> tipo float\n",
    "\n",
    "#Datos booleanos\n",
    "dato_bool = True # ---> tipo bool\n",
    "dato_bool = False\n",
    "\n",
    "#Dato string o cadena de caracteres \n",
    "dato_string = \"python\" # ---> tipo str\n",
    "dato_string = \" \"\n",
    "dato_string = \"python version 3.8\"\n",
    "dato_string = 'python version 3.8'"
   ]
  },
  {
   "cell_type": "markdown",
   "id": "d6b8df13",
   "metadata": {},
   "source": [
    "# Palabras claves reservadas"
   ]
  },
  {
   "cell_type": "markdown",
   "id": "c0750be9",
   "metadata": {},
   "source": [
    "Ahora hablemos de lo que son algunos objetos en python. Las variables.\n",
    "Los nombres de las variables en Python pueden contener caracteres alfanuméricos *a-z*, *A-Z*, *0-9* y algunos caracteres especiales como _. Los nombres de las variables deben comenzar con una letra. \n",
    "\n",
    "Por convención, los nombres de las variables comienzan con letras minúsculas, y los nombres de las Clases con letras mayúsculas.\n",
    "\n",
    "Adicionalmente, existe un número de palabras claves que no pueden ser usadas como nombres de variables. Estas palabras claves son:\n",
    "\n",
    "```Python\n",
    "and, as, assert, break, class, continue, def, del, elif, else, except, exec, finally, for, from, global, if, import, in, is, lambda, not, or, pass, print, raise, return, try, while, with, yield, type\n",
    "```\n",
    "Las palabras clave se reconocen porque todas se \"ponen\" de color verde\n"
   ]
  },
  {
   "cell_type": "code",
   "execution_count": null,
   "id": "19b2f63f",
   "metadata": {
    "ExecuteTime": {
     "end_time": "2021-11-23T23:58:21.591309Z",
     "start_time": "2021-11-23T23:58:21.576319Z"
    }
   },
   "outputs": [],
   "source": [
    "# como ejecutar una celda de codigo con el teclado\n",
    "# enter + shift\n",
    "# enter + ctrl"
   ]
  },
  {
   "cell_type": "code",
   "execution_count": null,
   "id": "acb74ac8",
   "metadata": {
    "ExecuteTime": {
     "end_time": "2021-11-24T00:01:01.547355Z",
     "start_time": "2021-11-24T00:01:01.529367Z"
    }
   },
   "outputs": [],
   "source": [
    "variable_1 = 0\n",
    "\n",
    "# continue = 342432  ----> evitar este tipo de asignaciones a las palabras reservadas"
   ]
  },
  {
   "cell_type": "markdown",
   "id": "21c78d8a",
   "metadata": {},
   "source": [
    "# Listas"
   ]
  },
  {
   "cell_type": "markdown",
   "id": "71f4511a",
   "metadata": {},
   "source": [
    "En esta sección se presenta uno de los tipos integrados más útiles de Python, las **listas**.\n",
    "\n",
    "Al igual que un **string**, una lista es una secuencia de valores. En un string los valores son caracteres; en una **lista**, se puede tener **cualquier tipo**. Los **valores de una lista** se denominan **elementos**.\n",
    "\n",
    "Hay varias formas de crear una nueva lista; la forma más simple es encerrar los elementos entre corchetes `[a,b,c]`:"
   ]
  },
  {
   "cell_type": "code",
   "execution_count": null,
   "id": "ce3e0219",
   "metadata": {
    "ExecuteTime": {
     "end_time": "2021-11-24T00:19:49.956349Z",
     "start_time": "2021-11-24T00:19:49.933360Z"
    }
   },
   "outputs": [],
   "source": [
    "lista = [122, 21312, 1231]\n",
    "lista_aux = [1212, \"hola\", \"Eafit\", True, False]\n",
    "lista_aux_2 = [1212, \"hola\", \"Eafit\", True, False, [23, \"1152892322\", [\"David\", \"Piedrahita\", \"Florez\"]]]"
   ]
  },
  {
   "cell_type": "code",
   "execution_count": null,
   "id": "f611ef60",
   "metadata": {
    "ExecuteTime": {
     "end_time": "2021-11-24T00:17:38.755432Z",
     "start_time": "2021-11-24T00:17:38.693469Z"
    }
   },
   "outputs": [],
   "source": [
    "lista_aux"
   ]
  },
  {
   "cell_type": "code",
   "execution_count": null,
   "id": "120b8424",
   "metadata": {
    "ExecuteTime": {
     "end_time": "2021-11-24T00:19:54.329171Z",
     "start_time": "2021-11-24T00:19:54.305187Z"
    }
   },
   "outputs": [],
   "source": [
    "lista_aux_2"
   ]
  },
  {
   "cell_type": "markdown",
   "id": "d323a6c5",
   "metadata": {},
   "source": [
    "## Consultar el tipo de dato"
   ]
  },
  {
   "cell_type": "code",
   "execution_count": 2,
   "id": "93c3dceb",
   "metadata": {
    "ExecuteTime": {
     "end_time": "2021-11-24T00:21:43.015393Z",
     "start_time": "2021-11-24T00:21:42.992405Z"
    }
   },
   "outputs": [
    {
     "data": {
      "text/plain": [
       "int"
      ]
     },
     "execution_count": 2,
     "metadata": {},
     "output_type": "execute_result"
    }
   ],
   "source": [
    "num = 5\n",
    "type(num)"
   ]
  },
  {
   "cell_type": "code",
   "execution_count": 3,
   "id": "659b07ce",
   "metadata": {
    "ExecuteTime": {
     "end_time": "2021-11-24T00:22:42.500607Z",
     "start_time": "2021-11-24T00:22:42.470623Z"
    }
   },
   "outputs": [
    {
     "data": {
      "text/plain": [
       "float"
      ]
     },
     "execution_count": 3,
     "metadata": {},
     "output_type": "execute_result"
    }
   ],
   "source": [
    "num = 5.9\n",
    "type(num)"
   ]
  },
  {
   "cell_type": "code",
   "execution_count": 4,
   "id": "09abc447",
   "metadata": {
    "ExecuteTime": {
     "end_time": "2021-11-24T00:23:01.522566Z",
     "start_time": "2021-11-24T00:23:01.503576Z"
    }
   },
   "outputs": [
    {
     "data": {
      "text/plain": [
       "str"
      ]
     },
     "execution_count": 4,
     "metadata": {},
     "output_type": "execute_result"
    }
   ],
   "source": [
    "palabra = \"texto\"\n",
    "type(palabra)"
   ]
  },
  {
   "cell_type": "code",
   "execution_count": 5,
   "id": "45931e58",
   "metadata": {
    "ExecuteTime": {
     "end_time": "2021-11-24T00:23:38.285420Z",
     "start_time": "2021-11-24T00:23:38.273425Z"
    }
   },
   "outputs": [
    {
     "ename": "NameError",
     "evalue": "name 'lista_aux_2' is not defined",
     "output_type": "error",
     "traceback": [
      "\u001b[1;31m---------------------------------------------------------------------------\u001b[0m",
      "\u001b[1;31mNameError\u001b[0m                                 Traceback (most recent call last)",
      "\u001b[1;32mC:\\Users\\DAVID~1.PIE\\AppData\\Local\\Temp/ipykernel_1472/4168447209.py\u001b[0m in \u001b[0;36m<module>\u001b[1;34m\u001b[0m\n\u001b[1;32m----> 1\u001b[1;33m \u001b[0mtype\u001b[0m\u001b[1;33m(\u001b[0m\u001b[0mlista_aux_2\u001b[0m\u001b[1;33m)\u001b[0m\u001b[1;33m\u001b[0m\u001b[1;33m\u001b[0m\u001b[0m\n\u001b[0m",
      "\u001b[1;31mNameError\u001b[0m: name 'lista_aux_2' is not defined"
     ]
    }
   ],
   "source": [
    "type(lista_aux_2)"
   ]
  },
  {
   "cell_type": "markdown",
   "id": "a6100daa",
   "metadata": {},
   "source": [
    "# Manipular listas"
   ]
  },
  {
   "cell_type": "markdown",
   "id": "87630ff2",
   "metadata": {},
   "source": [
    "- Consultar metodos de listas: https://docs.python.org/es/3/tutorial/datastructures.html"
   ]
  },
  {
   "cell_type": "markdown",
   "id": "8c11a115",
   "metadata": {},
   "source": [
    "Para acceder a los elementos de la lista lo hacemos mediante siguiendo la indexación \n",
    "\n",
    "`listas[0]`$\\rightarrow$ elemento 1 de la lista.\n",
    "\n",
    "`listas[1]`$\\rightarrow$ elemento 2 de la lista.\n",
    "\n",
    "`listas[2]`$\\rightarrow$ elemento 3 de la lista.\n",
    "\n",
    "`listas[3]`$\\rightarrow$ elemento 4 de la lista.\n",
    "\n",
    "Acceder a un rango determinado de datos dentro de la lista:\n",
    "\n",
    "`listas[0:3]`$\\rightarrow$ elemento 0 al elemento 3\n",
    "\n",
    "Acceder al último elemento de lista:\n",
    "\n",
    "`listas[-1]`$\\rightarrow$ elemento final de la lista\n"
   ]
  },
  {
   "cell_type": "code",
   "execution_count": null,
   "id": "a280aa50",
   "metadata": {
    "ExecuteTime": {
     "end_time": "2021-11-24T00:31:05.517625Z",
     "start_time": "2021-11-24T00:31:05.496636Z"
    }
   },
   "outputs": [],
   "source": [
    "lista_num = [122, 21312, 1231]"
   ]
  },
  {
   "cell_type": "code",
   "execution_count": null,
   "id": "4f6f0317",
   "metadata": {
    "ExecuteTime": {
     "end_time": "2021-11-24T00:31:42.120133Z",
     "start_time": "2021-11-24T00:31:42.102145Z"
    }
   },
   "outputs": [],
   "source": [
    "lista_num[0]"
   ]
  },
  {
   "cell_type": "code",
   "execution_count": null,
   "id": "6ef1c557",
   "metadata": {
    "ExecuteTime": {
     "end_time": "2021-11-24T00:31:59.103959Z",
     "start_time": "2021-11-24T00:31:59.093963Z"
    }
   },
   "outputs": [],
   "source": [
    "lista_num[1]"
   ]
  },
  {
   "cell_type": "code",
   "execution_count": null,
   "id": "dbed8e93",
   "metadata": {
    "ExecuteTime": {
     "end_time": "2021-11-24T00:32:31.992228Z",
     "start_time": "2021-11-24T00:32:31.965244Z"
    }
   },
   "outputs": [],
   "source": [
    "lista_num[2]"
   ]
  },
  {
   "cell_type": "code",
   "execution_count": null,
   "id": "86df694b",
   "metadata": {
    "ExecuteTime": {
     "end_time": "2021-11-24T00:32:46.042488Z",
     "start_time": "2021-11-24T00:32:46.007511Z"
    }
   },
   "outputs": [],
   "source": [
    "lista_num[3]"
   ]
  },
  {
   "cell_type": "code",
   "execution_count": null,
   "id": "7b010b91",
   "metadata": {
    "ExecuteTime": {
     "end_time": "2021-11-24T00:35:07.542948Z",
     "start_time": "2021-11-24T00:35:07.527957Z"
    }
   },
   "outputs": [],
   "source": [
    "lista_num"
   ]
  },
  {
   "cell_type": "code",
   "execution_count": null,
   "id": "2ea7cf71",
   "metadata": {
    "ExecuteTime": {
     "end_time": "2021-11-24T00:35:15.518193Z",
     "start_time": "2021-11-24T00:35:15.494161Z"
    }
   },
   "outputs": [],
   "source": [
    "lista_num[-1]"
   ]
  },
  {
   "cell_type": "code",
   "execution_count": null,
   "id": "46f8166b",
   "metadata": {
    "ExecuteTime": {
     "end_time": "2021-11-24T00:35:26.172208Z",
     "start_time": "2021-11-24T00:35:26.153215Z"
    }
   },
   "outputs": [],
   "source": [
    "lista_num[-2]"
   ]
  },
  {
   "cell_type": "code",
   "execution_count": null,
   "id": "2808aec5",
   "metadata": {
    "ExecuteTime": {
     "end_time": "2021-11-24T00:35:39.211950Z",
     "start_time": "2021-11-24T00:35:39.190964Z"
    }
   },
   "outputs": [],
   "source": [
    "lista_num[-3]"
   ]
  },
  {
   "cell_type": "markdown",
   "id": "63a49c38",
   "metadata": {},
   "source": [
    "## Extraer multiples elementos de una lista"
   ]
  },
  {
   "cell_type": "code",
   "execution_count": null,
   "id": "904289ea",
   "metadata": {
    "ExecuteTime": {
     "end_time": "2021-11-24T00:47:23.114838Z",
     "start_time": "2021-11-24T00:47:23.086863Z"
    }
   },
   "outputs": [],
   "source": [
    "lista_num_2 = [\"hola\", \"mundo\", \"python\", \"eafit\", \"Datos\"]\n",
    "#                0        1        2         3        4\n",
    "lista_num_2"
   ]
  },
  {
   "cell_type": "code",
   "execution_count": null,
   "id": "82383c7b",
   "metadata": {
    "ExecuteTime": {
     "end_time": "2021-11-24T00:49:14.457072Z",
     "start_time": "2021-11-24T00:49:14.440083Z"
    }
   },
   "outputs": [],
   "source": [
    "lista_num_2[0:3]"
   ]
  },
  {
   "cell_type": "code",
   "execution_count": null,
   "id": "5dd4e2fb",
   "metadata": {
    "ExecuteTime": {
     "end_time": "2021-11-24T00:49:38.673952Z",
     "start_time": "2021-11-24T00:49:38.660960Z"
    }
   },
   "outputs": [],
   "source": [
    "lista_num_2[3:5]"
   ]
  },
  {
   "cell_type": "code",
   "execution_count": null,
   "id": "dc22fb9e",
   "metadata": {
    "ExecuteTime": {
     "end_time": "2021-11-24T00:50:10.349874Z",
     "start_time": "2021-11-24T00:50:10.331883Z"
    }
   },
   "outputs": [],
   "source": [
    "lista_num_2[3:4]"
   ]
  },
  {
   "cell_type": "code",
   "execution_count": null,
   "id": "34f38ea6",
   "metadata": {
    "ExecuteTime": {
     "end_time": "2021-11-24T00:50:13.861192Z",
     "start_time": "2021-11-24T00:50:13.849203Z"
    }
   },
   "outputs": [],
   "source": [
    "lista_num_2[3]"
   ]
  },
  {
   "cell_type": "markdown",
   "id": "70eb426e",
   "metadata": {},
   "source": [
    "## Extraer elementos de una lista dentro de una lista"
   ]
  },
  {
   "cell_type": "code",
   "execution_count": null,
   "id": "65ac8c0d",
   "metadata": {
    "ExecuteTime": {
     "end_time": "2021-11-24T00:55:20.035520Z",
     "start_time": "2021-11-24T00:55:20.010534Z"
    }
   },
   "outputs": [],
   "source": [
    "lista_aux_1 = [1212, \"hola\", \"Eafit\", True, False]\n",
    "lista_aux_2 = [1212, \"hola\", \"Eafit\", True, False, [23, \"1152892322\"]]\n",
    "lista_aux_3 = [1212, \"hola\", \"Eafit\", True, False, [23, \"1152892322\", [\"David\", \"Piedrahita\", \"Florez\"]]]"
   ]
  },
  {
   "cell_type": "code",
   "execution_count": null,
   "id": "b27edef0",
   "metadata": {
    "ExecuteTime": {
     "end_time": "2021-11-24T00:55:58.729556Z",
     "start_time": "2021-11-24T00:55:58.710567Z"
    }
   },
   "outputs": [],
   "source": [
    "lista_aux_2[5][0]"
   ]
  },
  {
   "cell_type": "code",
   "execution_count": null,
   "id": "e0e50b92",
   "metadata": {
    "ExecuteTime": {
     "end_time": "2021-11-24T00:56:59.540284Z",
     "start_time": "2021-11-24T00:56:59.523292Z"
    }
   },
   "outputs": [],
   "source": [
    "lista_aux_3[5][2][1]"
   ]
  },
  {
   "cell_type": "markdown",
   "id": "9cf71d62",
   "metadata": {},
   "source": [
    "# Diccionario"
   ]
  },
  {
   "cell_type": "markdown",
   "id": "fb79f35b",
   "metadata": {},
   "source": [
    "Los diccionarios son también parecidos a las listas, excepto que cada elemento es una pareja clave y valor. La sintaxis en los diccionarios es de la forma \n",
    "\n",
    "```Python\n",
    "diccionario = {\n",
    "    \"clave_1\" : valor1, \n",
    "    \"clave_2\" : valor2,\n",
    "         .         .\n",
    "         .         .\n",
    "         .         .\n",
    "         .         .,\n",
    "    \"clave_N\" : valorN\n",
    "}\n",
    "```\n",
    "\n",
    "El valor de cada clave puede ser desde un valor numerico hasta datos como listas, arrays y hasta DataFrames"
   ]
  },
  {
   "cell_type": "code",
   "execution_count": null,
   "id": "642c61b6",
   "metadata": {
    "ExecuteTime": {
     "end_time": "2021-11-25T23:14:55.123069Z",
     "start_time": "2021-11-25T23:14:55.083582Z"
    }
   },
   "outputs": [],
   "source": [
    "diccionario_num = {\n",
    "    \"numero_decimal\": 3.7 \n",
    "}\n",
    "\n",
    "diccionario_num"
   ]
  },
  {
   "cell_type": "code",
   "execution_count": null,
   "id": "157eccae",
   "metadata": {
    "ExecuteTime": {
     "end_time": "2021-11-25T23:17:05.741107Z",
     "start_time": "2021-11-25T23:17:05.719123Z"
    }
   },
   "outputs": [],
   "source": [
    "diccionario_num = {\n",
    "    \"numero_decimal\": 3.7,\n",
    "    \"numero_entero\": 44\n",
    "}\n",
    "\n",
    "print(diccionario_num)\n",
    "type(diccionario_num)"
   ]
  },
  {
   "cell_type": "code",
   "execution_count": null,
   "id": "6bc7ec8e",
   "metadata": {},
   "outputs": [],
   "source": [
    "# int\n",
    "# float\n",
    "# bool\n",
    "# str\n",
    "# list\n",
    "# dict"
   ]
  },
  {
   "cell_type": "code",
   "execution_count": null,
   "id": "6fff46f3",
   "metadata": {
    "ExecuteTime": {
     "end_time": "2021-11-25T23:35:37.330456Z",
     "start_time": "2021-11-25T23:35:37.318466Z"
    }
   },
   "outputs": [],
   "source": [
    "dict_1 = {\n",
    "    \"ciudades\": [\"Medellin\", \"Cartagena\", \"Popayan\"],\n",
    "    \"departamentos\": [\"Antioquia\", \"Bolivar\", \"Cauca\"],\n",
    "    \"pais\": [\"Colombia\"],\n",
    "    \"pueblos\": [\"Santa Fe\"]\n",
    "}\n",
    "\n",
    "dict_1"
   ]
  },
  {
   "cell_type": "markdown",
   "id": "5b61a314",
   "metadata": {
    "ExecuteTime": {
     "end_time": "2021-08-14T13:55:14.484502Z",
     "start_time": "2021-08-14T13:55:14.464518Z"
    }
   },
   "source": [
    "# Manipular diccionarios"
   ]
  },
  {
   "cell_type": "code",
   "execution_count": null,
   "id": "85f132a8",
   "metadata": {
    "ExecuteTime": {
     "end_time": "2021-11-25T23:28:13.707513Z",
     "start_time": "2021-11-25T23:28:13.692516Z"
    }
   },
   "outputs": [],
   "source": [
    "print(dict_1[\"ciudades\"])\n",
    "print(dict_1[\"departamentos\"])"
   ]
  },
  {
   "cell_type": "code",
   "execution_count": null,
   "id": "7a83318b",
   "metadata": {
    "ExecuteTime": {
     "end_time": "2021-11-25T23:24:06.443508Z",
     "start_time": "2021-11-25T23:24:06.423523Z"
    }
   },
   "outputs": [],
   "source": [
    "dict_1[\"departamentos\"][1]"
   ]
  },
  {
   "cell_type": "code",
   "execution_count": null,
   "id": "12dcfc2e",
   "metadata": {
    "ExecuteTime": {
     "end_time": "2021-11-25T23:25:24.270376Z",
     "start_time": "2021-11-25T23:25:24.254386Z"
    }
   },
   "outputs": [],
   "source": [
    "dict_1[\"pais\"][0]"
   ]
  },
  {
   "cell_type": "code",
   "execution_count": null,
   "id": "7af7e5d3",
   "metadata": {
    "ExecuteTime": {
     "end_time": "2021-11-25T23:27:57.507355Z",
     "start_time": "2021-11-25T23:27:57.484372Z"
    }
   },
   "outputs": [],
   "source": [
    "dict_1[\"departamentos\"]"
   ]
  },
  {
   "cell_type": "code",
   "execution_count": null,
   "id": "69d0ec3c",
   "metadata": {
    "ExecuteTime": {
     "end_time": "2021-11-25T23:29:45.107773Z",
     "start_time": "2021-11-25T23:29:45.096784Z"
    }
   },
   "outputs": [],
   "source": [
    "dict_2 = {\n",
    "    \"ciudades\": dict_1[\"ciudades\"],\n",
    "    \"departamentos\": dict_1[\"departamentos\"]\n",
    "}\n",
    "\n",
    "dict_2"
   ]
  },
  {
   "cell_type": "markdown",
   "id": "a0cc796f",
   "metadata": {},
   "source": [
    "## Consultar llaves del diccionario"
   ]
  },
  {
   "cell_type": "code",
   "execution_count": null,
   "id": "8f44af3d",
   "metadata": {
    "ExecuteTime": {
     "end_time": "2021-11-25T23:46:36.659767Z",
     "start_time": "2021-11-25T23:46:36.645777Z"
    }
   },
   "outputs": [],
   "source": [
    "y = 3"
   ]
  },
  {
   "cell_type": "code",
   "execution_count": null,
   "id": "91f65227",
   "metadata": {
    "ExecuteTime": {
     "end_time": "2021-11-25T23:36:23.763528Z",
     "start_time": "2021-11-25T23:36:23.743539Z"
    }
   },
   "outputs": [],
   "source": [
    "dict_1.keys()"
   ]
  },
  {
   "cell_type": "code",
   "execution_count": null,
   "id": "518eb3fe",
   "metadata": {
    "ExecuteTime": {
     "end_time": "2021-11-25T23:42:07.261647Z",
     "start_time": "2021-11-25T23:42:07.244660Z"
    }
   },
   "outputs": [],
   "source": [
    "dict_1.values()"
   ]
  },
  {
   "cell_type": "code",
   "execution_count": null,
   "id": "3ac92ab3",
   "metadata": {
    "ExecuteTime": {
     "end_time": "2021-11-25T23:43:00.613250Z",
     "start_time": "2021-11-25T23:43:00.601261Z"
    }
   },
   "outputs": [],
   "source": [
    "dict_1.items()"
   ]
  },
  {
   "cell_type": "code",
   "execution_count": null,
   "id": "abb1db8d",
   "metadata": {
    "ExecuteTime": {
     "end_time": "2021-11-25T23:47:41.002489Z",
     "start_time": "2021-11-25T23:47:40.993497Z"
    }
   },
   "outputs": [],
   "source": [
    "dict_1.clear()\n",
    "dict_1"
   ]
  },
  {
   "cell_type": "code",
   "execution_count": null,
   "id": "93368495",
   "metadata": {
    "ExecuteTime": {
     "end_time": "2021-11-25T23:44:09.838581Z",
     "start_time": "2021-11-25T23:44:09.826587Z"
    }
   },
   "outputs": [],
   "source": [
    "dict_1[\"pais\"]"
   ]
  },
  {
   "cell_type": "markdown",
   "id": "f1e66f6d",
   "metadata": {
    "ExecuteTime": {
     "end_time": "2021-08-14T14:05:35.807130Z",
     "start_time": "2021-08-14T14:05:35.787139Z"
    }
   },
   "source": [
    "# Estructura if, elif y else"
   ]
  },
  {
   "cell_type": "markdown",
   "id": "070886d4",
   "metadata": {},
   "source": [
    "## If\n",
    "If para python es un condicional. Algunos autores lo llamarán una estructura de control, con lo cual solo quieren ilustrar lo que se ha querido decir en la definición de condicional. Esta estructura permite que un programa ejecute unas instrucciones cuando se cumplan una condición. Es importante notar la palabra \"if\" en inglés traduce \"si\" como condición, no \"sí\" como afirmación.\n",
    "\n",
    "La sintaxis del condicional if es\n",
    "\n",
    "\n",
    "\n",
    "```Python\n",
    "if condición :\n",
    "    <bloque de codigo a ejecutar si la condicion se cumple>\n",
    "```\n"
   ]
  },
  {
   "cell_type": "code",
   "execution_count": null,
   "id": "d566bee9",
   "metadata": {},
   "outputs": [],
   "source": [
    "## c#\n",
    "\n",
    "if (3 == 4){\n",
    "    Console.Write(\"Hola mundo\")\n",
    "}\n",
    "\n",
    "## C++\n",
    "if (3 == 4){\n",
    "    printf(\"Hola mundo\")\n",
    "}"
   ]
  },
  {
   "cell_type": "code",
   "execution_count": null,
   "id": "6e735bbe",
   "metadata": {
    "ExecuteTime": {
     "end_time": "2021-11-26T00:06:18.406877Z",
     "start_time": "2021-11-26T00:06:18.386873Z"
    }
   },
   "outputs": [],
   "source": [
    "#si 3 es igual a 4 entonces ejecute la linea de codigo\n",
    "\n",
    "if 3 == 4:\n",
    "    print(\"Los dos numeros son iguales\")\n",
    "\n",
    "if 4 == 4:\n",
    "    print(\"Los dos numeros son iguales\")"
   ]
  },
  {
   "cell_type": "markdown",
   "id": "9d4fd384",
   "metadata": {},
   "source": [
    "### Ejercicio\n",
    "\n",
    "Hacer un programa que imprima en pantalla si un numero es positivo o negativo o neutro"
   ]
  },
  {
   "cell_type": "code",
   "execution_count": null,
   "id": "448efa96",
   "metadata": {
    "ExecuteTime": {
     "end_time": "2021-11-26T00:15:27.962193Z",
     "start_time": "2021-11-26T00:15:26.023927Z"
    }
   },
   "outputs": [],
   "source": [
    "numero_1 = int(input(\"Imgrese un numero: \"))\n",
    "# numero_1 = float(input(\"Imgrese un numero: \"))\n",
    "\n",
    "if numero_1 > 0:\n",
    "    print(\"El numero es positivo\")\n",
    "    \n",
    "if numero_1 < 0:\n",
    "    print(\"El numero es negativo\")\n",
    "    \n",
    "if numero_1 == 0:\n",
    "    print(\"El numero es neutro\")   "
   ]
  },
  {
   "cell_type": "markdown",
   "id": "6161ea1f",
   "metadata": {},
   "source": [
    "## Else\n",
    "Suponga ahora que se desea ejecutar un bloque de código dado que la condición inicial sea falsa, para esto se usa el comando `else`, el cual se ejecuta siempre y cuando la condición del `if` no se cumpla.\n",
    "\n",
    "```Python\n",
    "if cond :\n",
    "    <bloque de codigo a ejecutar si la condicion se cumple>\n",
    "else :\n",
    "    <bloque de codigo a ejecutar si la condicion no se cumple>\n",
    "```\n"
   ]
  },
  {
   "cell_type": "code",
   "execution_count": null,
   "id": "0bda477f",
   "metadata": {},
   "outputs": [],
   "source": [
    "numero_1 = 34\n",
    "\n",
    "if numero_1 > 0:                     # va a ecjutar esto\n",
    "    print(\"El numero es positivo\")\n",
    "    \n",
    "if numero_1 < 0:                     # va a ecjutar esto\n",
    "    print(\"El numero es negativo\")"
   ]
  },
  {
   "cell_type": "code",
   "execution_count": null,
   "id": "bcd4c73b",
   "metadata": {
    "ExecuteTime": {
     "end_time": "2021-11-26T00:20:02.221794Z",
     "start_time": "2021-11-26T00:19:58.576920Z"
    }
   },
   "outputs": [],
   "source": [
    "numero_1 = int(input(\"Imgrese un numero: \"))\n",
    "\n",
    "if numero_1 > 0:\n",
    "    print(\"El numero es positivo\")\n",
    "else:\n",
    "    print(\"El numero es negativo\")"
   ]
  },
  {
   "cell_type": "markdown",
   "id": "ff177b03",
   "metadata": {},
   "source": [
    "## Elif\n",
    "Suponga que desea ahora imponer una condición ante la negación de la primera afirmación. Es decir, si la primera primera condición resultó falsa necesito formular otra condición. En este caso usamos el condicional `elif`. Este nace de la conjunción de `else` y `if`. Veamos su sintaxis.\n",
    "\n",
    "```python\n",
    "if cond1 :\n",
    "    <bloque de codigo a ejecutar si la condicion se cumple>\n",
    "    \n",
    "elif cond2:\n",
    "    <bloque de codigo a ejecutar si la condicion del if no se cumple, pero la condicion del elif debe cumplirse> \n",
    "```\n",
    "\n",
    "Veámoslo con nuestro ejemplo."
   ]
  },
  {
   "cell_type": "code",
   "execution_count": null,
   "id": "f2a02c2c",
   "metadata": {},
   "outputs": [],
   "source": [
    "# Comentar todas las lineas de codigo: ctrl + llaves"
   ]
  },
  {
   "cell_type": "code",
   "execution_count": null,
   "id": "cf19ac63",
   "metadata": {
    "ExecuteTime": {
     "end_time": "2021-11-26T00:30:19.084974Z",
     "start_time": "2021-11-26T00:30:16.774578Z"
    }
   },
   "outputs": [],
   "source": [
    "numero = float(input(\"ingrese un numero: \"))\n",
    "\n",
    "if numero > 0:\n",
    "    print(\"Es positivo\")\n",
    "    \n",
    "elif numero < 0:\n",
    "    print(\"Es negativo\")\n",
    "\n",
    "elif numero == 0:\n",
    "    print(\"Es neutro\")"
   ]
  },
  {
   "cell_type": "code",
   "execution_count": null,
   "id": "4657ffd0",
   "metadata": {
    "ExecuteTime": {
     "end_time": "2021-11-26T00:36:34.990346Z",
     "start_time": "2021-11-26T00:36:34.974352Z"
    }
   },
   "outputs": [],
   "source": [
    "## Con el else\n",
    "numero = float(input(\"ingrese un numero: \"))\n",
    "\n",
    "if numero > 0:\n",
    "    print(\"Es positivo\")\n",
    "    \n",
    "elif numero < 0:\n",
    "    print(\"Es negativo\")\n",
    "\n",
    "else:\n",
    "    print(\"Es neutro\")"
   ]
  },
  {
   "cell_type": "markdown",
   "id": "7415e92f",
   "metadata": {},
   "source": [
    "# Loops, ciclos o bucles"
   ]
  },
  {
   "cell_type": "markdown",
   "id": "6344af05",
   "metadata": {},
   "source": [
    "Hemos visto que un condicional es una decisión sobre una sentencia. Ahora nos ocuparemos de los ciclos. Podríamos pensar que un loop, ciclo o bucle es un bloque que se ejecuta continuamente mientras se cumpla una condición.\n",
    "\n",
    "## For\n",
    "\n",
    "El ciclo `for` es el más usual de todos. Su uso es fácil, se llama una variable y se itera en un bloque de código mientras se cumpla dicha condición sumándole cada vez un valor llamado `step`. Es válido notar que el bloque no debe depender de dicha variable o contador.\n",
    "\n",
    "La sintaxis en Python es la siguiente:\n",
    "\n",
    "```Python\n",
    "for contador in range (inicio, fin, step):\n",
    "    <bloque de código a ejecutar>\n",
    "```"
   ]
  },
  {
   "cell_type": "code",
   "execution_count": null,
   "id": "5de50440",
   "metadata": {
    "ExecuteTime": {
     "end_time": "2021-11-26T00:42:40.986527Z",
     "start_time": "2021-11-26T00:42:40.972536Z"
    }
   },
   "outputs": [],
   "source": [
    "range(0, 10)"
   ]
  },
  {
   "cell_type": "code",
   "execution_count": null,
   "id": "17ded508",
   "metadata": {},
   "outputs": [],
   "source": [
    "# sintaxis en C++\n",
    "\n",
    "for(int i; i<10; i++){\n",
    "    \n",
    "}"
   ]
  },
  {
   "cell_type": "code",
   "execution_count": null,
   "id": "0c1500ac",
   "metadata": {
    "ExecuteTime": {
     "end_time": "2021-11-26T00:44:10.305291Z",
     "start_time": "2021-11-26T00:44:10.288303Z"
    }
   },
   "outputs": [],
   "source": [
    "for i in range(0, 10):\n",
    "    print(\"Hola\")"
   ]
  },
  {
   "cell_type": "markdown",
   "id": "5cf1dc55",
   "metadata": {},
   "source": [
    "Cabe resaltar que las listas son elementos que se peuden iterar dentro de un ciclo `for` como veremos a continuación:\n",
    "\n",
    "el iterador es aquel dato que contiene multiples elementos que podemos utilizar como ietradores del ciclo\n",
    "\n",
    "```Python\n",
    "for contador in <iterador>:\n",
    "    <bloque de código a ejecutar>\n",
    "```"
   ]
  },
  {
   "cell_type": "code",
   "execution_count": null,
   "id": "8bb81a79",
   "metadata": {
    "ExecuteTime": {
     "end_time": "2021-11-26T00:48:10.975702Z",
     "start_time": "2021-11-26T00:48:10.959720Z"
    }
   },
   "outputs": [],
   "source": [
    "lista_ciudades = [\"Medellin\", \"Cartagena\", \"Manizales\"]\n",
    "\n",
    "for ciudad in lista_ciudades:\n",
    "    print(ciudad)"
   ]
  },
  {
   "cell_type": "code",
   "execution_count": null,
   "id": "4352042e",
   "metadata": {
    "ExecuteTime": {
     "end_time": "2021-11-26T00:51:08.140292Z",
     "start_time": "2021-11-26T00:51:08.121308Z"
    }
   },
   "outputs": [],
   "source": [
    "dict_city = {\n",
    "    \"ciudades\": [\"Medellin\", \"Cartagena\", \"Manizales\"],\n",
    "    \"departamentos\": [\"Antioquia\", \"Bolivar\", \"Caldas\"],\n",
    "    \"pueblos\": [\"La Union\", \"Rionegro\", \"Cartago\"]\n",
    "}\n",
    "\n",
    "for key in dict_city.keys():\n",
    "    print(dict_city[key])"
   ]
  },
  {
   "cell_type": "markdown",
   "id": "ff7c828f",
   "metadata": {},
   "source": [
    "# Uso del metodo print"
   ]
  },
  {
   "cell_type": "code",
   "execution_count": null,
   "id": "2de15542",
   "metadata": {
    "ExecuteTime": {
     "end_time": "2021-11-26T00:57:37.975442Z",
     "start_time": "2021-11-26T00:57:35.687815Z"
    }
   },
   "outputs": [],
   "source": [
    "numero = int(input(\"ingrese un numero: \"))\n",
    "print(\"hola mundo\")\n",
    "print(numero)"
   ]
  },
  {
   "cell_type": "code",
   "execution_count": null,
   "id": "527e0f2d",
   "metadata": {
    "ExecuteTime": {
     "end_time": "2021-11-26T00:54:53.146355Z",
     "start_time": "2021-11-26T00:54:48.480336Z"
    }
   },
   "outputs": [],
   "source": [
    "numero = int(input(\"ingrese un numero: \"))\n",
    "print(\"El numero que usuario ingreso es:\", numero)"
   ]
  },
  {
   "cell_type": "code",
   "execution_count": null,
   "id": "2d0dad0d",
   "metadata": {
    "ExecuteTime": {
     "end_time": "2021-11-26T00:55:56.227163Z",
     "start_time": "2021-11-26T00:55:54.855397Z"
    }
   },
   "outputs": [],
   "source": [
    "numero = input(\"ingrese un numero: \")\n",
    "print(\"El numero que usuario ingreso es: \" + numero)"
   ]
  },
  {
   "cell_type": "code",
   "execution_count": null,
   "id": "f0fcfae6",
   "metadata": {
    "ExecuteTime": {
     "end_time": "2021-11-26T00:58:20.062257Z",
     "start_time": "2021-11-26T00:58:15.381516Z"
    }
   },
   "outputs": [],
   "source": [
    "numero = input(\"ingrese un numero: \")\n",
    "palabra = input(\"ingrese una palabra: \")\n",
    "print(f\"El numero que usuario ingreso es: {numero}\")"
   ]
  },
  {
   "cell_type": "markdown",
   "id": "672f7c0d",
   "metadata": {},
   "source": [
    "Pdemos tener además tener un `for` dentro de otro `for`, de la siguiente forma"
   ]
  },
  {
   "cell_type": "code",
   "execution_count": null,
   "id": "0d2c4f98",
   "metadata": {},
   "outputs": [],
   "source": [
    "ciudades = [\"Medellin\", \"Villavicencio\"]"
   ]
  },
  {
   "cell_type": "code",
   "execution_count": null,
   "id": "6102c831",
   "metadata": {
    "ExecuteTime": {
     "end_time": "2021-08-14T15:17:26.814161Z",
     "start_time": "2021-08-14T15:17:26.791182Z"
    },
    "scrolled": true
   },
   "outputs": [],
   "source": [
    "for i in range(0, 10):\n",
    "    \n",
    "    if i > 9:\n",
    "        print(\"El ciclo termino\")\n",
    "        \n",
    "        if i < 20:\n",
    "            print(\"El ciclo se ejecuto menos de 20 veces\")\n",
    "            \n",
    "    for i in ciudades:\n",
    "        \n",
    "        print(f\"Estas son las ciudades {i}\")"
   ]
  },
  {
   "cell_type": "markdown",
   "id": "9751dca5",
   "metadata": {
    "ExecuteTime": {
     "end_time": "2021-08-14T15:21:18.400047Z",
     "start_time": "2021-08-14T15:21:18.392055Z"
    }
   },
   "source": [
    "# Modulo Numpy"
   ]
  },
  {
   "cell_type": "markdown",
   "id": "0c9f11c0",
   "metadata": {},
   "source": [
    "Numpy es un paquete fundamental para el trabajo científico en python:\n",
    "* Contiene Funciones, módulos, clases y cierto tipo especial de datos. \n",
    "* Permite el manejo de Arrays Multidimensionales. \n",
    "* Contiene Funciones sofisticadas y optimizadas. Permite incorporar códigos en C/C++ o fortran. \n",
    "* Contiene un paquete de álgebra lineal y permite hacer cálculos estadísticos, ajustes, interpolación entre otras.\n",
    "\n",
    "\n",
    "> El tipo de dato mas importante en numpy es el **array**. El array es un tipo de dato, formado a partir de otro tipo de datos mas sencillos y que estan ordenados en una secuencia definida, en ese sentido es muy similar a una lista o tupla, pero a diferencia de estos, un array solo admite un tipo de dato.\n",
    "\n",
    "- Consultar documentación: https://numpy.org/doc/stable/reference/arrays.html#"
   ]
  },
  {
   "cell_type": "code",
   "execution_count": null,
   "id": "64369f18",
   "metadata": {},
   "outputs": [],
   "source": [
    "# alternativa 1\n",
    "# import numpy"
   ]
  },
  {
   "cell_type": "code",
   "execution_count": null,
   "id": "00b9e2de",
   "metadata": {
    "ExecuteTime": {
     "end_time": "2021-08-14T15:22:30.033422Z",
     "start_time": "2021-08-14T15:22:30.023432Z"
    }
   },
   "outputs": [],
   "source": [
    "## C#\n",
    "\n",
    "for (condicon):\n",
    "    for\n",
    "        for"
   ]
  },
  {
   "cell_type": "code",
   "execution_count": 6,
   "id": "bb8ae8a2",
   "metadata": {},
   "outputs": [],
   "source": [
    "# alternativa 2\n",
    "import numpy as np"
   ]
  },
  {
   "cell_type": "code",
   "execution_count": null,
   "id": "288912c2",
   "metadata": {},
   "outputs": [],
   "source": [
    "### instalar un paquete\n",
    "## pip install nombre_paquete"
   ]
  },
  {
   "cell_type": "markdown",
   "id": "0bf30c95",
   "metadata": {},
   "source": [
    "## Crear un array\n",
    "\n",
    "Un array puede ser creado mediante el uso de datos nativos de python (listas, tuplas,datos\n",
    "básicos) usando la función **numpy.array()**:\n",
    "\n",
    "```python\n",
    "numpy.array(object, dtype=None, copy=True, order='K', subok=False, ndmin=0)\n",
    "```\n",
    "Donde podemos especificar el tipo de datos con *dtype*, el orden con *order* (esto hace referencia el modo \"C\", por filas, o \"F\", por columnas, para el diseño de memoria del arreglo. Generalmente se deja en \"K\" para que automaticamente escoja la mejor opción), la dimensión miníma puede establecerse con con *ndmin*."
   ]
  },
  {
   "cell_type": "markdown",
   "id": "859f0dbe",
   "metadata": {},
   "source": [
    "## Crear un numpy array"
   ]
  },
  {
   "cell_type": "code",
   "execution_count": 9,
   "id": "c6589df3",
   "metadata": {
    "ExecuteTime": {
     "end_time": "2021-08-14T15:40:20.951406Z",
     "start_time": "2021-08-14T15:40:20.936412Z"
    }
   },
   "outputs": [
    {
     "ename": "NameError",
     "evalue": "name 'numpy' is not defined",
     "output_type": "error",
     "traceback": [
      "\u001b[1;31m---------------------------------------------------------------------------\u001b[0m",
      "\u001b[1;31mNameError\u001b[0m                                 Traceback (most recent call last)",
      "\u001b[1;32mC:\\Users\\DAVID~1.PIE\\AppData\\Local\\Temp/ipykernel_1472/2259979218.py\u001b[0m in \u001b[0;36m<module>\u001b[1;34m\u001b[0m\n\u001b[0;32m      1\u001b[0m \u001b[0mlista_num\u001b[0m \u001b[1;33m=\u001b[0m \u001b[1;33m[\u001b[0m\u001b[1;36m1\u001b[0m\u001b[1;33m,\u001b[0m \u001b[1;36m2\u001b[0m\u001b[1;33m,\u001b[0m \u001b[1;36m3\u001b[0m\u001b[1;33m,\u001b[0m \u001b[1;36m4\u001b[0m\u001b[1;33m]\u001b[0m\u001b[1;33m\u001b[0m\u001b[1;33m\u001b[0m\u001b[0m\n\u001b[1;32m----> 2\u001b[1;33m \u001b[0marreglo\u001b[0m \u001b[1;33m=\u001b[0m \u001b[0mnumpy\u001b[0m\u001b[1;33m.\u001b[0m\u001b[0marray\u001b[0m\u001b[1;33m(\u001b[0m\u001b[0mlista_num\u001b[0m\u001b[1;33m)\u001b[0m\u001b[1;33m\u001b[0m\u001b[1;33m\u001b[0m\u001b[0m\n\u001b[0m\u001b[0;32m      3\u001b[0m \u001b[0marreglo\u001b[0m\u001b[1;33m\u001b[0m\u001b[1;33m\u001b[0m\u001b[0m\n",
      "\u001b[1;31mNameError\u001b[0m: name 'numpy' is not defined"
     ]
    }
   ],
   "source": [
    "lista_num = [1, 2, 3, 4]\n",
    "arreglo = numpy.array(lista_num) \n",
    "arreglo"
   ]
  },
  {
   "cell_type": "code",
   "execution_count": null,
   "id": "ae6a8c6b",
   "metadata": {},
   "outputs": [],
   "source": [
    "lista_num = [1, 2, 3, 4]\n",
    "arreglo = np.array(lista_num)\n",
    "arreglo"
   ]
  },
  {
   "cell_type": "code",
   "execution_count": null,
   "id": "7c4a1ab9",
   "metadata": {},
   "outputs": [],
   "source": [
    "x = np.array([4,5,6]) \n",
    "x"
   ]
  },
  {
   "cell_type": "markdown",
   "id": "a146e997",
   "metadata": {},
   "source": [
    "## Arrays de mas de una dimension"
   ]
  },
  {
   "cell_type": "markdown",
   "id": "f84ba1e9",
   "metadata": {},
   "source": [
    "Es importante observar que lso arrays pueden tener tanto filas como columnas queramos"
   ]
  },
  {
   "cell_type": "code",
   "execution_count": 10,
   "id": "8cefa4bb",
   "metadata": {
    "ExecuteTime": {
     "end_time": "2021-08-14T20:16:06.883272Z",
     "start_time": "2021-08-14T20:16:06.852291Z"
    }
   },
   "outputs": [
    {
     "data": {
      "text/plain": [
       "array([[1, 2, 3],\n",
       "       [4, 5, 6],\n",
       "       [7, 8, 9]])"
      ]
     },
     "execution_count": 10,
     "metadata": {},
     "output_type": "execute_result"
    }
   ],
   "source": [
    "lista_num_1 = [[1,2,3], [4,5,6], [7,8,9]]\n",
    "arreglo_2 = np.array(lista_num_1)\n",
    "arreglo_2"
   ]
  },
  {
   "cell_type": "markdown",
   "id": "d279cd09",
   "metadata": {},
   "source": [
    "Observe que si intenta crear un array donde una de las filas contiene mas columnas que las demas el array no podrá crearse correctamente"
   ]
  },
  {
   "cell_type": "code",
   "execution_count": 11,
   "id": "40145539",
   "metadata": {},
   "outputs": [
    {
     "name": "stderr",
     "output_type": "stream",
     "text": [
      "C:\\Users\\DAVID~1.PIE\\AppData\\Local\\Temp/ipykernel_1472/3986971587.py:2: VisibleDeprecationWarning: Creating an ndarray from ragged nested sequences (which is a list-or-tuple of lists-or-tuples-or ndarrays with different lengths or shapes) is deprecated. If you meant to do this, you must specify 'dtype=object' when creating the ndarray.\n",
      "  arreglo_3 = np.array(lista_num_2)\n"
     ]
    },
    {
     "data": {
      "text/plain": [
       "array([list([1, 2]), list([4, 5, 6]), list([7, 8, 9])], dtype=object)"
      ]
     },
     "execution_count": 11,
     "metadata": {},
     "output_type": "execute_result"
    }
   ],
   "source": [
    "lista_num_2 = [[1, 2, ], [4, 5, 6], [7, 8, 9]]\n",
    "arreglo_3 = np.array(lista_num_2)\n",
    "arreglo_3"
   ]
  },
  {
   "cell_type": "code",
   "execution_count": 12,
   "id": "f46170b1",
   "metadata": {},
   "outputs": [
    {
     "data": {
      "text/plain": [
       "array(['Juan', 'Sara'], dtype='<U4')"
      ]
     },
     "execution_count": 12,
     "metadata": {},
     "output_type": "execute_result"
    }
   ],
   "source": [
    "list_names = [\"Juan\", \"Sara\"]\n",
    "arreglo_4 = np.array(list_names)\n",
    "arreglo_4"
   ]
  },
  {
   "cell_type": "code",
   "execution_count": 13,
   "id": "9b7306e2",
   "metadata": {},
   "outputs": [],
   "source": [
    "# int ---> int8, int32, int64\n",
    "# float -> float8, float32, float64"
   ]
  },
  {
   "cell_type": "code",
   "execution_count": 14,
   "id": "cc37949d",
   "metadata": {},
   "outputs": [
    {
     "data": {
      "text/plain": [
       "['palabra', 1]"
      ]
     },
     "execution_count": 14,
     "metadata": {},
     "output_type": "execute_result"
    }
   ],
   "source": [
    "lista = [\"palabra\", 1]\n",
    "lista"
   ]
  },
  {
   "cell_type": "code",
   "execution_count": 15,
   "id": "c480f55d",
   "metadata": {},
   "outputs": [
    {
     "data": {
      "text/plain": [
       "array(['palabra', '1'], dtype='<U11')"
      ]
     },
     "execution_count": 15,
     "metadata": {},
     "output_type": "execute_result"
    }
   ],
   "source": [
    "arreglo_5 = np.array(lista)\n",
    "arreglo_5"
   ]
  },
  {
   "cell_type": "markdown",
   "id": "a2040ff4",
   "metadata": {},
   "source": [
    "# Atributos de un array"
   ]
  },
  {
   "cell_type": "markdown",
   "id": "b406a0a1",
   "metadata": {
    "ExecuteTime": {
     "end_time": "2021-08-14T20:17:32.803076Z",
     "start_time": "2021-08-14T20:17:32.789083Z"
    }
   },
   "source": [
    "Los arrays pueden tener diferentes atributos, estos son algunos de los mas comunes:\n",
    "\n",
    "- `shape`, `size`, `dtype`, `nbytes`"
   ]
  },
  {
   "cell_type": "markdown",
   "id": "0d1c4e11",
   "metadata": {},
   "source": [
    "## Tamaño de un Array"
   ]
  },
  {
   "cell_type": "code",
   "execution_count": 16,
   "id": "ae26ee9d",
   "metadata": {},
   "outputs": [
    {
     "data": {
      "text/plain": [
       "array([[1, 2, 3],\n",
       "       [4, 5, 6],\n",
       "       [7, 8, 9]])"
      ]
     },
     "execution_count": 16,
     "metadata": {},
     "output_type": "execute_result"
    }
   ],
   "source": [
    "arreglo_2"
   ]
  },
  {
   "cell_type": "code",
   "execution_count": 17,
   "id": "b2b01bd3",
   "metadata": {
    "ExecuteTime": {
     "end_time": "2021-08-14T15:48:00.885606Z",
     "start_time": "2021-08-14T15:48:00.870637Z"
    }
   },
   "outputs": [
    {
     "data": {
      "text/plain": [
       "(3, 3)"
      ]
     },
     "execution_count": 17,
     "metadata": {},
     "output_type": "execute_result"
    }
   ],
   "source": [
    "arreglo_2.shape"
   ]
  },
  {
   "cell_type": "code",
   "execution_count": 18,
   "id": "d479909f",
   "metadata": {},
   "outputs": [
    {
     "data": {
      "text/plain": [
       "array([[ 1,  2,  3, 56],\n",
       "       [ 4,  5,  6, 55],\n",
       "       [ 7,  8,  9, 99]])"
      ]
     },
     "execution_count": 18,
     "metadata": {},
     "output_type": "execute_result"
    }
   ],
   "source": [
    "lista_num_4 = [[1, 2, 3, 56], [4, 5, 6, 55], [7, 8, 9, 99]]\n",
    "arreglo_4 = np.array(lista_num_4)\n",
    "arreglo_4"
   ]
  },
  {
   "cell_type": "code",
   "execution_count": 19,
   "id": "6d786d01",
   "metadata": {},
   "outputs": [
    {
     "data": {
      "text/plain": [
       "(3, 4)"
      ]
     },
     "execution_count": 19,
     "metadata": {},
     "output_type": "execute_result"
    }
   ],
   "source": [
    "arreglo_4.shape"
   ]
  },
  {
   "cell_type": "markdown",
   "id": "307aa1b0",
   "metadata": {},
   "source": [
    "## Numero de elementos del array"
   ]
  },
  {
   "cell_type": "code",
   "execution_count": 20,
   "id": "696d292c",
   "metadata": {
    "ExecuteTime": {
     "end_time": "2021-08-14T15:58:49.142756Z",
     "start_time": "2021-08-14T15:58:49.127792Z"
    }
   },
   "outputs": [
    {
     "data": {
      "text/plain": [
       "12"
      ]
     },
     "execution_count": 20,
     "metadata": {},
     "output_type": "execute_result"
    }
   ],
   "source": [
    "arreglo_4.size"
   ]
  },
  {
   "cell_type": "markdown",
   "id": "1c467bcb",
   "metadata": {
    "ExecuteTime": {
     "end_time": "2021-08-14T15:59:56.703573Z",
     "start_time": "2021-08-14T15:59:56.685584Z"
    }
   },
   "source": [
    "## Tipo de datos dentro del array"
   ]
  },
  {
   "cell_type": "code",
   "execution_count": 21,
   "id": "fe50d33f",
   "metadata": {
    "ExecuteTime": {
     "end_time": "2021-08-14T16:00:06.442353Z",
     "start_time": "2021-08-14T16:00:06.420364Z"
    }
   },
   "outputs": [
    {
     "data": {
      "text/plain": [
       "numpy.ndarray"
      ]
     },
     "execution_count": 21,
     "metadata": {},
     "output_type": "execute_result"
    }
   ],
   "source": [
    "type(arreglo_4)"
   ]
  },
  {
   "cell_type": "code",
   "execution_count": 22,
   "id": "58c5b55c",
   "metadata": {},
   "outputs": [
    {
     "data": {
      "text/plain": [
       "dtype('int32')"
      ]
     },
     "execution_count": 22,
     "metadata": {},
     "output_type": "execute_result"
    }
   ],
   "source": [
    "arreglo_4.dtype"
   ]
  },
  {
   "cell_type": "code",
   "execution_count": 23,
   "id": "1cf2da18",
   "metadata": {},
   "outputs": [
    {
     "data": {
      "text/plain": [
       "dtype('int64')"
      ]
     },
     "execution_count": 23,
     "metadata": {},
     "output_type": "execute_result"
    }
   ],
   "source": [
    "c = np.array([1,2,3], dtype = \"int64\")\n",
    "c.dtype"
   ]
  },
  {
   "cell_type": "markdown",
   "id": "d685d5e1",
   "metadata": {},
   "source": [
    "## Tamaño en bytes"
   ]
  },
  {
   "cell_type": "code",
   "execution_count": 24,
   "id": "89ea55ad",
   "metadata": {
    "ExecuteTime": {
     "end_time": "2021-08-14T16:03:32.821571Z",
     "start_time": "2021-08-14T16:03:32.801575Z"
    }
   },
   "outputs": [
    {
     "data": {
      "text/plain": [
       "array([[ 1,  2,  3, 56],\n",
       "       [ 4,  5,  6, 55],\n",
       "       [ 7,  8,  9, 99]])"
      ]
     },
     "execution_count": 24,
     "metadata": {},
     "output_type": "execute_result"
    }
   ],
   "source": [
    "arreglo_4"
   ]
  },
  {
   "cell_type": "code",
   "execution_count": 25,
   "id": "67275f88",
   "metadata": {},
   "outputs": [
    {
     "data": {
      "text/plain": [
       "48"
      ]
     },
     "execution_count": 25,
     "metadata": {},
     "output_type": "execute_result"
    }
   ],
   "source": [
    "arreglo_4.nbytes"
   ]
  },
  {
   "cell_type": "markdown",
   "id": "c76a2c90",
   "metadata": {},
   "source": [
    "# Algunos métodos de numpy\n",
    "\n",
    "Los métodos de un array nos permiten realizar algunas de sus funcionalidades como veremos acontinuación:"
   ]
  },
  {
   "cell_type": "markdown",
   "id": "e608a6f1",
   "metadata": {},
   "source": [
    "## Transpuesta de un array"
   ]
  },
  {
   "cell_type": "code",
   "execution_count": 26,
   "id": "f6128a4a",
   "metadata": {
    "ExecuteTime": {
     "end_time": "2021-08-14T16:05:44.239747Z",
     "start_time": "2021-08-14T16:05:44.224759Z"
    }
   },
   "outputs": [
    {
     "data": {
      "text/plain": [
       "array([[ 1,  2,  3, 56],\n",
       "       [ 4,  5,  6, 55],\n",
       "       [ 7,  8,  9, 99]])"
      ]
     },
     "execution_count": 26,
     "metadata": {},
     "output_type": "execute_result"
    }
   ],
   "source": [
    "arreglo_4"
   ]
  },
  {
   "cell_type": "code",
   "execution_count": 27,
   "id": "d0a95dec",
   "metadata": {},
   "outputs": [
    {
     "data": {
      "text/plain": [
       "array([[ 1,  4,  7],\n",
       "       [ 2,  5,  8],\n",
       "       [ 3,  6,  9],\n",
       "       [56, 55, 99]])"
      ]
     },
     "execution_count": 27,
     "metadata": {},
     "output_type": "execute_result"
    }
   ],
   "source": [
    "arreglo_4.T"
   ]
  },
  {
   "cell_type": "code",
   "execution_count": 28,
   "id": "331ff777",
   "metadata": {},
   "outputs": [
    {
     "data": {
      "text/plain": [
       "array([[ 1,  4,  7],\n",
       "       [ 2,  5,  8],\n",
       "       [ 3,  6,  9],\n",
       "       [56, 55, 99]])"
      ]
     },
     "execution_count": 28,
     "metadata": {},
     "output_type": "execute_result"
    }
   ],
   "source": [
    "arreglo_4.transpose()"
   ]
  },
  {
   "cell_type": "code",
   "execution_count": null,
   "id": "1e95ed5f",
   "metadata": {},
   "outputs": [],
   "source": [
    "type(arreglo_4)"
   ]
  },
  {
   "cell_type": "code",
   "execution_count": 30,
   "id": "d148a60b",
   "metadata": {},
   "outputs": [
    {
     "data": {
      "text/plain": [
       "4"
      ]
     },
     "execution_count": 30,
     "metadata": {},
     "output_type": "execute_result"
    }
   ],
   "source": [
    "lista = [1,2,3,4]\n",
    "len(lista)"
   ]
  },
  {
   "cell_type": "markdown",
   "id": "d2cfcb07",
   "metadata": {},
   "source": [
    "## np.arange()"
   ]
  },
  {
   "cell_type": "code",
   "execution_count": null,
   "id": "f92da555",
   "metadata": {},
   "outputs": [],
   "source": [
    "lista_num_4 = [[1, 2, 3, 56], [4, 5, 6, 55], [7, 8, 9, 99]]\n",
    "arreglo_4 = np.array(lista_num_4)\n",
    "arreglo_4"
   ]
  },
  {
   "cell_type": "code",
   "execution_count": 39,
   "id": "58a6a624",
   "metadata": {},
   "outputs": [
    {
     "data": {
      "text/plain": [
       "array([ 2., 12., 22., 32., 42.])"
      ]
     },
     "execution_count": 39,
     "metadata": {},
     "output_type": "execute_result"
    }
   ],
   "source": [
    "np.arange(start = 2, stop = 50, step = 10, dtype = \"float64\")"
   ]
  },
  {
   "cell_type": "code",
   "execution_count": 42,
   "id": "0d57a39d",
   "metadata": {},
   "outputs": [
    {
     "data": {
      "text/plain": [
       "array([ 2., 12., 22., 32., 42.])"
      ]
     },
     "execution_count": 42,
     "metadata": {},
     "output_type": "execute_result"
    }
   ],
   "source": [
    "np.arange(stop = 50, start = 2, step = 10, dtype = \"float64\")"
   ]
  },
  {
   "cell_type": "code",
   "execution_count": 41,
   "id": "69316991",
   "metadata": {},
   "outputs": [
    {
     "data": {
      "text/plain": [
       "array([], dtype=int32)"
      ]
     },
     "execution_count": 41,
     "metadata": {},
     "output_type": "execute_result"
    }
   ],
   "source": [
    "np.arange(50, 2, 10)"
   ]
  },
  {
   "cell_type": "markdown",
   "id": "19c1ca24",
   "metadata": {},
   "source": [
    "## np.linspace"
   ]
  },
  {
   "cell_type": "code",
   "execution_count": null,
   "id": "4d772fcd",
   "metadata": {
    "ExecuteTime": {
     "end_time": "2021-08-14T16:21:39.893800Z",
     "start_time": "2021-08-14T16:21:39.878816Z"
    }
   },
   "outputs": [],
   "source": [
    "# np.linspace(start, stop, num = 50)"
   ]
  },
  {
   "cell_type": "code",
   "execution_count": 49,
   "id": "45bdff3e",
   "metadata": {},
   "outputs": [
    {
     "data": {
      "text/plain": [
       "array([ 1.,  8., 15., 22., 29., 36., 43., 50.])"
      ]
     },
     "execution_count": 49,
     "metadata": {},
     "output_type": "execute_result"
    }
   ],
   "source": [
    "np.linspace(start = 1, stop = 50, num = 8)"
   ]
  },
  {
   "cell_type": "markdown",
   "id": "db6b8435",
   "metadata": {
    "ExecuteTime": {
     "end_time": "2021-08-14T16:23:45.963606Z",
     "start_time": "2021-08-14T16:23:45.945611Z"
    }
   },
   "source": [
    "## np.random.rand()"
   ]
  },
  {
   "cell_type": "code",
   "execution_count": null,
   "id": "0ec93c1d",
   "metadata": {
    "ExecuteTime": {
     "end_time": "2021-08-14T16:28:51.547771Z",
     "start_time": "2021-08-14T16:28:51.524784Z"
    }
   },
   "outputs": [],
   "source": [
    "# np.random.rand(rows, columns) me crea una arreglo de nxm con numeros aleatorios entre 0 y 1\n"
   ]
  },
  {
   "cell_type": "code",
   "execution_count": 60,
   "id": "8c86710f",
   "metadata": {},
   "outputs": [
    {
     "data": {
      "text/plain": [
       "array([[3.23720536, 7.47311569, 8.25860309],\n",
       "       [9.83487149, 0.27381456, 1.44975849],\n",
       "       [7.84007436, 4.78177974, 0.86889258],\n",
       "       [7.44657942, 5.50949437, 6.66201364],\n",
       "       [6.48499417, 9.74182702, 6.32282525]])"
      ]
     },
     "execution_count": 60,
     "metadata": {},
     "output_type": "execute_result"
    }
   ],
   "source": [
    "np.random.rand(5, 3)*10"
   ]
  },
  {
   "cell_type": "code",
   "execution_count": 61,
   "id": "089b094b",
   "metadata": {},
   "outputs": [
    {
     "data": {
      "text/plain": [
       "array([[61.29475385, 10.35135008, 64.96962915],\n",
       "       [99.71674738, 55.89606293, 69.62535912],\n",
       "       [98.50828413, 32.49291069, 75.23956898],\n",
       "       [39.50529197,  9.78292332, 76.8430657 ],\n",
       "       [77.4471607 , 74.00593644, 28.63568879]])"
      ]
     },
     "execution_count": 61,
     "metadata": {},
     "output_type": "execute_result"
    }
   ],
   "source": [
    "np.random.rand(5, 3)*100"
   ]
  },
  {
   "cell_type": "markdown",
   "id": "47c0c221",
   "metadata": {},
   "source": [
    "## Crear arreglos de unos y ceros"
   ]
  },
  {
   "cell_type": "code",
   "execution_count": 62,
   "id": "4ccd8afb",
   "metadata": {},
   "outputs": [
    {
     "data": {
      "text/plain": [
       "array([1, 1, 1, 1, 1, 1])"
      ]
     },
     "execution_count": 62,
     "metadata": {},
     "output_type": "execute_result"
    }
   ],
   "source": [
    "np.array([1,1,1,1,1,1])"
   ]
  },
  {
   "cell_type": "code",
   "execution_count": 68,
   "id": "1959000f",
   "metadata": {},
   "outputs": [
    {
     "data": {
      "text/plain": [
       "array([[1., 1.],\n",
       "       [1., 1.],\n",
       "       [1., 1.],\n",
       "       [1., 1.],\n",
       "       [1., 1.]])"
      ]
     },
     "execution_count": 68,
     "metadata": {},
     "output_type": "execute_result"
    }
   ],
   "source": [
    "np.ones(shape = (5, 2))"
   ]
  },
  {
   "cell_type": "code",
   "execution_count": 71,
   "id": "74586b78",
   "metadata": {},
   "outputs": [
    {
     "data": {
      "text/plain": [
       "array([[0., 0.],\n",
       "       [0., 0.],\n",
       "       [0., 0.],\n",
       "       [0., 0.],\n",
       "       [0., 0.]])"
      ]
     },
     "execution_count": 71,
     "metadata": {},
     "output_type": "execute_result"
    }
   ],
   "source": [
    "np.zeros(shape = (5, 2))"
   ]
  },
  {
   "cell_type": "markdown",
   "id": "6a3f1732",
   "metadata": {},
   "source": [
    "## numpy.random.uniform()"
   ]
  },
  {
   "cell_type": "code",
   "execution_count": 77,
   "id": "610751aa",
   "metadata": {},
   "outputs": [
    {
     "data": {
      "text/plain": [
       "array([ 9.65555725, 18.17399038, 46.49127112, 22.23970533, 31.76628839,\n",
       "       22.38319465, 27.32305667, 43.6057375 , 14.23076523,  1.04278293,\n",
       "       23.79786157, 44.53754414, 40.98093173, 41.97316611, 38.51982979,\n",
       "       34.46094323, 15.13240399,  8.7988652 , 40.26729211, 36.63782697,\n",
       "       24.00246087, 35.63774764, 37.14761253, 13.39509405, 15.18883548,\n",
       "       12.38377329,  2.026576  ,  1.78287032, 33.91610611, 42.51814731])"
      ]
     },
     "execution_count": 77,
     "metadata": {},
     "output_type": "execute_result"
    }
   ],
   "source": [
    "np.random.uniform(1, 50, 30)"
   ]
  },
  {
   "cell_type": "markdown",
   "id": "805f89c4",
   "metadata": {},
   "source": [
    "## array metodo copy()"
   ]
  },
  {
   "cell_type": "code",
   "execution_count": 78,
   "id": "b6ff3b70",
   "metadata": {},
   "outputs": [],
   "source": [
    "x = np.array([1,2,3])\n",
    "y = x"
   ]
  },
  {
   "cell_type": "code",
   "execution_count": 80,
   "id": "16194c80",
   "metadata": {},
   "outputs": [],
   "source": [
    "y = x.copy()"
   ]
  },
  {
   "cell_type": "code",
   "execution_count": 81,
   "id": "a4c5a5cd",
   "metadata": {},
   "outputs": [
    {
     "data": {
      "text/plain": [
       "array([1, 2, 3])"
      ]
     },
     "execution_count": 81,
     "metadata": {},
     "output_type": "execute_result"
    }
   ],
   "source": [
    "y "
   ]
  },
  {
   "cell_type": "markdown",
   "id": "bc214128",
   "metadata": {},
   "source": [
    "### tener en cuenta:"
   ]
  },
  {
   "cell_type": "code",
   "execution_count": 82,
   "id": "2d3aad0a",
   "metadata": {
    "ExecuteTime": {
     "end_time": "2021-08-14T16:44:57.418621Z",
     "start_time": "2021-08-14T16:44:57.401632Z"
    }
   },
   "outputs": [],
   "source": [
    "lista = [\"EAFIT\", \"Politecnico\", \"ITM\"]\n",
    "lista_ejemplo = lista"
   ]
  },
  {
   "cell_type": "code",
   "execution_count": 84,
   "id": "8cd01ca5",
   "metadata": {},
   "outputs": [
    {
     "data": {
      "text/plain": [
       "['EAFIT', 'Politecnico', 'ITM', 'Sena']"
      ]
     },
     "execution_count": 84,
     "metadata": {},
     "output_type": "execute_result"
    }
   ],
   "source": [
    "lista.append(\"Sena\")\n",
    "lista"
   ]
  },
  {
   "cell_type": "code",
   "execution_count": 85,
   "id": "03753443",
   "metadata": {},
   "outputs": [
    {
     "data": {
      "text/plain": [
       "['EAFIT', 'Politecnico', 'ITM', 'Sena']"
      ]
     },
     "execution_count": 85,
     "metadata": {},
     "output_type": "execute_result"
    }
   ],
   "source": [
    "lista_ejemplo"
   ]
  },
  {
   "cell_type": "code",
   "execution_count": 86,
   "id": "d048804e",
   "metadata": {},
   "outputs": [
    {
     "data": {
      "text/plain": [
       "['EAFIT', 'Politecnico', 'ITM', 'Sena']"
      ]
     },
     "execution_count": 86,
     "metadata": {},
     "output_type": "execute_result"
    }
   ],
   "source": [
    "lista_copiar = lista.copy()\n",
    "lista_copiar"
   ]
  },
  {
   "cell_type": "code",
   "execution_count": 87,
   "id": "12e9cdc3",
   "metadata": {},
   "outputs": [
    {
     "data": {
      "text/plain": [
       "['EAFIT', 'Politecnico', 'ITM', 'Sena', 'Pascual']"
      ]
     },
     "execution_count": 87,
     "metadata": {},
     "output_type": "execute_result"
    }
   ],
   "source": [
    "lista.append(\"Pascual\")\n",
    "lista"
   ]
  },
  {
   "cell_type": "code",
   "execution_count": 88,
   "id": "29e7d480",
   "metadata": {},
   "outputs": [
    {
     "data": {
      "text/plain": [
       "['EAFIT', 'Politecnico', 'ITM', 'Sena']"
      ]
     },
     "execution_count": 88,
     "metadata": {},
     "output_type": "execute_result"
    }
   ],
   "source": [
    "lista_copiar"
   ]
  },
  {
   "cell_type": "code",
   "execution_count": null,
   "id": "a8dc71dc",
   "metadata": {},
   "outputs": [],
   "source": [
    "FuncionSuma"
   ]
  },
  {
   "cell_type": "markdown",
   "id": "da66ead9",
   "metadata": {},
   "source": [
    "# Definicion de funciones"
   ]
  },
  {
   "cell_type": "markdown",
   "id": "842648cf",
   "metadata": {},
   "source": [
    "# Funciones\n",
    "Usualmente en el desarrollo de un código debemos usar varias veces el mismo algoritmo, no necesariamente de forma periódica. Es fácil pensar que si quiero calcular un valor estadístico que no esté predefinido por algo el lenguaje de programación, tendremos que ir haciendo `Ctrl+C` y luego `Ctrl+V` del código como tantas veces lo necesitemos por todo nuestro código. Para evitar esto existen las funciones. Con ellas es posible desarrollar de forma ordenada el código y por consiguiente más entendible.\n",
    "\n",
    "La sintaxis de una función es la siguiente:\n",
    "\n",
    "```Python\n",
    "def Nombre_de_la_funcion(arg1, arg2,...argn):\n",
    "    bloque de código\n",
    "    return valor_a_retornar #------> solo si se necesita que la funcion retorne un valor\n",
    "\n",
    "\n",
    "# si no es necesario retornar un valor se puede escrbir así:\n",
    "def nombre_funcion(arg1, arg2,...argn):\n",
    "    bloque de código                    \n",
    "```\n",
    "En general es necesario el uso de `return` al final de cada función. De esa forma la función sabe exactamente qué debe devolver. \n"
   ]
  },
  {
   "cell_type": "code",
   "execution_count": 1,
   "id": "1aef9b0b",
   "metadata": {},
   "outputs": [],
   "source": [
    "def suma(numero_1, numero_2):\n",
    "    print(numero_1 + numero_2)"
   ]
  },
  {
   "cell_type": "code",
   "execution_count": 5,
   "id": "55577b66",
   "metadata": {},
   "outputs": [
    {
     "name": "stdout",
     "output_type": "stream",
     "text": [
      "8\n"
     ]
    },
    {
     "data": {
      "text/plain": [
       "NoneType"
      ]
     },
     "execution_count": 5,
     "metadata": {},
     "output_type": "execute_result"
    }
   ],
   "source": [
    "x = suma(3, 5)\n",
    "type(x)"
   ]
  },
  {
   "cell_type": "code",
   "execution_count": 18,
   "id": "8a008a80",
   "metadata": {},
   "outputs": [],
   "source": [
    "def suma_v2(num_1 = int, num_2 = int):\n",
    "    return num_1 + num_2"
   ]
  },
  {
   "cell_type": "code",
   "execution_count": 19,
   "id": "6b58da49",
   "metadata": {},
   "outputs": [
    {
     "data": {
      "text/plain": [
       "15.411999999999999"
      ]
     },
     "execution_count": 19,
     "metadata": {},
     "output_type": "execute_result"
    }
   ],
   "source": [
    "variable = suma_v2(num_1 = 5.3, num_2 = 10.112)\n",
    "variable"
   ]
  },
  {
   "cell_type": "markdown",
   "id": "b31d3242",
   "metadata": {},
   "source": [
    "## Retornar mas de dos valores"
   ]
  },
  {
   "cell_type": "code",
   "execution_count": 34,
   "id": "321328d5",
   "metadata": {},
   "outputs": [],
   "source": [
    "def suma_resta_multiplicacion(num_1, num_2):\n",
    "    \n",
    "    suma = num_1 + num_2\n",
    "    resta = num_1 - num_2\n",
    "    multiplicar = num_1 * num_2\n",
    "    \n",
    "    return suma, resta, multiplicar"
   ]
  },
  {
   "cell_type": "code",
   "execution_count": 35,
   "id": "379165ff",
   "metadata": {},
   "outputs": [
    {
     "data": {
      "text/plain": [
       "(5, -1, 6)"
      ]
     },
     "execution_count": 35,
     "metadata": {},
     "output_type": "execute_result"
    }
   ],
   "source": [
    "resultado = suma_resta_multiplicacion(2, 3)\n",
    "resultado"
   ]
  },
  {
   "cell_type": "code",
   "execution_count": 37,
   "id": "621b38e9",
   "metadata": {},
   "outputs": [
    {
     "data": {
      "text/plain": [
       "6"
      ]
     },
     "execution_count": 37,
     "metadata": {},
     "output_type": "execute_result"
    }
   ],
   "source": [
    "resultado[2]"
   ]
  },
  {
   "cell_type": "code",
   "execution_count": 43,
   "id": "34b6639b",
   "metadata": {},
   "outputs": [],
   "source": [
    "suma, resta, multiplicacion = suma_resta_multiplicacion(2, 3)"
   ]
  },
  {
   "cell_type": "markdown",
   "id": "7d509f73",
   "metadata": {
    "ExecuteTime": {
     "end_time": "2021-08-14T17:06:27.957056Z",
     "start_time": "2021-08-14T17:06:27.939082Z"
    }
   },
   "source": [
    "# Ejercicios propuestos"
   ]
  },
  {
   "cell_type": "markdown",
   "id": "9e63c11b",
   "metadata": {},
   "source": [
    "**Ejercicio 1**\n",
    "\n",
    "Determine para un número entero cualquiera si es par o impar\n",
    "- Utilice una sentencia if - else"
   ]
  },
  {
   "cell_type": "markdown",
   "id": "b2eddd0e",
   "metadata": {},
   "source": [
    "**Ejercicio 2**:\n",
    "\n",
    "Determine de un número cualquiera real entero positivo si es un número primo o no\n",
    "- Tip: utilice un ciclo for para realizar dicha operación"
   ]
  },
  {
   "cell_type": "markdown",
   "id": "dffb3f8a",
   "metadata": {},
   "source": [
    "**Ejercicio 3**:\n",
    "\n",
    "Cree una lista con cualquier tipo de dato del tamaño que usted considere, a dicha lista agregue un dato utilizando el método append"
   ]
  },
  {
   "cell_type": "markdown",
   "id": "3e28034c",
   "metadata": {},
   "source": [
    "**Ejercicio 4**:\n",
    "\n",
    "Cree una lista con cualquier tipo de dato del tamaño que usted considere, a dicha lista elimine un dato utilizando algún método que permita hacerlo, consulte en el siguiente link los diferentes métodos asociados a las listas y busque el método apropiado:\n",
    "- Métodos de las listas: https://docs.python.org/es/3/tutorial/datastructures.html"
   ]
  },
  {
   "cell_type": "markdown",
   "id": "9ad97629",
   "metadata": {},
   "source": [
    "**Ejercicio 5:**\n",
    "\n",
    "En un colegio personalizado del país, se tienen salones constituidos por 5 estudiantes. La lista de estudiantes de uno de ellos es:\n",
    "\n",
    "```\n",
    "kinderA_lista = ['Gómez, Sebastián', 'Arango, Natalia', 'Zambrano, Javier', 'Domingo, Carolina'] \n",
    "````\n",
    "\n",
    "Organice dicha lista en orden alfabético, guardándola en la misma variable e imprímala en pantalla.\n",
    "\n",
    "- tip: para resolver este ejercicio consulte de nuevo los métodos de las listas, allí encontrará un método que permita ordenar la lista"
   ]
  },
  {
   "cell_type": "markdown",
   "id": "d9d1d9e6",
   "metadata": {
    "ExecuteTime": {
     "end_time": "2021-08-14T22:25:44.149693Z",
     "start_time": "2021-08-14T22:25:44.130704Z"
    }
   },
   "source": [
    "**Ejercicio 6:** \n",
    "\n",
    "La siguiente lista representa una pequeña base de datos constituida por pacientes de una clinica en la ciudad de Medellín. Cada paciente se identifica como:\n",
    "\n",
    "```\n",
    "ID_numero-Medellin\n",
    "```\n",
    "Por motivos de optimización, un programador en `python`requier extraer solamente el número de identificación de cada elemento de la lista. Realice la extracción del número elemento por elemento, de la siguiente lista:\n",
    "\n",
    "```\n",
    "pacientes = [\"ID_0001-Medellin\",\"ID_0002-Medellin\",\"ID_0003-Medellin\",\"ID_0004-Medellin\"]\n",
    "```\n",
    "\n",
    "- tip: consulte la documentación del método split para dar solución al ejercicio: https://python-reference.readthedocs.io/en/latest/docs/str/split.html"
   ]
  },
  {
   "cell_type": "markdown",
   "id": "6770e64c",
   "metadata": {},
   "source": [
    "**Ejercicio 7:**\n",
    "\n",
    "Escriba un programa que permita calcular la suma de los 100 primeros números.\n",
    "\n",
    "- tip: utilice un ciclo for para resolver el ejercicio, además consulte como utilizar un contador dentro de un ciclo"
   ]
  },
  {
   "cell_type": "markdown",
   "id": "6adbdc7a",
   "metadata": {},
   "source": [
    "**Ejercicio 8:**\n",
    "\n",
    "En matemáticas, la sucesión o serie de Fibonacci hace referencia a la secuencia ordenada de números descrita por Leonardo de Pisa, matemático italiano del siglo XIII:\n",
    "\n",
    "[0, 1, 1, 2, 3, 5, 8, 13, 21, 34, 55, 89, 144,…]\n",
    "\n",
    "A cada uno de los elementos de la serie se le conoce con el nombre de número de Fibonacci.\n",
    "\n",
    "Realice un programa que permita calcular una lista que contenga la serie fibonacci hasta la posición 20 así:\n",
    "\n",
    "[0, 1, 1, 2, 3, 5, 8, 13, 21, 34, 55, 89, 144, 233, 377, 610, 987, 1597, 2584, 4181]\n",
    "\n",
    "- Para calcular el siguiente número de la serie `numero(k+1) = numero(k-1) + numero(k)`\n",
    "\n",
    "- tip: utilice un ciclo for e inicialice una lista con los siguientes números [0, 1] antes de ejecutar el for"
   ]
  },
  {
   "cell_type": "markdown",
   "id": "7f5430fa",
   "metadata": {},
   "source": [
    "**Ejercicio 9:** \n",
    "\n",
    "Cree una función que solicite al usuario una palabra e imprima si esta es un palíndromo o no. (Un palíndromo es una palabra o frase que se lee igual hacia adelante y hacia atrás), por ejemplo:\n",
    "\n",
    "- Anilina, note que la palabra al leerla de izuqierda a derecha y de derecha a izquierda es exactamante igual\n",
    "\n",
    "- tip: para resolver el ejercicio consulte como invertir una cadena de caracteres\n"
   ]
  }
 ],
 "metadata": {
  "kernelspec": {
   "display_name": "Python 3 (ipykernel)",
   "language": "python",
   "name": "python3"
  },
  "language_info": {
   "codemirror_mode": {
    "name": "ipython",
    "version": 3
   },
   "file_extension": ".py",
   "mimetype": "text/x-python",
   "name": "python",
   "nbconvert_exporter": "python",
   "pygments_lexer": "ipython3",
   "version": "3.9.7"
  },
  "toc": {
   "base_numbering": 1,
   "nav_menu": {},
   "number_sections": true,
   "sideBar": true,
   "skip_h1_title": false,
   "title_cell": "Table of Contents",
   "title_sidebar": "Contents",
   "toc_cell": false,
   "toc_position": {
    "height": "calc(100% - 180px)",
    "left": "10px",
    "top": "150px",
    "width": "165px"
   },
   "toc_section_display": true,
   "toc_window_display": false
  },
  "varInspector": {
   "cols": {
    "lenName": 16,
    "lenType": 16,
    "lenVar": 40
   },
   "kernels_config": {
    "python": {
     "delete_cmd_postfix": "",
     "delete_cmd_prefix": "del ",
     "library": "var_list.py",
     "varRefreshCmd": "print(var_dic_list())"
    },
    "r": {
     "delete_cmd_postfix": ") ",
     "delete_cmd_prefix": "rm(",
     "library": "var_list.r",
     "varRefreshCmd": "cat(var_dic_list()) "
    }
   },
   "position": {
    "height": "576.729px",
    "left": "557.396px",
    "right": "20px",
    "top": "35.9688px",
    "width": "350px"
   },
   "types_to_exclude": [
    "module",
    "function",
    "builtin_function_or_method",
    "instance",
    "_Feature"
   ],
   "window_display": false
  }
 },
 "nbformat": 4,
 "nbformat_minor": 5
}
