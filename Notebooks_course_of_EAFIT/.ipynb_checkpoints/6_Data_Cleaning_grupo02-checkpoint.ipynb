{
 "cells": [
  {
   "cell_type": "markdown",
   "metadata": {},
   "source": [
    "# Exploración del Dataset\n",
    "<br>\n",
    "<br>\n",
    "\n",
    "<img alt=\"Colaboratory logo\" src=\"explorar_datasets.png\" height = \"600\" width = \"600\">"
   ]
  },
  {
   "cell_type": "code",
   "execution_count": 2,
   "metadata": {
    "ExecuteTime": {
     "end_time": "2021-08-05T23:10:32.492503Z",
     "start_time": "2021-08-05T23:10:31.571783Z"
    }
   },
   "outputs": [],
   "source": [
    "import pandas as pd\n",
    "import numpy as np\n",
    "import copy\n",
    "import seaborn as sns\n",
    "import matplotlib.pyplot as plt\n",
    "from datetime import date, timedelta\n",
    "import warnings \n",
    "warnings.filterwarnings('ignore')"
   ]
  },
  {
   "cell_type": "markdown",
   "metadata": {},
   "source": [
    "# Dataset"
   ]
  },
  {
   "cell_type": "code",
   "execution_count": 23,
   "metadata": {},
   "outputs": [
    {
     "data": {
      "text/html": [
       "<div>\n",
       "<style scoped>\n",
       "    .dataframe tbody tr th:only-of-type {\n",
       "        vertical-align: middle;\n",
       "    }\n",
       "\n",
       "    .dataframe tbody tr th {\n",
       "        vertical-align: top;\n",
       "    }\n",
       "\n",
       "    .dataframe thead th {\n",
       "        text-align: right;\n",
       "    }\n",
       "</style>\n",
       "<table border=\"1\" class=\"dataframe\">\n",
       "  <thead>\n",
       "    <tr style=\"text-align: right;\">\n",
       "      <th></th>\n",
       "      <th>number</th>\n",
       "      <th>first_name</th>\n",
       "      <th>last_name</th>\n",
       "      <th>gender</th>\n",
       "      <th>birth_date</th>\n",
       "      <th>employment_status</th>\n",
       "      <th>annual_salary</th>\n",
       "      <th>tax_file_no</th>\n",
       "    </tr>\n",
       "  </thead>\n",
       "  <tbody>\n",
       "    <tr>\n",
       "      <th>0</th>\n",
       "      <td>483</td>\n",
       "      <td>Lenord</td>\n",
       "      <td>Kihn</td>\n",
       "      <td>M</td>\n",
       "      <td>1994-07-01</td>\n",
       "      <td>NaN</td>\n",
       "      <td>64598.0</td>\n",
       "      <td>NaN</td>\n",
       "    </tr>\n",
       "    <tr>\n",
       "      <th>1</th>\n",
       "      <td>478</td>\n",
       "      <td>Palma</td>\n",
       "      <td>Beahan</td>\n",
       "      <td>F</td>\n",
       "      <td>1972-05-06</td>\n",
       "      <td>PE</td>\n",
       "      <td>124103.0</td>\n",
       "      <td>NaN</td>\n",
       "    </tr>\n",
       "    <tr>\n",
       "      <th>2</th>\n",
       "      <td>348</td>\n",
       "      <td>Hebert</td>\n",
       "      <td>Muller</td>\n",
       "      <td>M</td>\n",
       "      <td>1990-09-04</td>\n",
       "      <td>PE</td>\n",
       "      <td>100324.0</td>\n",
       "      <td>NaN</td>\n",
       "    </tr>\n",
       "    <tr>\n",
       "      <th>3</th>\n",
       "      <td>757</td>\n",
       "      <td>Virginia</td>\n",
       "      <td>Ullrich</td>\n",
       "      <td>M</td>\n",
       "      <td>1991-09-23</td>\n",
       "      <td>PE</td>\n",
       "      <td>144957.0</td>\n",
       "      <td>NaN</td>\n",
       "    </tr>\n",
       "    <tr>\n",
       "      <th>4</th>\n",
       "      <td>937</td>\n",
       "      <td>Roby</td>\n",
       "      <td>Hudson</td>\n",
       "      <td>M</td>\n",
       "      <td>1997-01-15</td>\n",
       "      <td>NaN</td>\n",
       "      <td>137659.0</td>\n",
       "      <td>NaN</td>\n",
       "    </tr>\n",
       "    <tr>\n",
       "      <th>...</th>\n",
       "      <td>...</td>\n",
       "      <td>...</td>\n",
       "      <td>...</td>\n",
       "      <td>...</td>\n",
       "      <td>...</td>\n",
       "      <td>...</td>\n",
       "      <td>...</td>\n",
       "      <td>...</td>\n",
       "    </tr>\n",
       "    <tr>\n",
       "      <th>995</th>\n",
       "      <td>712</td>\n",
       "      <td>Dann</td>\n",
       "      <td>Crooks</td>\n",
       "      <td>NaN</td>\n",
       "      <td>1983-12-25</td>\n",
       "      <td>CA</td>\n",
       "      <td>66592.0</td>\n",
       "      <td>NaN</td>\n",
       "    </tr>\n",
       "    <tr>\n",
       "      <th>996</th>\n",
       "      <td>132</td>\n",
       "      <td>Maxim</td>\n",
       "      <td>Orn</td>\n",
       "      <td>M</td>\n",
       "      <td>1971-03-01</td>\n",
       "      <td>CA</td>\n",
       "      <td>127966.0</td>\n",
       "      <td>NaN</td>\n",
       "    </tr>\n",
       "    <tr>\n",
       "      <th>997</th>\n",
       "      <td>126</td>\n",
       "      <td>Kimberli</td>\n",
       "      <td>Walter</td>\n",
       "      <td>M</td>\n",
       "      <td>1976-03-07</td>\n",
       "      <td>CA</td>\n",
       "      <td>60712.0</td>\n",
       "      <td>NaN</td>\n",
       "    </tr>\n",
       "    <tr>\n",
       "      <th>998</th>\n",
       "      <td>277</td>\n",
       "      <td>Talmage</td>\n",
       "      <td>Bartell</td>\n",
       "      <td>F</td>\n",
       "      <td>1989-02-19</td>\n",
       "      <td>PE</td>\n",
       "      <td>103606.0</td>\n",
       "      <td>NaN</td>\n",
       "    </tr>\n",
       "    <tr>\n",
       "      <th>999</th>\n",
       "      <td>960</td>\n",
       "      <td>Laurie</td>\n",
       "      <td>Nienow</td>\n",
       "      <td>M</td>\n",
       "      <td>1993-04-01</td>\n",
       "      <td>PE</td>\n",
       "      <td>127405.0</td>\n",
       "      <td>NaN</td>\n",
       "    </tr>\n",
       "  </tbody>\n",
       "</table>\n",
       "<p>1000 rows × 8 columns</p>\n",
       "</div>"
      ],
      "text/plain": [
       "     number first_name last_name gender  birth_date employment_status  \\\n",
       "0       483     Lenord      Kihn      M  1994-07-01               NaN   \n",
       "1       478      Palma    Beahan      F  1972-05-06                PE   \n",
       "2       348     Hebert    Muller      M  1990-09-04                PE   \n",
       "3       757   Virginia   Ullrich      M  1991-09-23                PE   \n",
       "4       937       Roby    Hudson      M  1997-01-15               NaN   \n",
       "..      ...        ...       ...    ...         ...               ...   \n",
       "995     712       Dann    Crooks    NaN  1983-12-25                CA   \n",
       "996     132      Maxim       Orn      M  1971-03-01                CA   \n",
       "997     126   Kimberli    Walter      M  1976-03-07                CA   \n",
       "998     277    Talmage   Bartell      F  1989-02-19                PE   \n",
       "999     960     Laurie    Nienow      M  1993-04-01                PE   \n",
       "\n",
       "     annual_salary  tax_file_no  \n",
       "0          64598.0          NaN  \n",
       "1         124103.0          NaN  \n",
       "2         100324.0          NaN  \n",
       "3         144957.0          NaN  \n",
       "4         137659.0          NaN  \n",
       "..             ...          ...  \n",
       "995        66592.0          NaN  \n",
       "996       127966.0          NaN  \n",
       "997        60712.0          NaN  \n",
       "998       103606.0          NaN  \n",
       "999       127405.0          NaN  \n",
       "\n",
       "[1000 rows x 8 columns]"
      ]
     },
     "execution_count": 23,
     "metadata": {},
     "output_type": "execute_result"
    }
   ],
   "source": [
    "df_employee = pd.read_csv(\"./datasets/employee_data.csv\")\n",
    "df_employee.loc[635:650, \"annual_salary\"] = np.nan\n",
    "df_employee"
   ]
  },
  {
   "cell_type": "code",
   "execution_count": 5,
   "metadata": {},
   "outputs": [
    {
     "name": "stdout",
     "output_type": "stream",
     "text": [
      "<class 'pandas.core.frame.DataFrame'>\n",
      "RangeIndex: 1000 entries, 0 to 999\n",
      "Data columns (total 8 columns):\n",
      " #   Column             Non-Null Count  Dtype  \n",
      "---  ------             --------------  -----  \n",
      " 0   number             1000 non-null   int64  \n",
      " 1   first_name         999 non-null    object \n",
      " 2   last_name          999 non-null    object \n",
      " 3   gender             793 non-null    object \n",
      " 4   birth_date         999 non-null    object \n",
      " 5   employment_status  811 non-null    object \n",
      " 6   annual_salary      983 non-null    float64\n",
      " 7   tax_file_no        0 non-null      float64\n",
      "dtypes: float64(2), int64(1), object(5)\n",
      "memory usage: 62.6+ KB\n"
     ]
    }
   ],
   "source": [
    "df_employee.info()"
   ]
  },
  {
   "cell_type": "code",
   "execution_count": 6,
   "metadata": {},
   "outputs": [
    {
     "data": {
      "text/plain": [
       "number                  0\n",
       "first_name              1\n",
       "last_name               1\n",
       "gender                207\n",
       "birth_date              1\n",
       "employment_status     189\n",
       "annual_salary          17\n",
       "tax_file_no          1000\n",
       "dtype: int64"
      ]
     },
     "execution_count": 6,
     "metadata": {},
     "output_type": "execute_result"
    }
   ],
   "source": [
    "df_employee.isnull().sum()"
   ]
  },
  {
   "cell_type": "markdown",
   "metadata": {},
   "source": [
    "## Porcentaje de datos nulos"
   ]
  },
  {
   "cell_type": "code",
   "execution_count": 7,
   "metadata": {},
   "outputs": [
    {
     "name": "stdout",
     "output_type": "stream",
     "text": [
      "1000 8\n"
     ]
    }
   ],
   "source": [
    "rows = df_employee.shape[0]\n",
    "columns = df_employee.shape[1]\n",
    "print(rows, columns)"
   ]
  },
  {
   "cell_type": "code",
   "execution_count": 9,
   "metadata": {},
   "outputs": [
    {
     "data": {
      "text/plain": [
       "8000"
      ]
     },
     "execution_count": 9,
     "metadata": {},
     "output_type": "execute_result"
    }
   ],
   "source": [
    "cell_count = rows * columns\n",
    "cell_count"
   ]
  },
  {
   "cell_type": "code",
   "execution_count": 16,
   "metadata": {},
   "outputs": [
    {
     "name": "stdout",
     "output_type": "stream",
     "text": [
      "Porcentage de valores nulos en el dataset: ---> 17.7%\n",
      "Cantidad de valores nulos:--------------------> 1416\n"
     ]
    }
   ],
   "source": [
    "number_of_nulls = df_employee.isnull().sum().sum()\n",
    "percentage_of_missing = (number_of_nulls/cell_count)*100\n",
    "print(f\"Porcentage de valores nulos en el dataset: ---> {percentage_of_missing}%\")\n",
    "print(f\"Cantidad de valores nulos:--------------------> {number_of_nulls}\")"
   ]
  },
  {
   "cell_type": "markdown",
   "metadata": {
    "ExecuteTime": {
     "end_time": "2021-08-04T20:10:17.233890Z",
     "start_time": "2021-08-04T20:10:17.229010Z"
    }
   },
   "source": [
    "## Eliminar datos nulos de columnas\n",
    "\n",
    "Las columnas que sean irrelevantes desde el punto de vista del contexto, o que tengan demasiado valores nulos y no puedan ser \"imputados\" se deben remover de los datos"
   ]
  },
  {
   "cell_type": "code",
   "execution_count": 17,
   "metadata": {},
   "outputs": [
    {
     "data": {
      "text/plain": [
       "number                  0\n",
       "first_name              1\n",
       "last_name               1\n",
       "gender                207\n",
       "birth_date              1\n",
       "employment_status     189\n",
       "annual_salary          17\n",
       "tax_file_no          1000\n",
       "dtype: int64"
      ]
     },
     "execution_count": 17,
     "metadata": {},
     "output_type": "execute_result"
    }
   ],
   "source": [
    "df_employee.isnull().sum()"
   ]
  },
  {
   "cell_type": "code",
   "execution_count": 18,
   "metadata": {},
   "outputs": [
    {
     "data": {
      "text/html": [
       "<div>\n",
       "<style scoped>\n",
       "    .dataframe tbody tr th:only-of-type {\n",
       "        vertical-align: middle;\n",
       "    }\n",
       "\n",
       "    .dataframe tbody tr th {\n",
       "        vertical-align: top;\n",
       "    }\n",
       "\n",
       "    .dataframe thead th {\n",
       "        text-align: right;\n",
       "    }\n",
       "</style>\n",
       "<table border=\"1\" class=\"dataframe\">\n",
       "  <thead>\n",
       "    <tr style=\"text-align: right;\">\n",
       "      <th></th>\n",
       "      <th>number</th>\n",
       "      <th>first_name</th>\n",
       "      <th>last_name</th>\n",
       "      <th>gender</th>\n",
       "      <th>birth_date</th>\n",
       "      <th>employment_status</th>\n",
       "      <th>annual_salary</th>\n",
       "    </tr>\n",
       "  </thead>\n",
       "  <tbody>\n",
       "    <tr>\n",
       "      <th>0</th>\n",
       "      <td>483</td>\n",
       "      <td>Lenord</td>\n",
       "      <td>Kihn</td>\n",
       "      <td>M</td>\n",
       "      <td>1994-07-01</td>\n",
       "      <td>NaN</td>\n",
       "      <td>64598.0</td>\n",
       "    </tr>\n",
       "    <tr>\n",
       "      <th>1</th>\n",
       "      <td>478</td>\n",
       "      <td>Palma</td>\n",
       "      <td>Beahan</td>\n",
       "      <td>F</td>\n",
       "      <td>1972-05-06</td>\n",
       "      <td>PE</td>\n",
       "      <td>124103.0</td>\n",
       "    </tr>\n",
       "    <tr>\n",
       "      <th>2</th>\n",
       "      <td>348</td>\n",
       "      <td>Hebert</td>\n",
       "      <td>Muller</td>\n",
       "      <td>M</td>\n",
       "      <td>1990-09-04</td>\n",
       "      <td>PE</td>\n",
       "      <td>100324.0</td>\n",
       "    </tr>\n",
       "    <tr>\n",
       "      <th>3</th>\n",
       "      <td>757</td>\n",
       "      <td>Virginia</td>\n",
       "      <td>Ullrich</td>\n",
       "      <td>M</td>\n",
       "      <td>1991-09-23</td>\n",
       "      <td>PE</td>\n",
       "      <td>144957.0</td>\n",
       "    </tr>\n",
       "    <tr>\n",
       "      <th>4</th>\n",
       "      <td>937</td>\n",
       "      <td>Roby</td>\n",
       "      <td>Hudson</td>\n",
       "      <td>M</td>\n",
       "      <td>1997-01-15</td>\n",
       "      <td>NaN</td>\n",
       "      <td>137659.0</td>\n",
       "    </tr>\n",
       "    <tr>\n",
       "      <th>...</th>\n",
       "      <td>...</td>\n",
       "      <td>...</td>\n",
       "      <td>...</td>\n",
       "      <td>...</td>\n",
       "      <td>...</td>\n",
       "      <td>...</td>\n",
       "      <td>...</td>\n",
       "    </tr>\n",
       "    <tr>\n",
       "      <th>995</th>\n",
       "      <td>712</td>\n",
       "      <td>Dann</td>\n",
       "      <td>Crooks</td>\n",
       "      <td>NaN</td>\n",
       "      <td>1983-12-25</td>\n",
       "      <td>CA</td>\n",
       "      <td>66592.0</td>\n",
       "    </tr>\n",
       "    <tr>\n",
       "      <th>996</th>\n",
       "      <td>132</td>\n",
       "      <td>Maxim</td>\n",
       "      <td>Orn</td>\n",
       "      <td>M</td>\n",
       "      <td>1971-03-01</td>\n",
       "      <td>CA</td>\n",
       "      <td>127966.0</td>\n",
       "    </tr>\n",
       "    <tr>\n",
       "      <th>997</th>\n",
       "      <td>126</td>\n",
       "      <td>Kimberli</td>\n",
       "      <td>Walter</td>\n",
       "      <td>M</td>\n",
       "      <td>1976-03-07</td>\n",
       "      <td>CA</td>\n",
       "      <td>60712.0</td>\n",
       "    </tr>\n",
       "    <tr>\n",
       "      <th>998</th>\n",
       "      <td>277</td>\n",
       "      <td>Talmage</td>\n",
       "      <td>Bartell</td>\n",
       "      <td>F</td>\n",
       "      <td>1989-02-19</td>\n",
       "      <td>PE</td>\n",
       "      <td>103606.0</td>\n",
       "    </tr>\n",
       "    <tr>\n",
       "      <th>999</th>\n",
       "      <td>960</td>\n",
       "      <td>Laurie</td>\n",
       "      <td>Nienow</td>\n",
       "      <td>M</td>\n",
       "      <td>1993-04-01</td>\n",
       "      <td>PE</td>\n",
       "      <td>127405.0</td>\n",
       "    </tr>\n",
       "  </tbody>\n",
       "</table>\n",
       "<p>1000 rows × 7 columns</p>\n",
       "</div>"
      ],
      "text/plain": [
       "     number first_name last_name gender  birth_date employment_status  \\\n",
       "0       483     Lenord      Kihn      M  1994-07-01               NaN   \n",
       "1       478      Palma    Beahan      F  1972-05-06                PE   \n",
       "2       348     Hebert    Muller      M  1990-09-04                PE   \n",
       "3       757   Virginia   Ullrich      M  1991-09-23                PE   \n",
       "4       937       Roby    Hudson      M  1997-01-15               NaN   \n",
       "..      ...        ...       ...    ...         ...               ...   \n",
       "995     712       Dann    Crooks    NaN  1983-12-25                CA   \n",
       "996     132      Maxim       Orn      M  1971-03-01                CA   \n",
       "997     126   Kimberli    Walter      M  1976-03-07                CA   \n",
       "998     277    Talmage   Bartell      F  1989-02-19                PE   \n",
       "999     960     Laurie    Nienow      M  1993-04-01                PE   \n",
       "\n",
       "     annual_salary  \n",
       "0          64598.0  \n",
       "1         124103.0  \n",
       "2         100324.0  \n",
       "3         144957.0  \n",
       "4         137659.0  \n",
       "..             ...  \n",
       "995        66592.0  \n",
       "996       127966.0  \n",
       "997        60712.0  \n",
       "998       103606.0  \n",
       "999       127405.0  \n",
       "\n",
       "[1000 rows x 7 columns]"
      ]
     },
     "execution_count": 18,
     "metadata": {},
     "output_type": "execute_result"
    }
   ],
   "source": [
    "df_employee.dropna(axis = \"columns\", how = \"all\")"
   ]
  },
  {
   "cell_type": "code",
   "execution_count": 22,
   "metadata": {},
   "outputs": [
    {
     "data": {
      "text/html": [
       "<div>\n",
       "<style scoped>\n",
       "    .dataframe tbody tr th:only-of-type {\n",
       "        vertical-align: middle;\n",
       "    }\n",
       "\n",
       "    .dataframe tbody tr th {\n",
       "        vertical-align: top;\n",
       "    }\n",
       "\n",
       "    .dataframe thead th {\n",
       "        text-align: right;\n",
       "    }\n",
       "</style>\n",
       "<table border=\"1\" class=\"dataframe\">\n",
       "  <thead>\n",
       "    <tr style=\"text-align: right;\">\n",
       "      <th></th>\n",
       "      <th>number</th>\n",
       "      <th>first_name</th>\n",
       "      <th>last_name</th>\n",
       "      <th>gender</th>\n",
       "      <th>birth_date</th>\n",
       "      <th>employment_status</th>\n",
       "      <th>annual_salary</th>\n",
       "    </tr>\n",
       "  </thead>\n",
       "  <tbody>\n",
       "    <tr>\n",
       "      <th>0</th>\n",
       "      <td>483</td>\n",
       "      <td>Lenord</td>\n",
       "      <td>Kihn</td>\n",
       "      <td>M</td>\n",
       "      <td>1994-07-01</td>\n",
       "      <td>NaN</td>\n",
       "      <td>64598.0</td>\n",
       "    </tr>\n",
       "    <tr>\n",
       "      <th>1</th>\n",
       "      <td>478</td>\n",
       "      <td>Palma</td>\n",
       "      <td>Beahan</td>\n",
       "      <td>F</td>\n",
       "      <td>1972-05-06</td>\n",
       "      <td>PE</td>\n",
       "      <td>124103.0</td>\n",
       "    </tr>\n",
       "    <tr>\n",
       "      <th>2</th>\n",
       "      <td>348</td>\n",
       "      <td>Hebert</td>\n",
       "      <td>Muller</td>\n",
       "      <td>M</td>\n",
       "      <td>1990-09-04</td>\n",
       "      <td>PE</td>\n",
       "      <td>100324.0</td>\n",
       "    </tr>\n",
       "    <tr>\n",
       "      <th>3</th>\n",
       "      <td>757</td>\n",
       "      <td>Virginia</td>\n",
       "      <td>Ullrich</td>\n",
       "      <td>M</td>\n",
       "      <td>1991-09-23</td>\n",
       "      <td>PE</td>\n",
       "      <td>144957.0</td>\n",
       "    </tr>\n",
       "    <tr>\n",
       "      <th>4</th>\n",
       "      <td>937</td>\n",
       "      <td>Roby</td>\n",
       "      <td>Hudson</td>\n",
       "      <td>M</td>\n",
       "      <td>1997-01-15</td>\n",
       "      <td>NaN</td>\n",
       "      <td>137659.0</td>\n",
       "    </tr>\n",
       "    <tr>\n",
       "      <th>...</th>\n",
       "      <td>...</td>\n",
       "      <td>...</td>\n",
       "      <td>...</td>\n",
       "      <td>...</td>\n",
       "      <td>...</td>\n",
       "      <td>...</td>\n",
       "      <td>...</td>\n",
       "    </tr>\n",
       "    <tr>\n",
       "      <th>995</th>\n",
       "      <td>712</td>\n",
       "      <td>Dann</td>\n",
       "      <td>Crooks</td>\n",
       "      <td>NaN</td>\n",
       "      <td>1983-12-25</td>\n",
       "      <td>CA</td>\n",
       "      <td>66592.0</td>\n",
       "    </tr>\n",
       "    <tr>\n",
       "      <th>996</th>\n",
       "      <td>132</td>\n",
       "      <td>Maxim</td>\n",
       "      <td>Orn</td>\n",
       "      <td>M</td>\n",
       "      <td>1971-03-01</td>\n",
       "      <td>CA</td>\n",
       "      <td>127966.0</td>\n",
       "    </tr>\n",
       "    <tr>\n",
       "      <th>997</th>\n",
       "      <td>126</td>\n",
       "      <td>Kimberli</td>\n",
       "      <td>Walter</td>\n",
       "      <td>M</td>\n",
       "      <td>1976-03-07</td>\n",
       "      <td>CA</td>\n",
       "      <td>60712.0</td>\n",
       "    </tr>\n",
       "    <tr>\n",
       "      <th>998</th>\n",
       "      <td>277</td>\n",
       "      <td>Talmage</td>\n",
       "      <td>Bartell</td>\n",
       "      <td>F</td>\n",
       "      <td>1989-02-19</td>\n",
       "      <td>PE</td>\n",
       "      <td>103606.0</td>\n",
       "    </tr>\n",
       "    <tr>\n",
       "      <th>999</th>\n",
       "      <td>960</td>\n",
       "      <td>Laurie</td>\n",
       "      <td>Nienow</td>\n",
       "      <td>M</td>\n",
       "      <td>1993-04-01</td>\n",
       "      <td>PE</td>\n",
       "      <td>127405.0</td>\n",
       "    </tr>\n",
       "  </tbody>\n",
       "</table>\n",
       "<p>1000 rows × 7 columns</p>\n",
       "</div>"
      ],
      "text/plain": [
       "     number first_name last_name gender  birth_date employment_status  \\\n",
       "0       483     Lenord      Kihn      M  1994-07-01               NaN   \n",
       "1       478      Palma    Beahan      F  1972-05-06                PE   \n",
       "2       348     Hebert    Muller      M  1990-09-04                PE   \n",
       "3       757   Virginia   Ullrich      M  1991-09-23                PE   \n",
       "4       937       Roby    Hudson      M  1997-01-15               NaN   \n",
       "..      ...        ...       ...    ...         ...               ...   \n",
       "995     712       Dann    Crooks    NaN  1983-12-25                CA   \n",
       "996     132      Maxim       Orn      M  1971-03-01                CA   \n",
       "997     126   Kimberli    Walter      M  1976-03-07                CA   \n",
       "998     277    Talmage   Bartell      F  1989-02-19                PE   \n",
       "999     960     Laurie    Nienow      M  1993-04-01                PE   \n",
       "\n",
       "     annual_salary  \n",
       "0          64598.0  \n",
       "1         124103.0  \n",
       "2         100324.0  \n",
       "3         144957.0  \n",
       "4         137659.0  \n",
       "..             ...  \n",
       "995        66592.0  \n",
       "996       127966.0  \n",
       "997        60712.0  \n",
       "998       103606.0  \n",
       "999       127405.0  \n",
       "\n",
       "[1000 rows x 7 columns]"
      ]
     },
     "execution_count": 22,
     "metadata": {},
     "output_type": "execute_result"
    }
   ],
   "source": [
    "df_employee.drop(labels = [\"tax_file_no\"], axis = 1)"
   ]
  },
  {
   "cell_type": "markdown",
   "metadata": {},
   "source": [
    "## Remover renglones\n",
    "\n",
    "Podemos remover renglones que tengan cierta cantidad datos nulos."
   ]
  },
  {
   "cell_type": "code",
   "execution_count": 23,
   "metadata": {},
   "outputs": [
    {
     "data": {
      "text/html": [
       "<div>\n",
       "<style scoped>\n",
       "    .dataframe tbody tr th:only-of-type {\n",
       "        vertical-align: middle;\n",
       "    }\n",
       "\n",
       "    .dataframe tbody tr th {\n",
       "        vertical-align: top;\n",
       "    }\n",
       "\n",
       "    .dataframe thead th {\n",
       "        text-align: right;\n",
       "    }\n",
       "</style>\n",
       "<table border=\"1\" class=\"dataframe\">\n",
       "  <thead>\n",
       "    <tr style=\"text-align: right;\">\n",
       "      <th></th>\n",
       "      <th>number</th>\n",
       "      <th>first_name</th>\n",
       "      <th>last_name</th>\n",
       "      <th>gender</th>\n",
       "      <th>birth_date</th>\n",
       "      <th>employment_status</th>\n",
       "      <th>annual_salary</th>\n",
       "      <th>tax_file_no</th>\n",
       "    </tr>\n",
       "  </thead>\n",
       "  <tbody>\n",
       "    <tr>\n",
       "      <th>0</th>\n",
       "      <td>483</td>\n",
       "      <td>Lenord</td>\n",
       "      <td>Kihn</td>\n",
       "      <td>M</td>\n",
       "      <td>1994-07-01</td>\n",
       "      <td>NaN</td>\n",
       "      <td>64598.0</td>\n",
       "      <td>NaN</td>\n",
       "    </tr>\n",
       "    <tr>\n",
       "      <th>1</th>\n",
       "      <td>478</td>\n",
       "      <td>Palma</td>\n",
       "      <td>Beahan</td>\n",
       "      <td>F</td>\n",
       "      <td>1972-05-06</td>\n",
       "      <td>PE</td>\n",
       "      <td>124103.0</td>\n",
       "      <td>NaN</td>\n",
       "    </tr>\n",
       "    <tr>\n",
       "      <th>2</th>\n",
       "      <td>348</td>\n",
       "      <td>Hebert</td>\n",
       "      <td>Muller</td>\n",
       "      <td>M</td>\n",
       "      <td>1990-09-04</td>\n",
       "      <td>PE</td>\n",
       "      <td>100324.0</td>\n",
       "      <td>NaN</td>\n",
       "    </tr>\n",
       "    <tr>\n",
       "      <th>3</th>\n",
       "      <td>757</td>\n",
       "      <td>Virginia</td>\n",
       "      <td>Ullrich</td>\n",
       "      <td>M</td>\n",
       "      <td>1991-09-23</td>\n",
       "      <td>PE</td>\n",
       "      <td>144957.0</td>\n",
       "      <td>NaN</td>\n",
       "    </tr>\n",
       "    <tr>\n",
       "      <th>4</th>\n",
       "      <td>937</td>\n",
       "      <td>Roby</td>\n",
       "      <td>Hudson</td>\n",
       "      <td>M</td>\n",
       "      <td>1997-01-15</td>\n",
       "      <td>NaN</td>\n",
       "      <td>137659.0</td>\n",
       "      <td>NaN</td>\n",
       "    </tr>\n",
       "    <tr>\n",
       "      <th>...</th>\n",
       "      <td>...</td>\n",
       "      <td>...</td>\n",
       "      <td>...</td>\n",
       "      <td>...</td>\n",
       "      <td>...</td>\n",
       "      <td>...</td>\n",
       "      <td>...</td>\n",
       "      <td>...</td>\n",
       "    </tr>\n",
       "    <tr>\n",
       "      <th>995</th>\n",
       "      <td>712</td>\n",
       "      <td>Dann</td>\n",
       "      <td>Crooks</td>\n",
       "      <td>NaN</td>\n",
       "      <td>1983-12-25</td>\n",
       "      <td>CA</td>\n",
       "      <td>66592.0</td>\n",
       "      <td>NaN</td>\n",
       "    </tr>\n",
       "    <tr>\n",
       "      <th>996</th>\n",
       "      <td>132</td>\n",
       "      <td>Maxim</td>\n",
       "      <td>Orn</td>\n",
       "      <td>M</td>\n",
       "      <td>1971-03-01</td>\n",
       "      <td>CA</td>\n",
       "      <td>127966.0</td>\n",
       "      <td>NaN</td>\n",
       "    </tr>\n",
       "    <tr>\n",
       "      <th>997</th>\n",
       "      <td>126</td>\n",
       "      <td>Kimberli</td>\n",
       "      <td>Walter</td>\n",
       "      <td>M</td>\n",
       "      <td>1976-03-07</td>\n",
       "      <td>CA</td>\n",
       "      <td>60712.0</td>\n",
       "      <td>NaN</td>\n",
       "    </tr>\n",
       "    <tr>\n",
       "      <th>998</th>\n",
       "      <td>277</td>\n",
       "      <td>Talmage</td>\n",
       "      <td>Bartell</td>\n",
       "      <td>F</td>\n",
       "      <td>1989-02-19</td>\n",
       "      <td>PE</td>\n",
       "      <td>103606.0</td>\n",
       "      <td>NaN</td>\n",
       "    </tr>\n",
       "    <tr>\n",
       "      <th>999</th>\n",
       "      <td>960</td>\n",
       "      <td>Laurie</td>\n",
       "      <td>Nienow</td>\n",
       "      <td>M</td>\n",
       "      <td>1993-04-01</td>\n",
       "      <td>PE</td>\n",
       "      <td>127405.0</td>\n",
       "      <td>NaN</td>\n",
       "    </tr>\n",
       "  </tbody>\n",
       "</table>\n",
       "<p>1000 rows × 8 columns</p>\n",
       "</div>"
      ],
      "text/plain": [
       "     number first_name last_name gender  birth_date employment_status  \\\n",
       "0       483     Lenord      Kihn      M  1994-07-01               NaN   \n",
       "1       478      Palma    Beahan      F  1972-05-06                PE   \n",
       "2       348     Hebert    Muller      M  1990-09-04                PE   \n",
       "3       757   Virginia   Ullrich      M  1991-09-23                PE   \n",
       "4       937       Roby    Hudson      M  1997-01-15               NaN   \n",
       "..      ...        ...       ...    ...         ...               ...   \n",
       "995     712       Dann    Crooks    NaN  1983-12-25                CA   \n",
       "996     132      Maxim       Orn      M  1971-03-01                CA   \n",
       "997     126   Kimberli    Walter      M  1976-03-07                CA   \n",
       "998     277    Talmage   Bartell      F  1989-02-19                PE   \n",
       "999     960     Laurie    Nienow      M  1993-04-01                PE   \n",
       "\n",
       "     annual_salary  tax_file_no  \n",
       "0          64598.0          NaN  \n",
       "1         124103.0          NaN  \n",
       "2         100324.0          NaN  \n",
       "3         144957.0          NaN  \n",
       "4         137659.0          NaN  \n",
       "..             ...          ...  \n",
       "995        66592.0          NaN  \n",
       "996       127966.0          NaN  \n",
       "997        60712.0          NaN  \n",
       "998       103606.0          NaN  \n",
       "999       127405.0          NaN  \n",
       "\n",
       "[1000 rows x 8 columns]"
      ]
     },
     "execution_count": 23,
     "metadata": {},
     "output_type": "execute_result"
    }
   ],
   "source": [
    "df_employee.dropna(axis = \"index\", how = \"all\")"
   ]
  },
  {
   "cell_type": "code",
   "execution_count": 27,
   "metadata": {},
   "outputs": [
    {
     "data": {
      "text/html": [
       "<div>\n",
       "<style scoped>\n",
       "    .dataframe tbody tr th:only-of-type {\n",
       "        vertical-align: middle;\n",
       "    }\n",
       "\n",
       "    .dataframe tbody tr th {\n",
       "        vertical-align: top;\n",
       "    }\n",
       "\n",
       "    .dataframe thead th {\n",
       "        text-align: right;\n",
       "    }\n",
       "</style>\n",
       "<table border=\"1\" class=\"dataframe\">\n",
       "  <thead>\n",
       "    <tr style=\"text-align: right;\">\n",
       "      <th></th>\n",
       "      <th>number</th>\n",
       "      <th>first_name</th>\n",
       "      <th>last_name</th>\n",
       "      <th>gender</th>\n",
       "      <th>birth_date</th>\n",
       "      <th>employment_status</th>\n",
       "      <th>annual_salary</th>\n",
       "      <th>tax_file_no</th>\n",
       "    </tr>\n",
       "  </thead>\n",
       "  <tbody>\n",
       "    <tr>\n",
       "      <th>0</th>\n",
       "      <td>483</td>\n",
       "      <td>Lenord</td>\n",
       "      <td>Kihn</td>\n",
       "      <td>M</td>\n",
       "      <td>1994-07-01</td>\n",
       "      <td>NaN</td>\n",
       "      <td>64598.0</td>\n",
       "      <td>NaN</td>\n",
       "    </tr>\n",
       "    <tr>\n",
       "      <th>1</th>\n",
       "      <td>478</td>\n",
       "      <td>Palma</td>\n",
       "      <td>Beahan</td>\n",
       "      <td>F</td>\n",
       "      <td>1972-05-06</td>\n",
       "      <td>PE</td>\n",
       "      <td>124103.0</td>\n",
       "      <td>NaN</td>\n",
       "    </tr>\n",
       "    <tr>\n",
       "      <th>2</th>\n",
       "      <td>348</td>\n",
       "      <td>Hebert</td>\n",
       "      <td>Muller</td>\n",
       "      <td>M</td>\n",
       "      <td>1990-09-04</td>\n",
       "      <td>PE</td>\n",
       "      <td>100324.0</td>\n",
       "      <td>NaN</td>\n",
       "    </tr>\n",
       "    <tr>\n",
       "      <th>3</th>\n",
       "      <td>757</td>\n",
       "      <td>Virginia</td>\n",
       "      <td>Ullrich</td>\n",
       "      <td>M</td>\n",
       "      <td>1991-09-23</td>\n",
       "      <td>PE</td>\n",
       "      <td>144957.0</td>\n",
       "      <td>NaN</td>\n",
       "    </tr>\n",
       "    <tr>\n",
       "      <th>4</th>\n",
       "      <td>937</td>\n",
       "      <td>Roby</td>\n",
       "      <td>Hudson</td>\n",
       "      <td>M</td>\n",
       "      <td>1997-01-15</td>\n",
       "      <td>NaN</td>\n",
       "      <td>137659.0</td>\n",
       "      <td>NaN</td>\n",
       "    </tr>\n",
       "    <tr>\n",
       "      <th>...</th>\n",
       "      <td>...</td>\n",
       "      <td>...</td>\n",
       "      <td>...</td>\n",
       "      <td>...</td>\n",
       "      <td>...</td>\n",
       "      <td>...</td>\n",
       "      <td>...</td>\n",
       "      <td>...</td>\n",
       "    </tr>\n",
       "    <tr>\n",
       "      <th>995</th>\n",
       "      <td>712</td>\n",
       "      <td>Dann</td>\n",
       "      <td>Crooks</td>\n",
       "      <td>NaN</td>\n",
       "      <td>1983-12-25</td>\n",
       "      <td>CA</td>\n",
       "      <td>66592.0</td>\n",
       "      <td>NaN</td>\n",
       "    </tr>\n",
       "    <tr>\n",
       "      <th>996</th>\n",
       "      <td>132</td>\n",
       "      <td>Maxim</td>\n",
       "      <td>Orn</td>\n",
       "      <td>M</td>\n",
       "      <td>1971-03-01</td>\n",
       "      <td>CA</td>\n",
       "      <td>127966.0</td>\n",
       "      <td>NaN</td>\n",
       "    </tr>\n",
       "    <tr>\n",
       "      <th>997</th>\n",
       "      <td>126</td>\n",
       "      <td>Kimberli</td>\n",
       "      <td>Walter</td>\n",
       "      <td>M</td>\n",
       "      <td>1976-03-07</td>\n",
       "      <td>CA</td>\n",
       "      <td>60712.0</td>\n",
       "      <td>NaN</td>\n",
       "    </tr>\n",
       "    <tr>\n",
       "      <th>998</th>\n",
       "      <td>277</td>\n",
       "      <td>Talmage</td>\n",
       "      <td>Bartell</td>\n",
       "      <td>F</td>\n",
       "      <td>1989-02-19</td>\n",
       "      <td>PE</td>\n",
       "      <td>103606.0</td>\n",
       "      <td>NaN</td>\n",
       "    </tr>\n",
       "    <tr>\n",
       "      <th>999</th>\n",
       "      <td>960</td>\n",
       "      <td>Laurie</td>\n",
       "      <td>Nienow</td>\n",
       "      <td>M</td>\n",
       "      <td>1993-04-01</td>\n",
       "      <td>PE</td>\n",
       "      <td>127405.0</td>\n",
       "      <td>NaN</td>\n",
       "    </tr>\n",
       "  </tbody>\n",
       "</table>\n",
       "<p>999 rows × 8 columns</p>\n",
       "</div>"
      ],
      "text/plain": [
       "     number first_name last_name gender  birth_date employment_status  \\\n",
       "0       483     Lenord      Kihn      M  1994-07-01               NaN   \n",
       "1       478      Palma    Beahan      F  1972-05-06                PE   \n",
       "2       348     Hebert    Muller      M  1990-09-04                PE   \n",
       "3       757   Virginia   Ullrich      M  1991-09-23                PE   \n",
       "4       937       Roby    Hudson      M  1997-01-15               NaN   \n",
       "..      ...        ...       ...    ...         ...               ...   \n",
       "995     712       Dann    Crooks    NaN  1983-12-25                CA   \n",
       "996     132      Maxim       Orn      M  1971-03-01                CA   \n",
       "997     126   Kimberli    Walter      M  1976-03-07                CA   \n",
       "998     277    Talmage   Bartell      F  1989-02-19                PE   \n",
       "999     960     Laurie    Nienow      M  1993-04-01                PE   \n",
       "\n",
       "     annual_salary  tax_file_no  \n",
       "0          64598.0          NaN  \n",
       "1         124103.0          NaN  \n",
       "2         100324.0          NaN  \n",
       "3         144957.0          NaN  \n",
       "4         137659.0          NaN  \n",
       "..             ...          ...  \n",
       "995        66592.0          NaN  \n",
       "996       127966.0          NaN  \n",
       "997        60712.0          NaN  \n",
       "998       103606.0          NaN  \n",
       "999       127405.0          NaN  \n",
       "\n",
       "[999 rows x 8 columns]"
      ]
     },
     "execution_count": 27,
     "metadata": {},
     "output_type": "execute_result"
    }
   ],
   "source": [
    "df_employee.dropna(axis = \"index\", thresh = 2)"
   ]
  },
  {
   "cell_type": "markdown",
   "metadata": {},
   "source": [
    "## Reemplazar valores nulos\n",
    "\n",
    "Para eso hay diversas técnicas y dependerá tanto del contexto como del tipo de dato que estemos analizando,"
   ]
  },
  {
   "cell_type": "code",
   "execution_count": 51,
   "metadata": {},
   "outputs": [],
   "source": [
    "def plot_frecuancy_distribution(category = str, df = pd.DataFrame(), \n",
    "                                font_size_y = 12, fontsize_x = 12, font_size_title = 12):\n",
    "    \n",
    "    cat_count = df[category].value_counts()\n",
    "    sns.set(style = \"darkgrid\")\n",
    "    sns.barplot(cat_count.index, cat_count.values, alpha = 0.6)\n",
    "    plt.title(f\"Distribucion de frecuencias de la {category}\", fontsize = font_size_title)\n",
    "    plt.ylabel(\"Conteos\", fontsize = font_size_y)\n",
    "    plt.xlabel(category, fontsize = fontsize_x)\n",
    "    plt.xticks(rotation = 0)\n",
    "    plt.show();"
   ]
  },
  {
   "cell_type": "markdown",
   "metadata": {},
   "source": [
    "### Columna Gender"
   ]
  },
  {
   "cell_type": "code",
   "execution_count": 55,
   "metadata": {},
   "outputs": [
    {
     "name": "stdout",
     "output_type": "stream",
     "text": [
      "Valores nulos de la variable Gender: 207\n"
     ]
    }
   ],
   "source": [
    "print(\"Valores nulos de la variable Gender:\", df_employee[\"gender\"].isnull().sum())"
   ]
  },
  {
   "cell_type": "code",
   "execution_count": 53,
   "metadata": {},
   "outputs": [
    {
     "data": {
      "image/png": "[encoded data removed]",
      "text/plain": [
       "<Figure size 432x288 with 1 Axes>"
      ]
     },
     "metadata": {},
     "output_type": "display_data"
    }
   ],
   "source": [
    "plot_frecuancy_distribution(\"gender\", df_employee, font_size_y = 15, \n",
    "                            fontsize_x = 15, font_size_title = 15)"
   ]
  },
  {
   "cell_type": "code",
   "execution_count": 59,
   "metadata": {},
   "outputs": [],
   "source": [
    "df_employee.gender.fillna(\"U\", inplace = True)"
   ]
  },
  {
   "cell_type": "code",
   "execution_count": 60,
   "metadata": {},
   "outputs": [
    {
     "data": {
      "text/plain": [
       "0"
      ]
     },
     "execution_count": 60,
     "metadata": {},
     "output_type": "execute_result"
    }
   ],
   "source": [
    "df_employee[\"gender\"].isnull().sum()"
   ]
  },
  {
   "cell_type": "markdown",
   "metadata": {},
   "source": [
    "#### corregir utilizando la función fillna de pandas"
   ]
  },
  {
   "cell_type": "markdown",
   "metadata": {},
   "source": [
    "#### Aplicar una función personalizada"
   ]
  },
  {
   "cell_type": "code",
   "execution_count": 68,
   "metadata": {},
   "outputs": [
    {
     "data": {
      "text/html": [
       "<div>\n",
       "<style scoped>\n",
       "    .dataframe tbody tr th:only-of-type {\n",
       "        vertical-align: middle;\n",
       "    }\n",
       "\n",
       "    .dataframe tbody tr th {\n",
       "        vertical-align: top;\n",
       "    }\n",
       "\n",
       "    .dataframe thead th {\n",
       "        text-align: right;\n",
       "    }\n",
       "</style>\n",
       "<table border=\"1\" class=\"dataframe\">\n",
       "  <thead>\n",
       "    <tr style=\"text-align: right;\">\n",
       "      <th></th>\n",
       "      <th>number</th>\n",
       "      <th>first_name</th>\n",
       "      <th>last_name</th>\n",
       "      <th>gender</th>\n",
       "      <th>birth_date</th>\n",
       "      <th>employment_status</th>\n",
       "      <th>annual_salary</th>\n",
       "      <th>tax_file_no</th>\n",
       "    </tr>\n",
       "  </thead>\n",
       "  <tbody>\n",
       "    <tr>\n",
       "      <th>0</th>\n",
       "      <td>483</td>\n",
       "      <td>Lenord</td>\n",
       "      <td>Kihn</td>\n",
       "      <td>M</td>\n",
       "      <td>1994-07-01</td>\n",
       "      <td>NaN</td>\n",
       "      <td>64598.0</td>\n",
       "      <td>NaN</td>\n",
       "    </tr>\n",
       "    <tr>\n",
       "      <th>1</th>\n",
       "      <td>478</td>\n",
       "      <td>Palma</td>\n",
       "      <td>Beahan</td>\n",
       "      <td>F</td>\n",
       "      <td>1972-05-06</td>\n",
       "      <td>PE</td>\n",
       "      <td>124103.0</td>\n",
       "      <td>NaN</td>\n",
       "    </tr>\n",
       "    <tr>\n",
       "      <th>2</th>\n",
       "      <td>348</td>\n",
       "      <td>Hebert</td>\n",
       "      <td>Muller</td>\n",
       "      <td>M</td>\n",
       "      <td>1990-09-04</td>\n",
       "      <td>PE</td>\n",
       "      <td>100324.0</td>\n",
       "      <td>NaN</td>\n",
       "    </tr>\n",
       "    <tr>\n",
       "      <th>3</th>\n",
       "      <td>757</td>\n",
       "      <td>Virginia</td>\n",
       "      <td>Ullrich</td>\n",
       "      <td>M</td>\n",
       "      <td>1991-09-23</td>\n",
       "      <td>PE</td>\n",
       "      <td>144957.0</td>\n",
       "      <td>NaN</td>\n",
       "    </tr>\n",
       "    <tr>\n",
       "      <th>4</th>\n",
       "      <td>937</td>\n",
       "      <td>Roby</td>\n",
       "      <td>Hudson</td>\n",
       "      <td>M</td>\n",
       "      <td>1997-01-15</td>\n",
       "      <td>NaN</td>\n",
       "      <td>137659.0</td>\n",
       "      <td>NaN</td>\n",
       "    </tr>\n",
       "    <tr>\n",
       "      <th>...</th>\n",
       "      <td>...</td>\n",
       "      <td>...</td>\n",
       "      <td>...</td>\n",
       "      <td>...</td>\n",
       "      <td>...</td>\n",
       "      <td>...</td>\n",
       "      <td>...</td>\n",
       "      <td>...</td>\n",
       "    </tr>\n",
       "    <tr>\n",
       "      <th>995</th>\n",
       "      <td>712</td>\n",
       "      <td>Dann</td>\n",
       "      <td>Crooks</td>\n",
       "      <td>NaN</td>\n",
       "      <td>1983-12-25</td>\n",
       "      <td>CA</td>\n",
       "      <td>66592.0</td>\n",
       "      <td>NaN</td>\n",
       "    </tr>\n",
       "    <tr>\n",
       "      <th>996</th>\n",
       "      <td>132</td>\n",
       "      <td>Maxim</td>\n",
       "      <td>Orn</td>\n",
       "      <td>M</td>\n",
       "      <td>1971-03-01</td>\n",
       "      <td>CA</td>\n",
       "      <td>127966.0</td>\n",
       "      <td>NaN</td>\n",
       "    </tr>\n",
       "    <tr>\n",
       "      <th>997</th>\n",
       "      <td>126</td>\n",
       "      <td>Kimberli</td>\n",
       "      <td>Walter</td>\n",
       "      <td>M</td>\n",
       "      <td>1976-03-07</td>\n",
       "      <td>CA</td>\n",
       "      <td>60712.0</td>\n",
       "      <td>NaN</td>\n",
       "    </tr>\n",
       "    <tr>\n",
       "      <th>998</th>\n",
       "      <td>277</td>\n",
       "      <td>Talmage</td>\n",
       "      <td>Bartell</td>\n",
       "      <td>F</td>\n",
       "      <td>1989-02-19</td>\n",
       "      <td>PE</td>\n",
       "      <td>103606.0</td>\n",
       "      <td>NaN</td>\n",
       "    </tr>\n",
       "    <tr>\n",
       "      <th>999</th>\n",
       "      <td>960</td>\n",
       "      <td>Laurie</td>\n",
       "      <td>Nienow</td>\n",
       "      <td>M</td>\n",
       "      <td>1993-04-01</td>\n",
       "      <td>PE</td>\n",
       "      <td>127405.0</td>\n",
       "      <td>NaN</td>\n",
       "    </tr>\n",
       "  </tbody>\n",
       "</table>\n",
       "<p>1000 rows × 8 columns</p>\n",
       "</div>"
      ],
      "text/plain": [
       "     number first_name last_name gender  birth_date employment_status  \\\n",
       "0       483     Lenord      Kihn      M  1994-07-01               NaN   \n",
       "1       478      Palma    Beahan      F  1972-05-06                PE   \n",
       "2       348     Hebert    Muller      M  1990-09-04                PE   \n",
       "3       757   Virginia   Ullrich      M  1991-09-23                PE   \n",
       "4       937       Roby    Hudson      M  1997-01-15               NaN   \n",
       "..      ...        ...       ...    ...         ...               ...   \n",
       "995     712       Dann    Crooks    NaN  1983-12-25                CA   \n",
       "996     132      Maxim       Orn      M  1971-03-01                CA   \n",
       "997     126   Kimberli    Walter      M  1976-03-07                CA   \n",
       "998     277    Talmage   Bartell      F  1989-02-19                PE   \n",
       "999     960     Laurie    Nienow      M  1993-04-01                PE   \n",
       "\n",
       "     annual_salary  tax_file_no  \n",
       "0          64598.0          NaN  \n",
       "1         124103.0          NaN  \n",
       "2         100324.0          NaN  \n",
       "3         144957.0          NaN  \n",
       "4         137659.0          NaN  \n",
       "..             ...          ...  \n",
       "995        66592.0          NaN  \n",
       "996       127966.0          NaN  \n",
       "997        60712.0          NaN  \n",
       "998       103606.0          NaN  \n",
       "999       127405.0          NaN  \n",
       "\n",
       "[1000 rows x 8 columns]"
      ]
     },
     "execution_count": 68,
     "metadata": {},
     "output_type": "execute_result"
    }
   ],
   "source": [
    "df_employee"
   ]
  },
  {
   "cell_type": "code",
   "execution_count": 76,
   "metadata": {},
   "outputs": [],
   "source": [
    "df_employee.dropna(axis='index', thresh = 2, inplace = True)"
   ]
  },
  {
   "cell_type": "code",
   "execution_count": 77,
   "metadata": {},
   "outputs": [],
   "source": [
    "def clasificar_genero_por_nombre(nombre:str, gender):\n",
    "    \n",
    "    if not pd.isna(gender):\n",
    "        return gender\n",
    "    \n",
    "    if nombre.endswith(\"o\") or nombre.endswith(\"r\") or nombre.endswith(\"d\"):\n",
    "        return \"M\"\n",
    "    \n",
    "    else:\n",
    "        return \"F\""
   ]
  },
  {
   "cell_type": "code",
   "execution_count": 78,
   "metadata": {},
   "outputs": [],
   "source": [
    "df_employee[\"gender\"] = df_employee.apply(lambda row: clasificar_genero_por_nombre(row[\"first_name\"], \n",
    "                                                                                   row[\"gender\"]), \n",
    "                                          axis=1)"
   ]
  },
  {
   "cell_type": "code",
   "execution_count": 79,
   "metadata": {},
   "outputs": [
    {
     "data": {
      "text/plain": [
       "0"
      ]
     },
     "execution_count": 79,
     "metadata": {},
     "output_type": "execute_result"
    }
   ],
   "source": [
    "df_employee[\"gender\"].isnull().sum()"
   ]
  },
  {
   "cell_type": "markdown",
   "metadata": {},
   "source": [
    "### Employment status"
   ]
  },
  {
   "cell_type": "code",
   "execution_count": 81,
   "metadata": {},
   "outputs": [
    {
     "data": {
      "text/plain": [
       "employment_status\n",
       "CA    109\n",
       "PE    599\n",
       "TE    103\n",
       "dtype: int64"
      ]
     },
     "execution_count": 81,
     "metadata": {},
     "output_type": "execute_result"
    }
   ],
   "source": [
    "df_employee.groupby([\"employment_status\"]).size()"
   ]
  },
  {
   "cell_type": "code",
   "execution_count": 67,
   "metadata": {},
   "outputs": [],
   "source": [
    "def plot_pie_chart(category, df, shadow = False, fig_size = (5, 5), explode = (0, 0.1, 0)):\n",
    "    \n",
    "    labels = df[category].astype(\"category\").cat.categories.tolist()\n",
    "    counts = df[category].value_counts()\n",
    "    sizes = [counts[var_cat] for var_cat in labels]\n",
    "    \n",
    "    fig1, ax1 = plt.subplots(figsize = fig_size)\n",
    "    explode = explode\n",
    "    ax1.pie(sizes, labels = labels, explode = explode, shadow = shadow, autopct = \"%1.1f%%\")\n",
    "    plt.show();"
   ]
  },
  {
   "cell_type": "code",
   "execution_count": 113,
   "metadata": {},
   "outputs": [
    {
     "data": {
      "image/png": "[encoded data removed]",
      "text/plain": [
       "<Figure size 576x576 with 1 Axes>"
      ]
     },
     "metadata": {},
     "output_type": "display_data"
    }
   ],
   "source": [
    "plot_pie_chart(\"employment_status\", df_employee, shadow = True, fig_size = (8, 8), explode = (0, 0.1, 0))"
   ]
  },
  {
   "cell_type": "code",
   "execution_count": 149,
   "metadata": {},
   "outputs": [],
   "source": [
    "df_employee[\"employment_status\"].fillna(\"PE\", inplace = True)"
   ]
  },
  {
   "cell_type": "markdown",
   "metadata": {
    "ExecuteTime": {
     "end_time": "2021-08-04T21:29:33.081819Z",
     "start_time": "2021-08-04T21:29:33.077875Z"
    }
   },
   "source": [
    "## annual_salary"
   ]
  },
  {
   "cell_type": "code",
   "execution_count": 115,
   "metadata": {},
   "outputs": [
    {
     "data": {
      "text/plain": [
       "16"
      ]
     },
     "execution_count": 115,
     "metadata": {},
     "output_type": "execute_result"
    }
   ],
   "source": [
    "df_employee[\"annual_salary\"].isnull().sum()"
   ]
  },
  {
   "cell_type": "code",
   "execution_count": 123,
   "metadata": {},
   "outputs": [
    {
     "name": "stdout",
     "output_type": "stream",
     "text": [
      "Salario_promedio: -----------> 102059.88708036623\n",
      "Coeficiente de variacion: ---> 27.046625338576856%\n"
     ]
    }
   ],
   "source": [
    "salario_promedio = df_employee.annual_salary.mean()\n",
    "#salario_promedio = df_employee[\"annual_salary\"].mean()\n",
    "coef_var = df_employee[\"annual_salary\"].std()/df_employee[\"annual_salary\"].mean()*100\n",
    "print(f\"Salario_promedio: -----------> {salario_promedio}\")\n",
    "print(f\"Coeficiente de variacion: ---> {coef_var}%\")"
   ]
  },
  {
   "cell_type": "code",
   "execution_count": 124,
   "metadata": {},
   "outputs": [
    {
     "data": {
      "image/png": "[encoded data removed]",
      "text/plain": [
       "<Figure size 360x360 with 1 Axes>"
      ]
     },
     "metadata": {},
     "output_type": "display_data"
    }
   ],
   "source": [
    "sns.displot(df_employee[\"annual_salary\"]);"
   ]
  },
  {
   "cell_type": "code",
   "execution_count": 133,
   "metadata": {},
   "outputs": [],
   "source": [
    "df_employee[\"annual_salary_2_mean\"] = df_employee[\"annual_salary\"].fillna(salario_promedio)"
   ]
  },
  {
   "cell_type": "code",
   "execution_count": 134,
   "metadata": {},
   "outputs": [
    {
     "data": {
      "image/png": "[encoded data removed]",
      "text/plain": [
       "<Figure size 360x360 with 1 Axes>"
      ]
     },
     "metadata": {},
     "output_type": "display_data"
    }
   ],
   "source": [
    "sns.displot(df_employee[\"annual_salary_2_mean\"]);"
   ]
  },
  {
   "cell_type": "markdown",
   "metadata": {},
   "source": [
    "# Manipular Strings"
   ]
  },
  {
   "cell_type": "code",
   "execution_count": 142,
   "metadata": {},
   "outputs": [
    {
     "data": {
      "text/html": [
       "<div>\n",
       "<style scoped>\n",
       "    .dataframe tbody tr th:only-of-type {\n",
       "        vertical-align: middle;\n",
       "    }\n",
       "\n",
       "    .dataframe tbody tr th {\n",
       "        vertical-align: top;\n",
       "    }\n",
       "\n",
       "    .dataframe thead th {\n",
       "        text-align: right;\n",
       "    }\n",
       "</style>\n",
       "<table border=\"1\" class=\"dataframe\">\n",
       "  <thead>\n",
       "    <tr style=\"text-align: right;\">\n",
       "      <th></th>\n",
       "      <th>annual_salary</th>\n",
       "    </tr>\n",
       "    <tr>\n",
       "      <th>employment_status</th>\n",
       "      <th></th>\n",
       "    </tr>\n",
       "  </thead>\n",
       "  <tbody>\n",
       "    <tr>\n",
       "      <th>CA</th>\n",
       "      <td>109192.419048</td>\n",
       "    </tr>\n",
       "    <tr>\n",
       "      <th>PE</th>\n",
       "      <td>101851.786802</td>\n",
       "    </tr>\n",
       "    <tr>\n",
       "      <th>TE</th>\n",
       "      <td>104357.465347</td>\n",
       "    </tr>\n",
       "  </tbody>\n",
       "</table>\n",
       "</div>"
      ],
      "text/plain": [
       "                   annual_salary\n",
       "employment_status               \n",
       "CA                 109192.419048\n",
       "PE                 101851.786802\n",
       "TE                 104357.465347"
      ]
     },
     "execution_count": 142,
     "metadata": {},
     "output_type": "execute_result"
    }
   ],
   "source": [
    "df_salary_by_employment_status = df_employee.groupby([\"employment_status\"])[[\"annual_salary\"]].mean()\n",
    "df_salary_by_employment_status"
   ]
  },
  {
   "cell_type": "code",
   "execution_count": 143,
   "metadata": {},
   "outputs": [
    {
     "data": {
      "text/html": [
       "<div>\n",
       "<style scoped>\n",
       "    .dataframe tbody tr th:only-of-type {\n",
       "        vertical-align: middle;\n",
       "    }\n",
       "\n",
       "    .dataframe tbody tr th {\n",
       "        vertical-align: top;\n",
       "    }\n",
       "\n",
       "    .dataframe thead th {\n",
       "        text-align: right;\n",
       "    }\n",
       "</style>\n",
       "<table border=\"1\" class=\"dataframe\">\n",
       "  <thead>\n",
       "    <tr style=\"text-align: right;\">\n",
       "      <th></th>\n",
       "      <th>annual_salary</th>\n",
       "    </tr>\n",
       "    <tr>\n",
       "      <th>employment_status</th>\n",
       "      <th></th>\n",
       "    </tr>\n",
       "  </thead>\n",
       "  <tbody>\n",
       "    <tr>\n",
       "      <th>CA</th>\n",
       "      <td>109192.419048</td>\n",
       "    </tr>\n",
       "    <tr>\n",
       "      <th>PE</th>\n",
       "      <td>101851.786802</td>\n",
       "    </tr>\n",
       "    <tr>\n",
       "      <th>TE</th>\n",
       "      <td>104357.465347</td>\n",
       "    </tr>\n",
       "  </tbody>\n",
       "</table>\n",
       "</div>"
      ],
      "text/plain": [
       "                   annual_salary\n",
       "employment_status               \n",
       "CA                 109192.419048\n",
       "PE                 101851.786802\n",
       "TE                 104357.465347"
      ]
     },
     "execution_count": 143,
     "metadata": {},
     "output_type": "execute_result"
    }
   ],
   "source": [
    "df_salary_by_employment_status = df_employee.groupby([\"employment_status\"]).agg({\"annual_salary\": \"mean\"})\n",
    "df_salary_by_employment_status"
   ]
  },
  {
   "cell_type": "code",
   "execution_count": 144,
   "metadata": {},
   "outputs": [
    {
     "data": {
      "text/plain": [
       "109192.41904761904"
      ]
     },
     "execution_count": 144,
     "metadata": {},
     "output_type": "execute_result"
    }
   ],
   "source": [
    "df_salary_by_employment_status.loc[\"CA\", \"annual_salary\"]"
   ]
  },
  {
   "cell_type": "code",
   "execution_count": 150,
   "metadata": {},
   "outputs": [],
   "source": [
    "def fill_salary_by_status(row, df_salary_by_employment_status):\n",
    "    \n",
    "    salary, emp_status = row[\"annual_salary\"], row[\"employment_status\"]\n",
    "    \n",
    "    if not pd.isna(salary):\n",
    "        return salary\n",
    "    \n",
    "    value = df_salary_by_employment_status.loc[emp_status, \"annual_salary\"]\n",
    "    \n",
    "    return value"
   ]
  },
  {
   "cell_type": "code",
   "execution_count": null,
   "metadata": {},
   "outputs": [],
   "source": [
    "salary= row[\"annual_salary\"]\n",
    "emp_status = row[\"employment_status\"]"
   ]
  },
  {
   "cell_type": "code",
   "execution_count": 152,
   "metadata": {},
   "outputs": [],
   "source": [
    "df_employee[\"annual_salary\"] = df_employee.apply(fill_salary_by_status, axis = 1, args = (df_salary_by_employment_status,))"
   ]
  },
  {
   "cell_type": "code",
   "execution_count": 163,
   "metadata": {},
   "outputs": [],
   "source": [
    "df_employee[\"annual_salary\"] = df_employee[\"annual_salary\"].apply(lambda x: x.replace(\"PE\", \"0\") if x == \"PE\" else x)\n",
    "df_employee[\"annual_salary\"] = df_employee[\"annual_salary\"].astype(float)"
   ]
  },
  {
   "cell_type": "code",
   "execution_count": 166,
   "metadata": {},
   "outputs": [
    {
     "data": {
      "image/png": "[encoded data removed]",
      "text/plain": [
       "<Figure size 360x360 with 1 Axes>"
      ]
     },
     "metadata": {},
     "output_type": "display_data"
    }
   ],
   "source": [
    "df_employee_2 = df_employee[df_employee[\"annual_salary\"] != 0]\n",
    "sns.displot(df_employee_2[\"annual_salary\"]);"
   ]
  },
  {
   "cell_type": "markdown",
   "metadata": {},
   "source": [
    "# Manipular Fechas"
   ]
  },
  {
   "cell_type": "code",
   "execution_count": 4,
   "metadata": {},
   "outputs": [
    {
     "data": {
      "text/html": [
       "<div>\n",
       "<style scoped>\n",
       "    .dataframe tbody tr th:only-of-type {\n",
       "        vertical-align: middle;\n",
       "    }\n",
       "\n",
       "    .dataframe tbody tr th {\n",
       "        vertical-align: top;\n",
       "    }\n",
       "\n",
       "    .dataframe thead th {\n",
       "        text-align: right;\n",
       "    }\n",
       "</style>\n",
       "<table border=\"1\" class=\"dataframe\">\n",
       "  <thead>\n",
       "    <tr style=\"text-align: right;\">\n",
       "      <th></th>\n",
       "      <th>number</th>\n",
       "      <th>first_name</th>\n",
       "      <th>last_name</th>\n",
       "      <th>gender</th>\n",
       "      <th>birth_date</th>\n",
       "      <th>employment_status</th>\n",
       "      <th>annual_salary</th>\n",
       "      <th>tax_file_no</th>\n",
       "    </tr>\n",
       "  </thead>\n",
       "  <tbody>\n",
       "    <tr>\n",
       "      <th>0</th>\n",
       "      <td>483</td>\n",
       "      <td>Lenord</td>\n",
       "      <td>Kihn</td>\n",
       "      <td>M</td>\n",
       "      <td>1994-07-01</td>\n",
       "      <td>NaN</td>\n",
       "      <td>64598.0</td>\n",
       "      <td>NaN</td>\n",
       "    </tr>\n",
       "    <tr>\n",
       "      <th>1</th>\n",
       "      <td>478</td>\n",
       "      <td>Palma</td>\n",
       "      <td>Beahan</td>\n",
       "      <td>F</td>\n",
       "      <td>1972-05-06</td>\n",
       "      <td>PE</td>\n",
       "      <td>124103.0</td>\n",
       "      <td>NaN</td>\n",
       "    </tr>\n",
       "    <tr>\n",
       "      <th>2</th>\n",
       "      <td>348</td>\n",
       "      <td>Hebert</td>\n",
       "      <td>Muller</td>\n",
       "      <td>M</td>\n",
       "      <td>1990-09-04</td>\n",
       "      <td>PE</td>\n",
       "      <td>100324.0</td>\n",
       "      <td>NaN</td>\n",
       "    </tr>\n",
       "    <tr>\n",
       "      <th>3</th>\n",
       "      <td>757</td>\n",
       "      <td>Virginia</td>\n",
       "      <td>Ullrich</td>\n",
       "      <td>M</td>\n",
       "      <td>1991-09-23</td>\n",
       "      <td>PE</td>\n",
       "      <td>144957.0</td>\n",
       "      <td>NaN</td>\n",
       "    </tr>\n",
       "    <tr>\n",
       "      <th>4</th>\n",
       "      <td>937</td>\n",
       "      <td>Roby</td>\n",
       "      <td>Hudson</td>\n",
       "      <td>M</td>\n",
       "      <td>1997-01-15</td>\n",
       "      <td>NaN</td>\n",
       "      <td>137659.0</td>\n",
       "      <td>NaN</td>\n",
       "    </tr>\n",
       "  </tbody>\n",
       "</table>\n",
       "</div>"
      ],
      "text/plain": [
       "   number first_name last_name gender  birth_date employment_status  \\\n",
       "0     483     Lenord      Kihn      M  1994-07-01               NaN   \n",
       "1     478      Palma    Beahan      F  1972-05-06                PE   \n",
       "2     348     Hebert    Muller      M  1990-09-04                PE   \n",
       "3     757   Virginia   Ullrich      M  1991-09-23                PE   \n",
       "4     937       Roby    Hudson      M  1997-01-15               NaN   \n",
       "\n",
       "   annual_salary  tax_file_no  \n",
       "0        64598.0          NaN  \n",
       "1       124103.0          NaN  \n",
       "2       100324.0          NaN  \n",
       "3       144957.0          NaN  \n",
       "4       137659.0          NaN  "
      ]
     },
     "execution_count": 4,
     "metadata": {},
     "output_type": "execute_result"
    }
   ],
   "source": [
    "df_employee.head()"
   ]
  },
  {
   "cell_type": "code",
   "execution_count": 24,
   "metadata": {},
   "outputs": [
    {
     "data": {
      "text/plain": [
       "dtype('<M8[ns]')"
      ]
     },
     "execution_count": 24,
     "metadata": {},
     "output_type": "execute_result"
    }
   ],
   "source": [
    "df_employee[\"birth_date\"] = pd.to_datetime(df_employee[\"birth_date\"])\n",
    "df_employee[\"birth_date\"].dtype"
   ]
  },
  {
   "cell_type": "code",
   "execution_count": 25,
   "metadata": {},
   "outputs": [
    {
     "data": {
      "text/plain": [
       "number                        int64\n",
       "first_name                   object\n",
       "last_name                    object\n",
       "gender                       object\n",
       "birth_date           datetime64[ns]\n",
       "employment_status            object\n",
       "annual_salary               float64\n",
       "tax_file_no                 float64\n",
       "dtype: object"
      ]
     },
     "execution_count": 25,
     "metadata": {},
     "output_type": "execute_result"
    }
   ],
   "source": [
    "df_employee.dtypes"
   ]
  },
  {
   "cell_type": "code",
   "execution_count": 26,
   "metadata": {},
   "outputs": [],
   "source": [
    "df_employee[\"birth_date\"] = df_employee[\"birth_date\"].astype(\"datetime64\")"
   ]
  },
  {
   "cell_type": "code",
   "execution_count": 27,
   "metadata": {},
   "outputs": [],
   "source": [
    "from datetime import date, timedelta, datetime"
   ]
  },
  {
   "cell_type": "code",
   "execution_count": 28,
   "metadata": {},
   "outputs": [],
   "source": [
    "fecha_actual = datetime.today()"
   ]
  },
  {
   "cell_type": "code",
   "execution_count": 31,
   "metadata": {},
   "outputs": [],
   "source": [
    "df_employee[\"age\"] = (fecha_actual - df_employee[\"birth_date\"]).dt.days"
   ]
  },
  {
   "cell_type": "code",
   "execution_count": 32,
   "metadata": {},
   "outputs": [
    {
     "data": {
      "text/plain": [
       "0      10025.0\n",
       "1      18116.0\n",
       "2      11421.0\n",
       "3      11037.0\n",
       "4       9096.0\n",
       "        ...   \n",
       "995    13866.0\n",
       "996    18548.0\n",
       "997    16715.0\n",
       "998    11983.0\n",
       "999    10481.0\n",
       "Name: age, Length: 1000, dtype: float64"
      ]
     },
     "execution_count": 32,
     "metadata": {},
     "output_type": "execute_result"
    }
   ],
   "source": [
    "df_employee[\"age\"]"
   ]
  },
  {
   "cell_type": "markdown",
   "metadata": {},
   "source": [
    "# Data Set de Aviones"
   ]
  },
  {
   "cell_type": "code",
   "execution_count": 35,
   "metadata": {},
   "outputs": [],
   "source": [
    "df_flights = pd.read_csv('https://raw.githubusercontent.com/ismayc/pnwflights14/master/data/flights.csv')"
   ]
  },
  {
   "cell_type": "code",
   "execution_count": 36,
   "metadata": {},
   "outputs": [
    {
     "data": {
      "text/html": [
       "<div>\n",
       "<style scoped>\n",
       "    .dataframe tbody tr th:only-of-type {\n",
       "        vertical-align: middle;\n",
       "    }\n",
       "\n",
       "    .dataframe tbody tr th {\n",
       "        vertical-align: top;\n",
       "    }\n",
       "\n",
       "    .dataframe thead th {\n",
       "        text-align: right;\n",
       "    }\n",
       "</style>\n",
       "<table border=\"1\" class=\"dataframe\">\n",
       "  <thead>\n",
       "    <tr style=\"text-align: right;\">\n",
       "      <th></th>\n",
       "      <th>year</th>\n",
       "      <th>month</th>\n",
       "      <th>day</th>\n",
       "      <th>dep_time</th>\n",
       "      <th>dep_delay</th>\n",
       "      <th>arr_time</th>\n",
       "      <th>arr_delay</th>\n",
       "      <th>carrier</th>\n",
       "      <th>tailnum</th>\n",
       "      <th>flight</th>\n",
       "      <th>origin</th>\n",
       "      <th>dest</th>\n",
       "      <th>air_time</th>\n",
       "      <th>distance</th>\n",
       "      <th>hour</th>\n",
       "      <th>minute</th>\n",
       "    </tr>\n",
       "  </thead>\n",
       "  <tbody>\n",
       "    <tr>\n",
       "      <th>0</th>\n",
       "      <td>2014</td>\n",
       "      <td>1</td>\n",
       "      <td>1</td>\n",
       "      <td>1.0</td>\n",
       "      <td>96.0</td>\n",
       "      <td>235.0</td>\n",
       "      <td>70.0</td>\n",
       "      <td>AS</td>\n",
       "      <td>N508AS</td>\n",
       "      <td>145</td>\n",
       "      <td>PDX</td>\n",
       "      <td>ANC</td>\n",
       "      <td>194.0</td>\n",
       "      <td>1542</td>\n",
       "      <td>0.0</td>\n",
       "      <td>1.0</td>\n",
       "    </tr>\n",
       "    <tr>\n",
       "      <th>1</th>\n",
       "      <td>2014</td>\n",
       "      <td>1</td>\n",
       "      <td>1</td>\n",
       "      <td>4.0</td>\n",
       "      <td>-6.0</td>\n",
       "      <td>738.0</td>\n",
       "      <td>-23.0</td>\n",
       "      <td>US</td>\n",
       "      <td>N195UW</td>\n",
       "      <td>1830</td>\n",
       "      <td>SEA</td>\n",
       "      <td>CLT</td>\n",
       "      <td>252.0</td>\n",
       "      <td>2279</td>\n",
       "      <td>0.0</td>\n",
       "      <td>4.0</td>\n",
       "    </tr>\n",
       "    <tr>\n",
       "      <th>2</th>\n",
       "      <td>2014</td>\n",
       "      <td>1</td>\n",
       "      <td>1</td>\n",
       "      <td>8.0</td>\n",
       "      <td>13.0</td>\n",
       "      <td>548.0</td>\n",
       "      <td>-4.0</td>\n",
       "      <td>UA</td>\n",
       "      <td>N37422</td>\n",
       "      <td>1609</td>\n",
       "      <td>PDX</td>\n",
       "      <td>IAH</td>\n",
       "      <td>201.0</td>\n",
       "      <td>1825</td>\n",
       "      <td>0.0</td>\n",
       "      <td>8.0</td>\n",
       "    </tr>\n",
       "    <tr>\n",
       "      <th>3</th>\n",
       "      <td>2014</td>\n",
       "      <td>1</td>\n",
       "      <td>1</td>\n",
       "      <td>28.0</td>\n",
       "      <td>-2.0</td>\n",
       "      <td>800.0</td>\n",
       "      <td>-23.0</td>\n",
       "      <td>US</td>\n",
       "      <td>N547UW</td>\n",
       "      <td>466</td>\n",
       "      <td>PDX</td>\n",
       "      <td>CLT</td>\n",
       "      <td>251.0</td>\n",
       "      <td>2282</td>\n",
       "      <td>0.0</td>\n",
       "      <td>28.0</td>\n",
       "    </tr>\n",
       "    <tr>\n",
       "      <th>4</th>\n",
       "      <td>2014</td>\n",
       "      <td>1</td>\n",
       "      <td>1</td>\n",
       "      <td>34.0</td>\n",
       "      <td>44.0</td>\n",
       "      <td>325.0</td>\n",
       "      <td>43.0</td>\n",
       "      <td>AS</td>\n",
       "      <td>N762AS</td>\n",
       "      <td>121</td>\n",
       "      <td>SEA</td>\n",
       "      <td>ANC</td>\n",
       "      <td>201.0</td>\n",
       "      <td>1448</td>\n",
       "      <td>0.0</td>\n",
       "      <td>34.0</td>\n",
       "    </tr>\n",
       "  </tbody>\n",
       "</table>\n",
       "</div>"
      ],
      "text/plain": [
       "   year  month  day  dep_time  dep_delay  arr_time  arr_delay carrier tailnum  \\\n",
       "0  2014      1    1       1.0       96.0     235.0       70.0      AS  N508AS   \n",
       "1  2014      1    1       4.0       -6.0     738.0      -23.0      US  N195UW   \n",
       "2  2014      1    1       8.0       13.0     548.0       -4.0      UA  N37422   \n",
       "3  2014      1    1      28.0       -2.0     800.0      -23.0      US  N547UW   \n",
       "4  2014      1    1      34.0       44.0     325.0       43.0      AS  N762AS   \n",
       "\n",
       "   flight origin dest  air_time  distance  hour  minute  \n",
       "0     145    PDX  ANC     194.0      1542   0.0     1.0  \n",
       "1    1830    SEA  CLT     252.0      2279   0.0     4.0  \n",
       "2    1609    PDX  IAH     201.0      1825   0.0     8.0  \n",
       "3     466    PDX  CLT     251.0      2282   0.0    28.0  \n",
       "4     121    SEA  ANC     201.0      1448   0.0    34.0  "
      ]
     },
     "execution_count": 36,
     "metadata": {},
     "output_type": "execute_result"
    }
   ],
   "source": [
    "df_flights.head()"
   ]
  },
  {
   "cell_type": "markdown",
   "metadata": {},
   "source": [
    "# Exploración del dataset"
   ]
  },
  {
   "cell_type": "code",
   "execution_count": 37,
   "metadata": {},
   "outputs": [
    {
     "name": "stdout",
     "output_type": "stream",
     "text": [
      "<class 'pandas.core.frame.DataFrame'>\n",
      "RangeIndex: 162049 entries, 0 to 162048\n",
      "Data columns (total 16 columns):\n",
      " #   Column     Non-Null Count   Dtype  \n",
      "---  ------     --------------   -----  \n",
      " 0   year       162049 non-null  int64  \n",
      " 1   month      162049 non-null  int64  \n",
      " 2   day        162049 non-null  int64  \n",
      " 3   dep_time   161192 non-null  float64\n",
      " 4   dep_delay  161192 non-null  float64\n",
      " 5   arr_time   161061 non-null  float64\n",
      " 6   arr_delay  160748 non-null  float64\n",
      " 7   carrier    162049 non-null  object \n",
      " 8   tailnum    161801 non-null  object \n",
      " 9   flight     162049 non-null  int64  \n",
      " 10  origin     162049 non-null  object \n",
      " 11  dest       162049 non-null  object \n",
      " 12  air_time   160748 non-null  float64\n",
      " 13  distance   162049 non-null  int64  \n",
      " 14  hour       161192 non-null  float64\n",
      " 15  minute     161192 non-null  float64\n",
      "dtypes: float64(7), int64(5), object(4)\n",
      "memory usage: 19.8+ MB\n"
     ]
    }
   ],
   "source": [
    "df_flights.info()"
   ]
  },
  {
   "cell_type": "code",
   "execution_count": 76,
   "metadata": {},
   "outputs": [
    {
     "data": {
      "text/html": [
       "<div>\n",
       "<style scoped>\n",
       "    .dataframe tbody tr th:only-of-type {\n",
       "        vertical-align: middle;\n",
       "    }\n",
       "\n",
       "    .dataframe tbody tr th {\n",
       "        vertical-align: top;\n",
       "    }\n",
       "\n",
       "    .dataframe thead th {\n",
       "        text-align: right;\n",
       "    }\n",
       "</style>\n",
       "<table border=\"1\" class=\"dataframe\">\n",
       "  <thead>\n",
       "    <tr style=\"text-align: right;\">\n",
       "      <th></th>\n",
       "      <th>count</th>\n",
       "      <th>mean</th>\n",
       "      <th>std</th>\n",
       "      <th>min</th>\n",
       "      <th>25%</th>\n",
       "      <th>50%</th>\n",
       "      <th>75%</th>\n",
       "      <th>max</th>\n",
       "    </tr>\n",
       "  </thead>\n",
       "  <tbody>\n",
       "    <tr>\n",
       "      <th>year</th>\n",
       "      <td>162049.0</td>\n",
       "      <td>2014.000000</td>\n",
       "      <td>0.000000</td>\n",
       "      <td>2014.0</td>\n",
       "      <td>2014.0</td>\n",
       "      <td>2014.0</td>\n",
       "      <td>2014.0</td>\n",
       "      <td>2014.0</td>\n",
       "    </tr>\n",
       "    <tr>\n",
       "      <th>month</th>\n",
       "      <td>162049.0</td>\n",
       "      <td>6.605027</td>\n",
       "      <td>3.324399</td>\n",
       "      <td>1.0</td>\n",
       "      <td>4.0</td>\n",
       "      <td>7.0</td>\n",
       "      <td>9.0</td>\n",
       "      <td>12.0</td>\n",
       "    </tr>\n",
       "    <tr>\n",
       "      <th>day</th>\n",
       "      <td>162049.0</td>\n",
       "      <td>15.749890</td>\n",
       "      <td>8.789417</td>\n",
       "      <td>1.0</td>\n",
       "      <td>8.0</td>\n",
       "      <td>16.0</td>\n",
       "      <td>23.0</td>\n",
       "      <td>31.0</td>\n",
       "    </tr>\n",
       "    <tr>\n",
       "      <th>dep_time</th>\n",
       "      <td>161192.0</td>\n",
       "      <td>1278.283755</td>\n",
       "      <td>522.583793</td>\n",
       "      <td>1.0</td>\n",
       "      <td>831.0</td>\n",
       "      <td>1217.0</td>\n",
       "      <td>1721.0</td>\n",
       "      <td>2400.0</td>\n",
       "    </tr>\n",
       "    <tr>\n",
       "      <th>dep_delay</th>\n",
       "      <td>161192.0</td>\n",
       "      <td>6.133859</td>\n",
       "      <td>29.112035</td>\n",
       "      <td>-37.0</td>\n",
       "      <td>-5.0</td>\n",
       "      <td>-2.0</td>\n",
       "      <td>5.0</td>\n",
       "      <td>1553.0</td>\n",
       "    </tr>\n",
       "    <tr>\n",
       "      <th>arr_time</th>\n",
       "      <td>161061.0</td>\n",
       "      <td>1482.501282</td>\n",
       "      <td>523.958781</td>\n",
       "      <td>1.0</td>\n",
       "      <td>1127.0</td>\n",
       "      <td>1517.0</td>\n",
       "      <td>1918.0</td>\n",
       "      <td>2400.0</td>\n",
       "    </tr>\n",
       "    <tr>\n",
       "      <th>arr_delay</th>\n",
       "      <td>160748.0</td>\n",
       "      <td>2.240868</td>\n",
       "      <td>31.191037</td>\n",
       "      <td>-67.0</td>\n",
       "      <td>-12.0</td>\n",
       "      <td>-4.0</td>\n",
       "      <td>7.0</td>\n",
       "      <td>1539.0</td>\n",
       "    </tr>\n",
       "    <tr>\n",
       "      <th>flight</th>\n",
       "      <td>162049.0</td>\n",
       "      <td>1357.356725</td>\n",
       "      <td>1495.271031</td>\n",
       "      <td>2.0</td>\n",
       "      <td>408.0</td>\n",
       "      <td>694.0</td>\n",
       "      <td>1726.0</td>\n",
       "      <td>6527.0</td>\n",
       "    </tr>\n",
       "    <tr>\n",
       "      <th>air_time</th>\n",
       "      <td>160748.0</td>\n",
       "      <td>152.588511</td>\n",
       "      <td>72.547469</td>\n",
       "      <td>18.0</td>\n",
       "      <td>103.0</td>\n",
       "      <td>129.0</td>\n",
       "      <td>199.0</td>\n",
       "      <td>422.0</td>\n",
       "    </tr>\n",
       "    <tr>\n",
       "      <th>distance</th>\n",
       "      <td>162049.0</td>\n",
       "      <td>1204.514634</td>\n",
       "      <td>653.150062</td>\n",
       "      <td>93.0</td>\n",
       "      <td>689.0</td>\n",
       "      <td>991.0</td>\n",
       "      <td>1660.0</td>\n",
       "      <td>2724.0</td>\n",
       "    </tr>\n",
       "    <tr>\n",
       "      <th>hour</th>\n",
       "      <td>161192.0</td>\n",
       "      <td>12.479515</td>\n",
       "      <td>5.232476</td>\n",
       "      <td>0.0</td>\n",
       "      <td>8.0</td>\n",
       "      <td>12.0</td>\n",
       "      <td>17.0</td>\n",
       "      <td>24.0</td>\n",
       "    </tr>\n",
       "    <tr>\n",
       "      <th>minute</th>\n",
       "      <td>161192.0</td>\n",
       "      <td>30.332244</td>\n",
       "      <td>18.061569</td>\n",
       "      <td>0.0</td>\n",
       "      <td>14.0</td>\n",
       "      <td>30.0</td>\n",
       "      <td>47.0</td>\n",
       "      <td>59.0</td>\n",
       "    </tr>\n",
       "  </tbody>\n",
       "</table>\n",
       "</div>"
      ],
      "text/plain": [
       "              count         mean          std     min     25%     50%     75%  \\\n",
       "year       162049.0  2014.000000     0.000000  2014.0  2014.0  2014.0  2014.0   \n",
       "month      162049.0     6.605027     3.324399     1.0     4.0     7.0     9.0   \n",
       "day        162049.0    15.749890     8.789417     1.0     8.0    16.0    23.0   \n",
       "dep_time   161192.0  1278.283755   522.583793     1.0   831.0  1217.0  1721.0   \n",
       "dep_delay  161192.0     6.133859    29.112035   -37.0    -5.0    -2.0     5.0   \n",
       "arr_time   161061.0  1482.501282   523.958781     1.0  1127.0  1517.0  1918.0   \n",
       "arr_delay  160748.0     2.240868    31.191037   -67.0   -12.0    -4.0     7.0   \n",
       "flight     162049.0  1357.356725  1495.271031     2.0   408.0   694.0  1726.0   \n",
       "air_time   160748.0   152.588511    72.547469    18.0   103.0   129.0   199.0   \n",
       "distance   162049.0  1204.514634   653.150062    93.0   689.0   991.0  1660.0   \n",
       "hour       161192.0    12.479515     5.232476     0.0     8.0    12.0    17.0   \n",
       "minute     161192.0    30.332244    18.061569     0.0    14.0    30.0    47.0   \n",
       "\n",
       "              max  \n",
       "year       2014.0  \n",
       "month        12.0  \n",
       "day          31.0  \n",
       "dep_time   2400.0  \n",
       "dep_delay  1553.0  \n",
       "arr_time   2400.0  \n",
       "arr_delay  1539.0  \n",
       "flight     6527.0  \n",
       "air_time    422.0  \n",
       "distance   2724.0  \n",
       "hour         24.0  \n",
       "minute       59.0  "
      ]
     },
     "execution_count": 76,
     "metadata": {},
     "output_type": "execute_result"
    }
   ],
   "source": [
    "df_flights.describe().T"
   ]
  },
  {
   "cell_type": "code",
   "execution_count": 74,
   "metadata": {},
   "outputs": [
    {
     "data": {
      "text/html": [
       "<div>\n",
       "<style scoped>\n",
       "    .dataframe tbody tr th:only-of-type {\n",
       "        vertical-align: middle;\n",
       "    }\n",
       "\n",
       "    .dataframe tbody tr th {\n",
       "        vertical-align: top;\n",
       "    }\n",
       "\n",
       "    .dataframe thead th {\n",
       "        text-align: right;\n",
       "    }\n",
       "</style>\n",
       "<table border=\"1\" class=\"dataframe\">\n",
       "  <thead>\n",
       "    <tr style=\"text-align: right;\">\n",
       "      <th></th>\n",
       "      <th>count</th>\n",
       "      <th>unique</th>\n",
       "      <th>top</th>\n",
       "      <th>freq</th>\n",
       "    </tr>\n",
       "  </thead>\n",
       "  <tbody>\n",
       "    <tr>\n",
       "      <th>carrier</th>\n",
       "      <td>162049</td>\n",
       "      <td>11</td>\n",
       "      <td>AS</td>\n",
       "      <td>62460</td>\n",
       "    </tr>\n",
       "    <tr>\n",
       "      <th>tailnum</th>\n",
       "      <td>161801</td>\n",
       "      <td>3022</td>\n",
       "      <td>N223AG</td>\n",
       "      <td>755</td>\n",
       "    </tr>\n",
       "    <tr>\n",
       "      <th>origin</th>\n",
       "      <td>162049</td>\n",
       "      <td>2</td>\n",
       "      <td>SEA</td>\n",
       "      <td>108714</td>\n",
       "    </tr>\n",
       "    <tr>\n",
       "      <th>dest</th>\n",
       "      <td>162049</td>\n",
       "      <td>71</td>\n",
       "      <td>SFO</td>\n",
       "      <td>12809</td>\n",
       "    </tr>\n",
       "  </tbody>\n",
       "</table>\n",
       "</div>"
      ],
      "text/plain": [
       "          count unique     top    freq\n",
       "carrier  162049     11      AS   62460\n",
       "tailnum  161801   3022  N223AG     755\n",
       "origin   162049      2     SEA  108714\n",
       "dest     162049     71     SFO   12809"
      ]
     },
     "execution_count": 74,
     "metadata": {},
     "output_type": "execute_result"
    }
   ],
   "source": [
    "df_flights.describe(include = \"O\").T"
   ]
  },
  {
   "cell_type": "markdown",
   "metadata": {},
   "source": [
    "# Visualización de variables categóricas"
   ]
  },
  {
   "cell_type": "code",
   "execution_count": 38,
   "metadata": {},
   "outputs": [
    {
     "data": {
      "text/plain": [
       "array(['AS', 'US', 'UA', 'DL', 'AA', 'F9', 'VX', 'OO', 'WN', 'B6', 'HA'],\n",
       "      dtype=object)"
      ]
     },
     "execution_count": 38,
     "metadata": {},
     "output_type": "execute_result"
    }
   ],
   "source": [
    "df_flights[\"carrier\"].unique()"
   ]
  },
  {
   "cell_type": "markdown",
   "metadata": {},
   "source": [
    "## Box Plot"
   ]
  },
  {
   "cell_type": "code",
   "execution_count": 44,
   "metadata": {},
   "outputs": [
    {
     "data": {
      "image/png": "[encoded data removed]",
      "text/plain": [
       "<Figure size 360x360 with 1 Axes>"
      ]
     },
     "metadata": {
      "needs_background": "light"
     },
     "output_type": "display_data"
    }
   ],
   "source": [
    "df_flights.boxplot(\"dep_time\", \"origin\", rot = 0, figsize = (5, 5));"
   ]
  },
  {
   "cell_type": "code",
   "execution_count": 66,
   "metadata": {},
   "outputs": [
    {
     "data": {
      "image/png": "[encoded data removed]",
      "text/plain": [
       "<Figure size 360x720 with 1 Axes>"
      ]
     },
     "metadata": {},
     "output_type": "display_data"
    }
   ],
   "source": [
    "df_flights.boxplot(\"dep_time\", \"carrier\", rot = 0, figsize = (5, 10));"
   ]
  },
  {
   "cell_type": "markdown",
   "metadata": {
    "ExecuteTime": {
     "end_time": "2021-07-28T02:47:40.539943Z",
     "start_time": "2021-07-28T02:47:40.528903Z"
    }
   },
   "source": [
    "## Frecuencias de Distribución\n",
    "\n",
    "Esto nos permite el número de ocurrencias de cada categoría de una variable."
   ]
  },
  {
   "cell_type": "code",
   "execution_count": 47,
   "metadata": {},
   "outputs": [
    {
     "data": {
      "text/plain": [
       "carrier\n",
       "HA     1095\n",
       "F9     2698\n",
       "VX     3272\n",
       "B6     3540\n",
       "US     5946\n",
       "AA     7586\n",
       "UA    16671\n",
       "DL    16716\n",
       "OO    18710\n",
       "WN    23355\n",
       "AS    62460\n",
       "dtype: int64"
      ]
     },
     "execution_count": 47,
     "metadata": {},
     "output_type": "execute_result"
    }
   ],
   "source": [
    "df_flights.groupby([\"carrier\"]).size().sort_values(ascending = True)"
   ]
  },
  {
   "cell_type": "code",
   "execution_count": 52,
   "metadata": {},
   "outputs": [
    {
     "data": {
      "text/plain": [
       "Index(['HA', 'F9', 'VX', 'B6', 'US', 'AA', 'UA', 'DL', 'OO', 'WN', 'AS'], dtype='object')"
      ]
     },
     "execution_count": 52,
     "metadata": {},
     "output_type": "execute_result"
    }
   ],
   "source": [
    "df_flights[\"carrier\"].value_counts(ascending = True).index"
   ]
  },
  {
   "cell_type": "code",
   "execution_count": 53,
   "metadata": {},
   "outputs": [
    {
     "data": {
      "text/plain": [
       "array([ 1095,  2698,  3272,  3540,  5946,  7586, 16671, 16716, 18710,\n",
       "       23355, 62460], dtype=int64)"
      ]
     },
     "execution_count": 53,
     "metadata": {},
     "output_type": "execute_result"
    }
   ],
   "source": [
    "df_flights[\"carrier\"].value_counts(ascending = True).values"
   ]
  },
  {
   "cell_type": "code",
   "execution_count": 63,
   "metadata": {},
   "outputs": [],
   "source": [
    "def plot_frecuency_distribution(category, df, title_, style):\n",
    "    \n",
    "    cat_count = df[category].value_counts()\n",
    "    sns.set(style = style)\n",
    "    sns.barplot(cat_count.index, cat_count.values, alpha = 0.9)\n",
    "    plt.title(title_)\n",
    "    plt.xlabel(category)\n",
    "    plt.ylabel(\"Conteos\")\n",
    "    plt.show()"
   ]
  },
  {
   "cell_type": "code",
   "execution_count": 64,
   "metadata": {},
   "outputs": [
    {
     "data": {
      "image/png": "[encoded data removed]",
      "text/plain": [
       "<Figure size 432x288 with 1 Axes>"
      ]
     },
     "metadata": {},
     "output_type": "display_data"
    }
   ],
   "source": [
    "plot_frecuency_distribution(\"carrier\", df_flights, \n",
    "                            title_ = \"Bar plot of Carrier\", \n",
    "                            style = \"darkgrid\")"
   ]
  },
  {
   "cell_type": "markdown",
   "metadata": {},
   "source": [
    "## Pie Chart"
   ]
  },
  {
   "cell_type": "code",
   "execution_count": 71,
   "metadata": {},
   "outputs": [
    {
     "data": {
      "image/png": "[encoded data removed]",
      "text/plain": [
       "<Figure size 576x576 with 1 Axes>"
      ]
     },
     "metadata": {},
     "output_type": "display_data"
    }
   ],
   "source": [
    "explode = (0,0,0,0,0,0,0,0,0,0,0)\n",
    "\n",
    "plot_pie_chart(\"carrier\", \n",
    "               df_flights, \n",
    "               shadow = True, \n",
    "               fig_size = (8, 8),\n",
    "               explode = explode)"
   ]
  },
  {
   "cell_type": "markdown",
   "metadata": {},
   "source": [
    "# Seleccionar las variables categóricas\n",
    "\n",
    "A continuación vemos que las posibles variables categóricas son las que son de tipo \"object\". Las demás son numéricas."
   ]
  },
  {
   "cell_type": "code",
   "execution_count": 79,
   "metadata": {},
   "outputs": [
    {
     "data": {
      "text/plain": [
       "year           int64\n",
       "month          int64\n",
       "day            int64\n",
       "dep_time     float64\n",
       "dep_delay    float64\n",
       "arr_time     float64\n",
       "arr_delay    float64\n",
       "carrier       object\n",
       "tailnum       object\n",
       "flight         int64\n",
       "origin        object\n",
       "dest          object\n",
       "air_time     float64\n",
       "distance       int64\n",
       "hour         float64\n",
       "minute       float64\n",
       "dtype: object"
      ]
     },
     "execution_count": 79,
     "metadata": {},
     "output_type": "execute_result"
    }
   ],
   "source": [
    "df_flights.dtypes"
   ]
  },
  {
   "cell_type": "code",
   "execution_count": 80,
   "metadata": {},
   "outputs": [
    {
     "data": {
      "text/html": [
       "<div>\n",
       "<style scoped>\n",
       "    .dataframe tbody tr th:only-of-type {\n",
       "        vertical-align: middle;\n",
       "    }\n",
       "\n",
       "    .dataframe tbody tr th {\n",
       "        vertical-align: top;\n",
       "    }\n",
       "\n",
       "    .dataframe thead th {\n",
       "        text-align: right;\n",
       "    }\n",
       "</style>\n",
       "<table border=\"1\" class=\"dataframe\">\n",
       "  <thead>\n",
       "    <tr style=\"text-align: right;\">\n",
       "      <th></th>\n",
       "      <th>carrier</th>\n",
       "      <th>tailnum</th>\n",
       "      <th>origin</th>\n",
       "      <th>dest</th>\n",
       "    </tr>\n",
       "  </thead>\n",
       "  <tbody>\n",
       "    <tr>\n",
       "      <th>0</th>\n",
       "      <td>AS</td>\n",
       "      <td>N508AS</td>\n",
       "      <td>PDX</td>\n",
       "      <td>ANC</td>\n",
       "    </tr>\n",
       "    <tr>\n",
       "      <th>1</th>\n",
       "      <td>US</td>\n",
       "      <td>N195UW</td>\n",
       "      <td>SEA</td>\n",
       "      <td>CLT</td>\n",
       "    </tr>\n",
       "    <tr>\n",
       "      <th>2</th>\n",
       "      <td>UA</td>\n",
       "      <td>N37422</td>\n",
       "      <td>PDX</td>\n",
       "      <td>IAH</td>\n",
       "    </tr>\n",
       "    <tr>\n",
       "      <th>3</th>\n",
       "      <td>US</td>\n",
       "      <td>N547UW</td>\n",
       "      <td>PDX</td>\n",
       "      <td>CLT</td>\n",
       "    </tr>\n",
       "    <tr>\n",
       "      <th>4</th>\n",
       "      <td>AS</td>\n",
       "      <td>N762AS</td>\n",
       "      <td>SEA</td>\n",
       "      <td>ANC</td>\n",
       "    </tr>\n",
       "    <tr>\n",
       "      <th>...</th>\n",
       "      <td>...</td>\n",
       "      <td>...</td>\n",
       "      <td>...</td>\n",
       "      <td>...</td>\n",
       "    </tr>\n",
       "    <tr>\n",
       "      <th>162044</th>\n",
       "      <td>UA</td>\n",
       "      <td>N477UA</td>\n",
       "      <td>PDX</td>\n",
       "      <td>IAH</td>\n",
       "    </tr>\n",
       "    <tr>\n",
       "      <th>162045</th>\n",
       "      <td>DL</td>\n",
       "      <td>N137DL</td>\n",
       "      <td>SEA</td>\n",
       "      <td>ATL</td>\n",
       "    </tr>\n",
       "    <tr>\n",
       "      <th>162046</th>\n",
       "      <td>AS</td>\n",
       "      <td>N530AS</td>\n",
       "      <td>SEA</td>\n",
       "      <td>SAN</td>\n",
       "    </tr>\n",
       "    <tr>\n",
       "      <th>162047</th>\n",
       "      <td>US</td>\n",
       "      <td>NaN</td>\n",
       "      <td>PDX</td>\n",
       "      <td>PHX</td>\n",
       "    </tr>\n",
       "    <tr>\n",
       "      <th>162048</th>\n",
       "      <td>WN</td>\n",
       "      <td>N790SW</td>\n",
       "      <td>SEA</td>\n",
       "      <td>SMF</td>\n",
       "    </tr>\n",
       "  </tbody>\n",
       "</table>\n",
       "<p>162049 rows × 4 columns</p>\n",
       "</div>"
      ],
      "text/plain": [
       "       carrier tailnum origin dest\n",
       "0           AS  N508AS    PDX  ANC\n",
       "1           US  N195UW    SEA  CLT\n",
       "2           UA  N37422    PDX  IAH\n",
       "3           US  N547UW    PDX  CLT\n",
       "4           AS  N762AS    SEA  ANC\n",
       "...        ...     ...    ...  ...\n",
       "162044      UA  N477UA    PDX  IAH\n",
       "162045      DL  N137DL    SEA  ATL\n",
       "162046      AS  N530AS    SEA  SAN\n",
       "162047      US     NaN    PDX  PHX\n",
       "162048      WN  N790SW    SEA  SMF\n",
       "\n",
       "[162049 rows x 4 columns]"
      ]
     },
     "execution_count": 80,
     "metadata": {},
     "output_type": "execute_result"
    }
   ],
   "source": [
    "df_flights[[\"carrier\", \"tailnum\", \"origin\", \"dest\"]]"
   ]
  },
  {
   "cell_type": "markdown",
   "metadata": {},
   "source": [
    "## Dataframe de solo variables categóricas"
   ]
  },
  {
   "cell_type": "code",
   "execution_count": 81,
   "metadata": {},
   "outputs": [
    {
     "data": {
      "text/html": [
       "<div>\n",
       "<style scoped>\n",
       "    .dataframe tbody tr th:only-of-type {\n",
       "        vertical-align: middle;\n",
       "    }\n",
       "\n",
       "    .dataframe tbody tr th {\n",
       "        vertical-align: top;\n",
       "    }\n",
       "\n",
       "    .dataframe thead th {\n",
       "        text-align: right;\n",
       "    }\n",
       "</style>\n",
       "<table border=\"1\" class=\"dataframe\">\n",
       "  <thead>\n",
       "    <tr style=\"text-align: right;\">\n",
       "      <th></th>\n",
       "      <th>carrier</th>\n",
       "      <th>tailnum</th>\n",
       "      <th>origin</th>\n",
       "      <th>dest</th>\n",
       "    </tr>\n",
       "  </thead>\n",
       "  <tbody>\n",
       "    <tr>\n",
       "      <th>0</th>\n",
       "      <td>AS</td>\n",
       "      <td>N508AS</td>\n",
       "      <td>PDX</td>\n",
       "      <td>ANC</td>\n",
       "    </tr>\n",
       "    <tr>\n",
       "      <th>1</th>\n",
       "      <td>US</td>\n",
       "      <td>N195UW</td>\n",
       "      <td>SEA</td>\n",
       "      <td>CLT</td>\n",
       "    </tr>\n",
       "    <tr>\n",
       "      <th>2</th>\n",
       "      <td>UA</td>\n",
       "      <td>N37422</td>\n",
       "      <td>PDX</td>\n",
       "      <td>IAH</td>\n",
       "    </tr>\n",
       "    <tr>\n",
       "      <th>3</th>\n",
       "      <td>US</td>\n",
       "      <td>N547UW</td>\n",
       "      <td>PDX</td>\n",
       "      <td>CLT</td>\n",
       "    </tr>\n",
       "    <tr>\n",
       "      <th>4</th>\n",
       "      <td>AS</td>\n",
       "      <td>N762AS</td>\n",
       "      <td>SEA</td>\n",
       "      <td>ANC</td>\n",
       "    </tr>\n",
       "    <tr>\n",
       "      <th>...</th>\n",
       "      <td>...</td>\n",
       "      <td>...</td>\n",
       "      <td>...</td>\n",
       "      <td>...</td>\n",
       "    </tr>\n",
       "    <tr>\n",
       "      <th>162044</th>\n",
       "      <td>UA</td>\n",
       "      <td>N477UA</td>\n",
       "      <td>PDX</td>\n",
       "      <td>IAH</td>\n",
       "    </tr>\n",
       "    <tr>\n",
       "      <th>162045</th>\n",
       "      <td>DL</td>\n",
       "      <td>N137DL</td>\n",
       "      <td>SEA</td>\n",
       "      <td>ATL</td>\n",
       "    </tr>\n",
       "    <tr>\n",
       "      <th>162046</th>\n",
       "      <td>AS</td>\n",
       "      <td>N530AS</td>\n",
       "      <td>SEA</td>\n",
       "      <td>SAN</td>\n",
       "    </tr>\n",
       "    <tr>\n",
       "      <th>162047</th>\n",
       "      <td>US</td>\n",
       "      <td>NaN</td>\n",
       "      <td>PDX</td>\n",
       "      <td>PHX</td>\n",
       "    </tr>\n",
       "    <tr>\n",
       "      <th>162048</th>\n",
       "      <td>WN</td>\n",
       "      <td>N790SW</td>\n",
       "      <td>SEA</td>\n",
       "      <td>SMF</td>\n",
       "    </tr>\n",
       "  </tbody>\n",
       "</table>\n",
       "<p>162049 rows × 4 columns</p>\n",
       "</div>"
      ],
      "text/plain": [
       "       carrier tailnum origin dest\n",
       "0           AS  N508AS    PDX  ANC\n",
       "1           US  N195UW    SEA  CLT\n",
       "2           UA  N37422    PDX  IAH\n",
       "3           US  N547UW    PDX  CLT\n",
       "4           AS  N762AS    SEA  ANC\n",
       "...        ...     ...    ...  ...\n",
       "162044      UA  N477UA    PDX  IAH\n",
       "162045      DL  N137DL    SEA  ATL\n",
       "162046      AS  N530AS    SEA  SAN\n",
       "162047      US     NaN    PDX  PHX\n",
       "162048      WN  N790SW    SEA  SMF\n",
       "\n",
       "[162049 rows x 4 columns]"
      ]
     },
     "execution_count": 81,
     "metadata": {},
     "output_type": "execute_result"
    }
   ],
   "source": [
    "cat_df_flights = df_flights.select_dtypes(include = \"O\").copy()\n",
    "cat_df_flights = df_flights.select_dtypes(include = [\"object\"]).copy()\n",
    "cat_df_flights"
   ]
  },
  {
   "cell_type": "markdown",
   "metadata": {},
   "source": [
    "## Detección e imputación de valores nulos"
   ]
  },
  {
   "cell_type": "code",
   "execution_count": 84,
   "metadata": {},
   "outputs": [
    {
     "data": {
      "text/plain": [
       "carrier      0\n",
       "tailnum    248\n",
       "origin       0\n",
       "dest         0\n",
       "dtype: int64"
      ]
     },
     "execution_count": 84,
     "metadata": {},
     "output_type": "execute_result"
    }
   ],
   "source": [
    "cat_df_flights.isnull().sum()"
   ]
  },
  {
   "cell_type": "code",
   "execution_count": 85,
   "metadata": {},
   "outputs": [
    {
     "data": {
      "text/plain": [
       "248"
      ]
     },
     "execution_count": 85,
     "metadata": {},
     "output_type": "execute_result"
    }
   ],
   "source": [
    "cat_df_flights.isnull().values.sum()"
   ]
  },
  {
   "cell_type": "code",
   "execution_count": 86,
   "metadata": {},
   "outputs": [
    {
     "data": {
      "text/plain": [
       "248"
      ]
     },
     "execution_count": 86,
     "metadata": {},
     "output_type": "execute_result"
    }
   ],
   "source": [
    "cat_df_flights.isnull().sum().sum()"
   ]
  },
  {
   "cell_type": "markdown",
   "metadata": {},
   "source": [
    "### Imputación\n",
    "\n",
    "Esto es un proceso que consiste en llenar los valores faltantes mediante algún método \"razonable\".\n",
    "Para variables numéricas una de las técnicas es utilizar un estadístico como el promedio o la mediana. Para nuestro caso de variables categóricas vamos a reemplazar los valores nulos con el valor más común, en estadística es llamado la \"moda\".\n"
   ]
  },
  {
   "cell_type": "markdown",
   "metadata": {
    "ExecuteTime": {
     "end_time": "2021-07-28T03:29:50.678937Z",
     "start_time": "2021-07-28T03:29:50.676086Z"
    }
   },
   "source": [
    "## One-Hot-Encoding\n",
    "\n",
    "Si bien esta técnica resuelve el problema de tener pesos desiguales, sin embargo, esto no será muy útil cuando se tienen muchas categorías ya que esto agregaría demasiadas columnas y podríamos caer en la [maldición de la dimensionalidad (Curse of dimensionality)](https://en.wikipedia.org/wiki/Curse_of_dimensionality)\n",
    "\n",
    "\n",
    "<img alt=\"Colaboratory logo\" src=\"dummy.jpg\" height = \"400\" width = \"400\">"
   ]
  },
  {
   "cell_type": "markdown",
   "metadata": {},
   "source": [
    "## Utilizando Pandas\n",
    "\n",
    "Utilizamos la función *get_dummies*"
   ]
  },
  {
   "cell_type": "code",
   "execution_count": 88,
   "metadata": {},
   "outputs": [
    {
     "data": {
      "text/html": [
       "<div>\n",
       "<style scoped>\n",
       "    .dataframe tbody tr th:only-of-type {\n",
       "        vertical-align: middle;\n",
       "    }\n",
       "\n",
       "    .dataframe tbody tr th {\n",
       "        vertical-align: top;\n",
       "    }\n",
       "\n",
       "    .dataframe thead th {\n",
       "        text-align: right;\n",
       "    }\n",
       "</style>\n",
       "<table border=\"1\" class=\"dataframe\">\n",
       "  <thead>\n",
       "    <tr style=\"text-align: right;\">\n",
       "      <th></th>\n",
       "      <th>carrier</th>\n",
       "      <th>tailnum</th>\n",
       "      <th>origin</th>\n",
       "      <th>dest</th>\n",
       "    </tr>\n",
       "  </thead>\n",
       "  <tbody>\n",
       "    <tr>\n",
       "      <th>0</th>\n",
       "      <td>AS</td>\n",
       "      <td>N508AS</td>\n",
       "      <td>PDX</td>\n",
       "      <td>ANC</td>\n",
       "    </tr>\n",
       "    <tr>\n",
       "      <th>1</th>\n",
       "      <td>US</td>\n",
       "      <td>N195UW</td>\n",
       "      <td>SEA</td>\n",
       "      <td>CLT</td>\n",
       "    </tr>\n",
       "    <tr>\n",
       "      <th>2</th>\n",
       "      <td>UA</td>\n",
       "      <td>N37422</td>\n",
       "      <td>PDX</td>\n",
       "      <td>IAH</td>\n",
       "    </tr>\n",
       "    <tr>\n",
       "      <th>3</th>\n",
       "      <td>US</td>\n",
       "      <td>N547UW</td>\n",
       "      <td>PDX</td>\n",
       "      <td>CLT</td>\n",
       "    </tr>\n",
       "    <tr>\n",
       "      <th>4</th>\n",
       "      <td>AS</td>\n",
       "      <td>N762AS</td>\n",
       "      <td>SEA</td>\n",
       "      <td>ANC</td>\n",
       "    </tr>\n",
       "  </tbody>\n",
       "</table>\n",
       "</div>"
      ],
      "text/plain": [
       "  carrier tailnum origin dest\n",
       "0      AS  N508AS    PDX  ANC\n",
       "1      US  N195UW    SEA  CLT\n",
       "2      UA  N37422    PDX  IAH\n",
       "3      US  N547UW    PDX  CLT\n",
       "4      AS  N762AS    SEA  ANC"
      ]
     },
     "execution_count": 88,
     "metadata": {},
     "output_type": "execute_result"
    }
   ],
   "source": [
    "cat_df_flights.head()"
   ]
  },
  {
   "cell_type": "code",
   "execution_count": 89,
   "metadata": {},
   "outputs": [],
   "source": [
    "cat_df_flights_onehot = pd.get_dummies(cat_df_flights,\n",
    "                                       columns = [\"carrier\", \"origin\"],\n",
    "                                       prefix = [\"carrier\", \"origin\"])"
   ]
  },
  {
   "cell_type": "code",
   "execution_count": 90,
   "metadata": {},
   "outputs": [
    {
     "data": {
      "text/html": [
       "<div>\n",
       "<style scoped>\n",
       "    .dataframe tbody tr th:only-of-type {\n",
       "        vertical-align: middle;\n",
       "    }\n",
       "\n",
       "    .dataframe tbody tr th {\n",
       "        vertical-align: top;\n",
       "    }\n",
       "\n",
       "    .dataframe thead th {\n",
       "        text-align: right;\n",
       "    }\n",
       "</style>\n",
       "<table border=\"1\" class=\"dataframe\">\n",
       "  <thead>\n",
       "    <tr style=\"text-align: right;\">\n",
       "      <th></th>\n",
       "      <th>tailnum</th>\n",
       "      <th>dest</th>\n",
       "      <th>carrier_AA</th>\n",
       "      <th>carrier_AS</th>\n",
       "      <th>carrier_B6</th>\n",
       "      <th>carrier_DL</th>\n",
       "      <th>carrier_F9</th>\n",
       "      <th>carrier_HA</th>\n",
       "      <th>carrier_OO</th>\n",
       "      <th>carrier_UA</th>\n",
       "      <th>carrier_US</th>\n",
       "      <th>carrier_VX</th>\n",
       "      <th>carrier_WN</th>\n",
       "      <th>origin_PDX</th>\n",
       "      <th>origin_SEA</th>\n",
       "    </tr>\n",
       "  </thead>\n",
       "  <tbody>\n",
       "    <tr>\n",
       "      <th>0</th>\n",
       "      <td>N508AS</td>\n",
       "      <td>ANC</td>\n",
       "      <td>0</td>\n",
       "      <td>1</td>\n",
       "      <td>0</td>\n",
       "      <td>0</td>\n",
       "      <td>0</td>\n",
       "      <td>0</td>\n",
       "      <td>0</td>\n",
       "      <td>0</td>\n",
       "      <td>0</td>\n",
       "      <td>0</td>\n",
       "      <td>0</td>\n",
       "      <td>1</td>\n",
       "      <td>0</td>\n",
       "    </tr>\n",
       "    <tr>\n",
       "      <th>1</th>\n",
       "      <td>N195UW</td>\n",
       "      <td>CLT</td>\n",
       "      <td>0</td>\n",
       "      <td>0</td>\n",
       "      <td>0</td>\n",
       "      <td>0</td>\n",
       "      <td>0</td>\n",
       "      <td>0</td>\n",
       "      <td>0</td>\n",
       "      <td>0</td>\n",
       "      <td>1</td>\n",
       "      <td>0</td>\n",
       "      <td>0</td>\n",
       "      <td>0</td>\n",
       "      <td>1</td>\n",
       "    </tr>\n",
       "    <tr>\n",
       "      <th>2</th>\n",
       "      <td>N37422</td>\n",
       "      <td>IAH</td>\n",
       "      <td>0</td>\n",
       "      <td>0</td>\n",
       "      <td>0</td>\n",
       "      <td>0</td>\n",
       "      <td>0</td>\n",
       "      <td>0</td>\n",
       "      <td>0</td>\n",
       "      <td>1</td>\n",
       "      <td>0</td>\n",
       "      <td>0</td>\n",
       "      <td>0</td>\n",
       "      <td>1</td>\n",
       "      <td>0</td>\n",
       "    </tr>\n",
       "    <tr>\n",
       "      <th>3</th>\n",
       "      <td>N547UW</td>\n",
       "      <td>CLT</td>\n",
       "      <td>0</td>\n",
       "      <td>0</td>\n",
       "      <td>0</td>\n",
       "      <td>0</td>\n",
       "      <td>0</td>\n",
       "      <td>0</td>\n",
       "      <td>0</td>\n",
       "      <td>0</td>\n",
       "      <td>1</td>\n",
       "      <td>0</td>\n",
       "      <td>0</td>\n",
       "      <td>1</td>\n",
       "      <td>0</td>\n",
       "    </tr>\n",
       "    <tr>\n",
       "      <th>4</th>\n",
       "      <td>N762AS</td>\n",
       "      <td>ANC</td>\n",
       "      <td>0</td>\n",
       "      <td>1</td>\n",
       "      <td>0</td>\n",
       "      <td>0</td>\n",
       "      <td>0</td>\n",
       "      <td>0</td>\n",
       "      <td>0</td>\n",
       "      <td>0</td>\n",
       "      <td>0</td>\n",
       "      <td>0</td>\n",
       "      <td>0</td>\n",
       "      <td>0</td>\n",
       "      <td>1</td>\n",
       "    </tr>\n",
       "    <tr>\n",
       "      <th>...</th>\n",
       "      <td>...</td>\n",
       "      <td>...</td>\n",
       "      <td>...</td>\n",
       "      <td>...</td>\n",
       "      <td>...</td>\n",
       "      <td>...</td>\n",
       "      <td>...</td>\n",
       "      <td>...</td>\n",
       "      <td>...</td>\n",
       "      <td>...</td>\n",
       "      <td>...</td>\n",
       "      <td>...</td>\n",
       "      <td>...</td>\n",
       "      <td>...</td>\n",
       "      <td>...</td>\n",
       "    </tr>\n",
       "    <tr>\n",
       "      <th>162044</th>\n",
       "      <td>N477UA</td>\n",
       "      <td>IAH</td>\n",
       "      <td>0</td>\n",
       "      <td>0</td>\n",
       "      <td>0</td>\n",
       "      <td>0</td>\n",
       "      <td>0</td>\n",
       "      <td>0</td>\n",
       "      <td>0</td>\n",
       "      <td>1</td>\n",
       "      <td>0</td>\n",
       "      <td>0</td>\n",
       "      <td>0</td>\n",
       "      <td>1</td>\n",
       "      <td>0</td>\n",
       "    </tr>\n",
       "    <tr>\n",
       "      <th>162045</th>\n",
       "      <td>N137DL</td>\n",
       "      <td>ATL</td>\n",
       "      <td>0</td>\n",
       "      <td>0</td>\n",
       "      <td>0</td>\n",
       "      <td>1</td>\n",
       "      <td>0</td>\n",
       "      <td>0</td>\n",
       "      <td>0</td>\n",
       "      <td>0</td>\n",
       "      <td>0</td>\n",
       "      <td>0</td>\n",
       "      <td>0</td>\n",
       "      <td>0</td>\n",
       "      <td>1</td>\n",
       "    </tr>\n",
       "    <tr>\n",
       "      <th>162046</th>\n",
       "      <td>N530AS</td>\n",
       "      <td>SAN</td>\n",
       "      <td>0</td>\n",
       "      <td>1</td>\n",
       "      <td>0</td>\n",
       "      <td>0</td>\n",
       "      <td>0</td>\n",
       "      <td>0</td>\n",
       "      <td>0</td>\n",
       "      <td>0</td>\n",
       "      <td>0</td>\n",
       "      <td>0</td>\n",
       "      <td>0</td>\n",
       "      <td>0</td>\n",
       "      <td>1</td>\n",
       "    </tr>\n",
       "    <tr>\n",
       "      <th>162047</th>\n",
       "      <td>NaN</td>\n",
       "      <td>PHX</td>\n",
       "      <td>0</td>\n",
       "      <td>0</td>\n",
       "      <td>0</td>\n",
       "      <td>0</td>\n",
       "      <td>0</td>\n",
       "      <td>0</td>\n",
       "      <td>0</td>\n",
       "      <td>0</td>\n",
       "      <td>1</td>\n",
       "      <td>0</td>\n",
       "      <td>0</td>\n",
       "      <td>1</td>\n",
       "      <td>0</td>\n",
       "    </tr>\n",
       "    <tr>\n",
       "      <th>162048</th>\n",
       "      <td>N790SW</td>\n",
       "      <td>SMF</td>\n",
       "      <td>0</td>\n",
       "      <td>0</td>\n",
       "      <td>0</td>\n",
       "      <td>0</td>\n",
       "      <td>0</td>\n",
       "      <td>0</td>\n",
       "      <td>0</td>\n",
       "      <td>0</td>\n",
       "      <td>0</td>\n",
       "      <td>0</td>\n",
       "      <td>1</td>\n",
       "      <td>0</td>\n",
       "      <td>1</td>\n",
       "    </tr>\n",
       "  </tbody>\n",
       "</table>\n",
       "<p>162049 rows × 15 columns</p>\n",
       "</div>"
      ],
      "text/plain": [
       "       tailnum dest  carrier_AA  carrier_AS  carrier_B6  carrier_DL  \\\n",
       "0       N508AS  ANC           0           1           0           0   \n",
       "1       N195UW  CLT           0           0           0           0   \n",
       "2       N37422  IAH           0           0           0           0   \n",
       "3       N547UW  CLT           0           0           0           0   \n",
       "4       N762AS  ANC           0           1           0           0   \n",
       "...        ...  ...         ...         ...         ...         ...   \n",
       "162044  N477UA  IAH           0           0           0           0   \n",
       "162045  N137DL  ATL           0           0           0           1   \n",
       "162046  N530AS  SAN           0           1           0           0   \n",
       "162047     NaN  PHX           0           0           0           0   \n",
       "162048  N790SW  SMF           0           0           0           0   \n",
       "\n",
       "        carrier_F9  carrier_HA  carrier_OO  carrier_UA  carrier_US  \\\n",
       "0                0           0           0           0           0   \n",
       "1                0           0           0           0           1   \n",
       "2                0           0           0           1           0   \n",
       "3                0           0           0           0           1   \n",
       "4                0           0           0           0           0   \n",
       "...            ...         ...         ...         ...         ...   \n",
       "162044           0           0           0           1           0   \n",
       "162045           0           0           0           0           0   \n",
       "162046           0           0           0           0           0   \n",
       "162047           0           0           0           0           1   \n",
       "162048           0           0           0           0           0   \n",
       "\n",
       "        carrier_VX  carrier_WN  origin_PDX  origin_SEA  \n",
       "0                0           0           1           0  \n",
       "1                0           0           0           1  \n",
       "2                0           0           1           0  \n",
       "3                0           0           1           0  \n",
       "4                0           0           0           1  \n",
       "...            ...         ...         ...         ...  \n",
       "162044           0           0           1           0  \n",
       "162045           0           0           0           1  \n",
       "162046           0           0           0           1  \n",
       "162047           0           0           1           0  \n",
       "162048           0           1           0           1  \n",
       "\n",
       "[162049 rows x 15 columns]"
      ]
     },
     "execution_count": 90,
     "metadata": {},
     "output_type": "execute_result"
    }
   ],
   "source": [
    "cat_df_flights_onehot"
   ]
  },
  {
   "cell_type": "code",
   "execution_count": null,
   "metadata": {},
   "outputs": [],
   "source": []
  },
  {
   "cell_type": "markdown",
   "metadata": {},
   "source": [
    "## Target Encoding\n",
    "\n",
    "Supongamos que la variable \"*dep_time*\" es nuestra variable objetivo (target)."
   ]
  },
  {
   "cell_type": "code",
   "execution_count": 93,
   "metadata": {
    "scrolled": true
   },
   "outputs": [
    {
     "data": {
      "text/html": [
       "<div>\n",
       "<style scoped>\n",
       "    .dataframe tbody tr th:only-of-type {\n",
       "        vertical-align: middle;\n",
       "    }\n",
       "\n",
       "    .dataframe tbody tr th {\n",
       "        vertical-align: top;\n",
       "    }\n",
       "\n",
       "    .dataframe thead th {\n",
       "        text-align: right;\n",
       "    }\n",
       "</style>\n",
       "<table border=\"1\" class=\"dataframe\">\n",
       "  <thead>\n",
       "    <tr style=\"text-align: right;\">\n",
       "      <th></th>\n",
       "      <th>carrier</th>\n",
       "      <th>tailnum</th>\n",
       "      <th>origin</th>\n",
       "      <th>dest</th>\n",
       "      <th>target</th>\n",
       "    </tr>\n",
       "  </thead>\n",
       "  <tbody>\n",
       "    <tr>\n",
       "      <th>0</th>\n",
       "      <td>AS</td>\n",
       "      <td>N508AS</td>\n",
       "      <td>PDX</td>\n",
       "      <td>ANC</td>\n",
       "      <td>1.0</td>\n",
       "    </tr>\n",
       "    <tr>\n",
       "      <th>1</th>\n",
       "      <td>US</td>\n",
       "      <td>N195UW</td>\n",
       "      <td>SEA</td>\n",
       "      <td>CLT</td>\n",
       "      <td>4.0</td>\n",
       "    </tr>\n",
       "    <tr>\n",
       "      <th>2</th>\n",
       "      <td>UA</td>\n",
       "      <td>N37422</td>\n",
       "      <td>PDX</td>\n",
       "      <td>IAH</td>\n",
       "      <td>8.0</td>\n",
       "    </tr>\n",
       "    <tr>\n",
       "      <th>3</th>\n",
       "      <td>US</td>\n",
       "      <td>N547UW</td>\n",
       "      <td>PDX</td>\n",
       "      <td>CLT</td>\n",
       "      <td>28.0</td>\n",
       "    </tr>\n",
       "    <tr>\n",
       "      <th>4</th>\n",
       "      <td>AS</td>\n",
       "      <td>N762AS</td>\n",
       "      <td>SEA</td>\n",
       "      <td>ANC</td>\n",
       "      <td>34.0</td>\n",
       "    </tr>\n",
       "  </tbody>\n",
       "</table>\n",
       "</div>"
      ],
      "text/plain": [
       "  carrier tailnum origin dest  target\n",
       "0      AS  N508AS    PDX  ANC     1.0\n",
       "1      US  N195UW    SEA  CLT     4.0\n",
       "2      UA  N37422    PDX  IAH     8.0\n",
       "3      US  N547UW    PDX  CLT    28.0\n",
       "4      AS  N762AS    SEA  ANC    34.0"
      ]
     },
     "execution_count": 93,
     "metadata": {},
     "output_type": "execute_result"
    }
   ],
   "source": [
    "cat_df_flights_encoding = cat_df_flights.copy()\n",
    "cat_df_flights_encoding[\"target\"] = df_flights[\"dep_time\"]\n",
    "cat_df_flights_encoding.head()"
   ]
  },
  {
   "cell_type": "code",
   "execution_count": 95,
   "metadata": {},
   "outputs": [],
   "source": [
    "na_fill_values = cat_df_flights_encoding.target.mean()\n",
    "cat_df_flights_encoding.fillna(na_fill_values, inplace = True)"
   ]
  },
  {
   "cell_type": "code",
   "execution_count": 97,
   "metadata": {},
   "outputs": [
    {
     "data": {
      "text/html": [
       "<div>\n",
       "<style scoped>\n",
       "    .dataframe tbody tr th:only-of-type {\n",
       "        vertical-align: middle;\n",
       "    }\n",
       "\n",
       "    .dataframe tbody tr th {\n",
       "        vertical-align: top;\n",
       "    }\n",
       "\n",
       "    .dataframe thead th {\n",
       "        text-align: right;\n",
       "    }\n",
       "</style>\n",
       "<table border=\"1\" class=\"dataframe\">\n",
       "  <thead>\n",
       "    <tr style=\"text-align: right;\">\n",
       "      <th></th>\n",
       "      <th>carrier</th>\n",
       "      <th>target</th>\n",
       "    </tr>\n",
       "  </thead>\n",
       "  <tbody>\n",
       "    <tr>\n",
       "      <th>0</th>\n",
       "      <td>AA</td>\n",
       "      <td>1139.753005</td>\n",
       "    </tr>\n",
       "    <tr>\n",
       "      <th>1</th>\n",
       "      <td>AS</td>\n",
       "      <td>1305.577368</td>\n",
       "    </tr>\n",
       "    <tr>\n",
       "      <th>2</th>\n",
       "      <td>B6</td>\n",
       "      <td>1505.048686</td>\n",
       "    </tr>\n",
       "    <tr>\n",
       "      <th>3</th>\n",
       "      <td>DL</td>\n",
       "      <td>1215.535727</td>\n",
       "    </tr>\n",
       "    <tr>\n",
       "      <th>4</th>\n",
       "      <td>F9</td>\n",
       "      <td>1246.846017</td>\n",
       "    </tr>\n",
       "    <tr>\n",
       "      <th>5</th>\n",
       "      <td>HA</td>\n",
       "      <td>950.421264</td>\n",
       "    </tr>\n",
       "    <tr>\n",
       "      <th>6</th>\n",
       "      <td>OO</td>\n",
       "      <td>1353.848156</td>\n",
       "    </tr>\n",
       "    <tr>\n",
       "      <th>7</th>\n",
       "      <td>UA</td>\n",
       "      <td>1218.665926</td>\n",
       "    </tr>\n",
       "    <tr>\n",
       "      <th>8</th>\n",
       "      <td>US</td>\n",
       "      <td>1247.354458</td>\n",
       "    </tr>\n",
       "    <tr>\n",
       "      <th>9</th>\n",
       "      <td>VX</td>\n",
       "      <td>1247.787108</td>\n",
       "    </tr>\n",
       "    <tr>\n",
       "      <th>10</th>\n",
       "      <td>WN</td>\n",
       "      <td>1273.996935</td>\n",
       "    </tr>\n",
       "  </tbody>\n",
       "</table>\n",
       "</div>"
      ],
      "text/plain": [
       "   carrier       target\n",
       "0       AA  1139.753005\n",
       "1       AS  1305.577368\n",
       "2       B6  1505.048686\n",
       "3       DL  1215.535727\n",
       "4       F9  1246.846017\n",
       "5       HA   950.421264\n",
       "6       OO  1353.848156\n",
       "7       UA  1218.665926\n",
       "8       US  1247.354458\n",
       "9       VX  1247.787108\n",
       "10      WN  1273.996935"
      ]
     },
     "execution_count": 97,
     "metadata": {},
     "output_type": "execute_result"
    }
   ],
   "source": [
    "encodings = cat_df_flights_encoding.groupby(\"carrier\").agg({\"target\":\"mean\"}).reset_index()\n",
    "encodings"
   ]
  },
  {
   "cell_type": "code",
   "execution_count": 98,
   "metadata": {},
   "outputs": [],
   "source": [
    "cat_df_flights_target_encoding = cat_df_flights_encoding.merge(encodings, how=\"left\", on=\"carrier\", suffixes=(\"\", \"carrier_mean\"))"
   ]
  },
  {
   "cell_type": "code",
   "execution_count": 99,
   "metadata": {},
   "outputs": [
    {
     "data": {
      "text/html": [
       "<div>\n",
       "<style scoped>\n",
       "    .dataframe tbody tr th:only-of-type {\n",
       "        vertical-align: middle;\n",
       "    }\n",
       "\n",
       "    .dataframe tbody tr th {\n",
       "        vertical-align: top;\n",
       "    }\n",
       "\n",
       "    .dataframe thead th {\n",
       "        text-align: right;\n",
       "    }\n",
       "</style>\n",
       "<table border=\"1\" class=\"dataframe\">\n",
       "  <thead>\n",
       "    <tr style=\"text-align: right;\">\n",
       "      <th></th>\n",
       "      <th>carrier</th>\n",
       "      <th>tailnum</th>\n",
       "      <th>origin</th>\n",
       "      <th>dest</th>\n",
       "      <th>target</th>\n",
       "      <th>targetcarrier_mean</th>\n",
       "    </tr>\n",
       "  </thead>\n",
       "  <tbody>\n",
       "    <tr>\n",
       "      <th>0</th>\n",
       "      <td>AS</td>\n",
       "      <td>N508AS</td>\n",
       "      <td>PDX</td>\n",
       "      <td>ANC</td>\n",
       "      <td>1.000000</td>\n",
       "      <td>1305.577368</td>\n",
       "    </tr>\n",
       "    <tr>\n",
       "      <th>1</th>\n",
       "      <td>US</td>\n",
       "      <td>N195UW</td>\n",
       "      <td>SEA</td>\n",
       "      <td>CLT</td>\n",
       "      <td>4.000000</td>\n",
       "      <td>1247.354458</td>\n",
       "    </tr>\n",
       "    <tr>\n",
       "      <th>2</th>\n",
       "      <td>UA</td>\n",
       "      <td>N37422</td>\n",
       "      <td>PDX</td>\n",
       "      <td>IAH</td>\n",
       "      <td>8.000000</td>\n",
       "      <td>1218.665926</td>\n",
       "    </tr>\n",
       "    <tr>\n",
       "      <th>3</th>\n",
       "      <td>US</td>\n",
       "      <td>N547UW</td>\n",
       "      <td>PDX</td>\n",
       "      <td>CLT</td>\n",
       "      <td>28.000000</td>\n",
       "      <td>1247.354458</td>\n",
       "    </tr>\n",
       "    <tr>\n",
       "      <th>4</th>\n",
       "      <td>AS</td>\n",
       "      <td>N762AS</td>\n",
       "      <td>SEA</td>\n",
       "      <td>ANC</td>\n",
       "      <td>34.000000</td>\n",
       "      <td>1305.577368</td>\n",
       "    </tr>\n",
       "    <tr>\n",
       "      <th>...</th>\n",
       "      <td>...</td>\n",
       "      <td>...</td>\n",
       "      <td>...</td>\n",
       "      <td>...</td>\n",
       "      <td>...</td>\n",
       "      <td>...</td>\n",
       "    </tr>\n",
       "    <tr>\n",
       "      <th>162044</th>\n",
       "      <td>UA</td>\n",
       "      <td>N477UA</td>\n",
       "      <td>PDX</td>\n",
       "      <td>IAH</td>\n",
       "      <td>2357.000000</td>\n",
       "      <td>1218.665926</td>\n",
       "    </tr>\n",
       "    <tr>\n",
       "      <th>162045</th>\n",
       "      <td>DL</td>\n",
       "      <td>N137DL</td>\n",
       "      <td>SEA</td>\n",
       "      <td>ATL</td>\n",
       "      <td>2359.000000</td>\n",
       "      <td>1215.535727</td>\n",
       "    </tr>\n",
       "    <tr>\n",
       "      <th>162046</th>\n",
       "      <td>AS</td>\n",
       "      <td>N530AS</td>\n",
       "      <td>SEA</td>\n",
       "      <td>SAN</td>\n",
       "      <td>1278.283755</td>\n",
       "      <td>1305.577368</td>\n",
       "    </tr>\n",
       "    <tr>\n",
       "      <th>162047</th>\n",
       "      <td>US</td>\n",
       "      <td>1278.283755</td>\n",
       "      <td>PDX</td>\n",
       "      <td>PHX</td>\n",
       "      <td>1278.283755</td>\n",
       "      <td>1247.354458</td>\n",
       "    </tr>\n",
       "    <tr>\n",
       "      <th>162048</th>\n",
       "      <td>WN</td>\n",
       "      <td>N790SW</td>\n",
       "      <td>SEA</td>\n",
       "      <td>SMF</td>\n",
       "      <td>1278.283755</td>\n",
       "      <td>1273.996935</td>\n",
       "    </tr>\n",
       "  </tbody>\n",
       "</table>\n",
       "<p>162049 rows × 6 columns</p>\n",
       "</div>"
      ],
      "text/plain": [
       "       carrier      tailnum origin dest       target  targetcarrier_mean\n",
       "0           AS       N508AS    PDX  ANC     1.000000         1305.577368\n",
       "1           US       N195UW    SEA  CLT     4.000000         1247.354458\n",
       "2           UA       N37422    PDX  IAH     8.000000         1218.665926\n",
       "3           US       N547UW    PDX  CLT    28.000000         1247.354458\n",
       "4           AS       N762AS    SEA  ANC    34.000000         1305.577368\n",
       "...        ...          ...    ...  ...          ...                 ...\n",
       "162044      UA       N477UA    PDX  IAH  2357.000000         1218.665926\n",
       "162045      DL       N137DL    SEA  ATL  2359.000000         1215.535727\n",
       "162046      AS       N530AS    SEA  SAN  1278.283755         1305.577368\n",
       "162047      US  1278.283755    PDX  PHX  1278.283755         1247.354458\n",
       "162048      WN       N790SW    SEA  SMF  1278.283755         1273.996935\n",
       "\n",
       "[162049 rows x 6 columns]"
      ]
     },
     "execution_count": 99,
     "metadata": {},
     "output_type": "execute_result"
    }
   ],
   "source": [
    "cat_df_flights_target_encoding"
   ]
  },
  {
   "cell_type": "code",
   "execution_count": null,
   "metadata": {},
   "outputs": [],
   "source": []
  }
 ],
 "metadata": {
  "kernelspec": {
   "display_name": "Python 3",
   "language": "python",
   "name": "python3"
  },
  "language_info": {
   "codemirror_mode": {
    "name": "ipython",
    "version": 3
   },
   "file_extension": ".py",
   "mimetype": "text/x-python",
   "name": "python",
   "nbconvert_exporter": "python",
   "pygments_lexer": "ipython3",
   "version": "3.8.3"
  },
  "toc": {
   "base_numbering": 1,
   "nav_menu": {},
   "number_sections": true,
   "sideBar": true,
   "skip_h1_title": false,
   "title_cell": "Table of Contents",
   "title_sidebar": "Contents",
   "toc_cell": false,
   "toc_position": {
    "height": "calc(100% - 180px)",
    "left": "10px",
    "top": "150px",
    "width": "165px"
   },
   "toc_section_display": true,
   "toc_window_display": true
  }
 },
 "nbformat": 4,
 "nbformat_minor": 5
}
