{
 "cells": [
  {
   "cell_type": "markdown",
   "metadata": {},
   "source": [
    "# Gráficos en Python"
   ]
  },
  {
   "cell_type": "code",
   "execution_count": 1,
   "metadata": {},
   "outputs": [
    {
     "data": {
      "text/html": [
       "<div>\n",
       "<style scoped>\n",
       "    .dataframe tbody tr th:only-of-type {\n",
       "        vertical-align: middle;\n",
       "    }\n",
       "\n",
       "    .dataframe tbody tr th {\n",
       "        vertical-align: top;\n",
       "    }\n",
       "\n",
       "    .dataframe thead th {\n",
       "        text-align: right;\n",
       "    }\n",
       "</style>\n",
       "<table border=\"1\" class=\"dataframe\">\n",
       "  <thead>\n",
       "    <tr style=\"text-align: right;\">\n",
       "      <th></th>\n",
       "      <th>discapacidad.ano</th>\n",
       "      <th>discapacidad.sexo</th>\n",
       "      <th>discapacidad.nombre_depto</th>\n",
       "      <th>discapacidad.nombre_mpio</th>\n",
       "      <th>discapacidad.estrato</th>\n",
       "      <th>discapacidad.tipo_discapacidad</th>\n",
       "      <th>discapacidad.orig_discapacidad</th>\n",
       "      <th>discapacidad.conse_discapacidad</th>\n",
       "    </tr>\n",
       "  </thead>\n",
       "  <tbody>\n",
       "    <tr>\n",
       "      <th>0</th>\n",
       "      <td>2016</td>\n",
       "      <td>M</td>\n",
       "      <td>ANTIOQUIA</td>\n",
       "      <td>DONMATIAS</td>\n",
       "      <td>2</td>\n",
       "      <td>SIN DATO</td>\n",
       "      <td>NO</td>\n",
       "      <td>SIN DATO</td>\n",
       "    </tr>\n",
       "    <tr>\n",
       "      <th>1</th>\n",
       "      <td>2016</td>\n",
       "      <td>M</td>\n",
       "      <td>ANTIOQUIA</td>\n",
       "      <td>HISPANIA</td>\n",
       "      <td>3</td>\n",
       "      <td>SIN DATO</td>\n",
       "      <td>NO</td>\n",
       "      <td>SIN DATO</td>\n",
       "    </tr>\n",
       "    <tr>\n",
       "      <th>2</th>\n",
       "      <td>2016</td>\n",
       "      <td>M</td>\n",
       "      <td>ANTIOQUIA</td>\n",
       "      <td>MEDELLIN</td>\n",
       "      <td>2</td>\n",
       "      <td>SIN DATO</td>\n",
       "      <td>SI</td>\n",
       "      <td>Accidente</td>\n",
       "    </tr>\n",
       "    <tr>\n",
       "      <th>3</th>\n",
       "      <td>2016</td>\n",
       "      <td>M</td>\n",
       "      <td>ANTIOQUIA</td>\n",
       "      <td>MEDELLIN</td>\n",
       "      <td>2</td>\n",
       "      <td>SIN DATO</td>\n",
       "      <td>NO</td>\n",
       "      <td>SIN DATO</td>\n",
       "    </tr>\n",
       "    <tr>\n",
       "      <th>4</th>\n",
       "      <td>2016</td>\n",
       "      <td>M</td>\n",
       "      <td>ANTIOQUIA</td>\n",
       "      <td>MEDELLIN</td>\n",
       "      <td>7</td>\n",
       "      <td>SIN DATO</td>\n",
       "      <td>SI</td>\n",
       "      <td>Alteracion genetica, hereditaria</td>\n",
       "    </tr>\n",
       "  </tbody>\n",
       "</table>\n",
       "</div>"
      ],
      "text/plain": [
       "   discapacidad.ano discapacidad.sexo discapacidad.nombre_depto  \\\n",
       "0              2016                 M                 ANTIOQUIA   \n",
       "1              2016                 M                 ANTIOQUIA   \n",
       "2              2016                 M                 ANTIOQUIA   \n",
       "3              2016                 M                 ANTIOQUIA   \n",
       "4              2016                 M                 ANTIOQUIA   \n",
       "\n",
       "  discapacidad.nombre_mpio  discapacidad.estrato  \\\n",
       "0                DONMATIAS                     2   \n",
       "1                 HISPANIA                     3   \n",
       "2                 MEDELLIN                     2   \n",
       "3                 MEDELLIN                     2   \n",
       "4                 MEDELLIN                     7   \n",
       "\n",
       "  discapacidad.tipo_discapacidad discapacidad.orig_discapacidad  \\\n",
       "0                       SIN DATO                             NO   \n",
       "1                       SIN DATO                             NO   \n",
       "2                       SIN DATO                             SI   \n",
       "3                       SIN DATO                             NO   \n",
       "4                       SIN DATO                             SI   \n",
       "\n",
       "    discapacidad.conse_discapacidad  \n",
       "0                          SIN DATO  \n",
       "1                          SIN DATO  \n",
       "2                         Accidente  \n",
       "3                          SIN DATO  \n",
       "4  Alteracion genetica, hereditaria  "
      ]
     },
     "execution_count": 1,
     "metadata": {},
     "output_type": "execute_result"
    }
   ],
   "source": [
    "import pandas as pd\n",
    "import numpy as np\n",
    "import matplotlib.pyplot as plt\n",
    "import statsmodels.api as sm\n",
    "\n",
    "url = 'Discapacidad.csv'\n",
    "df = pd.read_csv(url, sep=\";\")\n",
    "df.head(5)"
   ]
  },
  {
   "cell_type": "code",
   "execution_count": 75,
   "metadata": {},
   "outputs": [
    {
     "data": {
      "text/html": [
       "<div>\n",
       "<style scoped>\n",
       "    .dataframe tbody tr th:only-of-type {\n",
       "        vertical-align: middle;\n",
       "    }\n",
       "\n",
       "    .dataframe tbody tr th {\n",
       "        vertical-align: top;\n",
       "    }\n",
       "\n",
       "    .dataframe thead th {\n",
       "        text-align: right;\n",
       "    }\n",
       "</style>\n",
       "<table border=\"1\" class=\"dataframe\">\n",
       "  <thead>\n",
       "    <tr style=\"text-align: right;\">\n",
       "      <th></th>\n",
       "      <th>discapacidad.ano</th>\n",
       "      <th>discapacidad.estrato</th>\n",
       "    </tr>\n",
       "  </thead>\n",
       "  <tbody>\n",
       "    <tr>\n",
       "      <th>count</th>\n",
       "      <td>232282.000000</td>\n",
       "      <td>232282.000000</td>\n",
       "    </tr>\n",
       "    <tr>\n",
       "      <th>mean</th>\n",
       "      <td>2017.075619</td>\n",
       "      <td>2.206813</td>\n",
       "    </tr>\n",
       "    <tr>\n",
       "      <th>std</th>\n",
       "      <td>0.812545</td>\n",
       "      <td>0.889342</td>\n",
       "    </tr>\n",
       "    <tr>\n",
       "      <th>min</th>\n",
       "      <td>2016.000000</td>\n",
       "      <td>1.000000</td>\n",
       "    </tr>\n",
       "    <tr>\n",
       "      <th>25%</th>\n",
       "      <td>2016.000000</td>\n",
       "      <td>2.000000</td>\n",
       "    </tr>\n",
       "    <tr>\n",
       "      <th>50%</th>\n",
       "      <td>2017.000000</td>\n",
       "      <td>2.000000</td>\n",
       "    </tr>\n",
       "    <tr>\n",
       "      <th>75%</th>\n",
       "      <td>2018.000000</td>\n",
       "      <td>3.000000</td>\n",
       "    </tr>\n",
       "    <tr>\n",
       "      <th>max</th>\n",
       "      <td>2018.000000</td>\n",
       "      <td>7.000000</td>\n",
       "    </tr>\n",
       "  </tbody>\n",
       "</table>\n",
       "</div>"
      ],
      "text/plain": [
       "       discapacidad.ano  discapacidad.estrato\n",
       "count     232282.000000         232282.000000\n",
       "mean        2017.075619              2.206813\n",
       "std            0.812545              0.889342\n",
       "min         2016.000000              1.000000\n",
       "25%         2016.000000              2.000000\n",
       "50%         2017.000000              2.000000\n",
       "75%         2018.000000              3.000000\n",
       "max         2018.000000              7.000000"
      ]
     },
     "execution_count": 75,
     "metadata": {},
     "output_type": "execute_result"
    }
   ],
   "source": [
    "df.describe()"
   ]
  },
  {
   "cell_type": "markdown",
   "metadata": {},
   "source": [
    "## Histograma"
   ]
  },
  {
   "cell_type": "code",
   "execution_count": 76,
   "metadata": {},
   "outputs": [
    {
     "data": {
      "image/png": "[encoded data removed]",
      "text/plain": [
       "<Figure size 1440x720 with 1 Axes>"
      ]
     },
     "metadata": {
      "needs_background": "light"
     },
     "output_type": "display_data"
    }
   ],
   "source": [
    "estrato =  df['discapacidad.estrato'].values\n",
    "plt.figure(figsize=(20, 10))\n",
    "plt.hist(estrato, bins = 7)\n",
    "plt.xlabel('Estrato')\n",
    "plt.ylabel('Frecuencia')\n",
    "plt.title('Histograma de la estratos')\n",
    "plt.show()"
   ]
  },
  {
   "cell_type": "code",
   "execution_count": 2,
   "metadata": {},
   "outputs": [
    {
     "data": {
      "text/html": [
       "<div>\n",
       "<style scoped>\n",
       "    .dataframe tbody tr th:only-of-type {\n",
       "        vertical-align: middle;\n",
       "    }\n",
       "\n",
       "    .dataframe tbody tr th {\n",
       "        vertical-align: top;\n",
       "    }\n",
       "\n",
       "    .dataframe thead th {\n",
       "        text-align: right;\n",
       "    }\n",
       "</style>\n",
       "<table border=\"1\" class=\"dataframe\">\n",
       "  <thead>\n",
       "    <tr style=\"text-align: right;\">\n",
       "      <th>col_0</th>\n",
       "      <th>frecuencia</th>\n",
       "    </tr>\n",
       "    <tr>\n",
       "      <th>discapacidad.estrato</th>\n",
       "      <th></th>\n",
       "    </tr>\n",
       "  </thead>\n",
       "  <tbody>\n",
       "    <tr>\n",
       "      <th>1</th>\n",
       "      <td>46468</td>\n",
       "    </tr>\n",
       "    <tr>\n",
       "      <th>2</th>\n",
       "      <td>110423</td>\n",
       "    </tr>\n",
       "    <tr>\n",
       "      <th>3</th>\n",
       "      <td>61346</td>\n",
       "    </tr>\n",
       "    <tr>\n",
       "      <th>4</th>\n",
       "      <td>10513</td>\n",
       "    </tr>\n",
       "    <tr>\n",
       "      <th>5</th>\n",
       "      <td>2606</td>\n",
       "    </tr>\n",
       "    <tr>\n",
       "      <th>6</th>\n",
       "      <td>313</td>\n",
       "    </tr>\n",
       "    <tr>\n",
       "      <th>7</th>\n",
       "      <td>613</td>\n",
       "    </tr>\n",
       "  </tbody>\n",
       "</table>\n",
       "</div>"
      ],
      "text/plain": [
       "col_0                 frecuencia\n",
       "discapacidad.estrato            \n",
       "1                          46468\n",
       "2                         110423\n",
       "3                          61346\n",
       "4                          10513\n",
       "5                           2606\n",
       "6                            313\n",
       "7                            613"
      ]
     },
     "execution_count": 2,
     "metadata": {},
     "output_type": "execute_result"
    }
   ],
   "source": [
    "tab = pd.crosstab(index=df[\"discapacidad.estrato\"],columns=\"frecuencia\")\n",
    "tab"
   ]
  },
  {
   "cell_type": "markdown",
   "metadata": {},
   "source": [
    "## Gráfico de tortas"
   ]
  },
  {
   "cell_type": "code",
   "execution_count": 78,
   "metadata": {},
   "outputs": [
    {
     "data": {
      "image/png": "[encoded data removed]",
      "text/plain": [
       "<Figure size 720x720 with 1 Axes>"
      ]
     },
     "metadata": {},
     "output_type": "display_data"
    }
   ],
   "source": [
    "colores = [\"#EE6055\",\"#60D394\",\"#AAF683\",\"#FFD97D\",\"#FF9B85\", \"#60D394\", \"#AAF683\" ]\n",
    "desfase = (0.05, 0.05, 0.05, 0.05, 0.7, 0.4, 0.1)\n",
    "plt.figure(figsize=(10,10))\n",
    "plt.pie(tab.frecuencia, labels=tab.index, autopct=\"%0.1f %%\", colors=colores, explode=desfase)\n",
    "plt.title('Discapacidad por estrato')\n",
    "plt.show()"
   ]
  },
  {
   "cell_type": "markdown",
   "metadata": {},
   "source": [
    "## Gráfico de línea"
   ]
  },
  {
   "cell_type": "code",
   "execution_count": 79,
   "metadata": {},
   "outputs": [
    {
     "data": {
      "image/png": "[encoded data removed]",
      "text/plain": [
       "<Figure size 936x576 with 1 Axes>"
      ]
     },
     "metadata": {
      "needs_background": "light"
     },
     "output_type": "display_data"
    }
   ],
   "source": [
    "plt.figure(figsize=(13,8))\n",
    "x=tab.index\n",
    "y=tab.frecuencia\n",
    "plt.plot(x, y)\n",
    "plt.xlabel('Estrato')\n",
    "plt.ylabel('Frecuencia')\n",
    "plt.show()"
   ]
  }
 ],
 "metadata": {
  "kernelspec": {
   "display_name": "Python 3",
   "language": "python",
   "name": "python3"
  },
  "language_info": {
   "codemirror_mode": {
    "name": "ipython",
    "version": 3
   },
   "file_extension": ".py",
   "mimetype": "text/x-python",
   "name": "python",
   "nbconvert_exporter": "python",
   "pygments_lexer": "ipython3",
   "version": "3.8.3"
  }
 },
 "nbformat": 4,
 "nbformat_minor": 4
}
